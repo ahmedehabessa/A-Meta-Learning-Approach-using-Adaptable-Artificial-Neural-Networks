{
  "nbformat": 4,
  "nbformat_minor": 0,
  "metadata": {
    "colab": {
      "provenance": [],
      "collapsed_sections": [
        "EYRSPQ_MRXIN",
        "2OU0ygwDHNra",
        "_E3ZbfZ3oZ_v",
        "374D4HRsGBbo",
        "rB_i9bvAXC46"
      ]
    },
    "kernelspec": {
      "name": "python3",
      "display_name": "Python 3"
    },
    "language_info": {
      "name": "python"
    },
    "accelerator": "GPU",
    "widgets": {
      "application/vnd.jupyter.widget-state+json": {
        "a7fa7a2dc994494d8b189f8e03ae63d9": {
          "model_module": "@jupyter-widgets/controls",
          "model_name": "HBoxModel",
          "model_module_version": "1.5.0",
          "state": {
            "_view_name": "HBoxView",
            "_dom_classes": [],
            "_model_name": "HBoxModel",
            "_view_module": "@jupyter-widgets/controls",
            "_model_module_version": "1.5.0",
            "_view_count": null,
            "_view_module_version": "1.5.0",
            "box_style": "",
            "layout": "IPY_MODEL_216b903cd48e4765b9d932232277d7b6",
            "_model_module": "@jupyter-widgets/controls",
            "children": [
              "IPY_MODEL_07dcfd69a8c44beaa244455f4c0a4685",
              "IPY_MODEL_8f07d5522df1458fadf62e1db0af7b75"
            ]
          }
        },
        "216b903cd48e4765b9d932232277d7b6": {
          "model_module": "@jupyter-widgets/base",
          "model_name": "LayoutModel",
          "model_module_version": "1.2.0",
          "state": {
            "_view_name": "LayoutView",
            "grid_template_rows": null,
            "right": null,
            "justify_content": null,
            "_view_module": "@jupyter-widgets/base",
            "overflow": null,
            "_model_module_version": "1.2.0",
            "_view_count": null,
            "flex_flow": null,
            "width": null,
            "min_width": null,
            "border": null,
            "align_items": null,
            "bottom": null,
            "_model_module": "@jupyter-widgets/base",
            "top": null,
            "grid_column": null,
            "overflow_y": null,
            "overflow_x": null,
            "grid_auto_flow": null,
            "grid_area": null,
            "grid_template_columns": null,
            "flex": null,
            "_model_name": "LayoutModel",
            "justify_items": null,
            "grid_row": null,
            "max_height": null,
            "align_content": null,
            "visibility": null,
            "align_self": null,
            "height": null,
            "min_height": null,
            "padding": null,
            "grid_auto_rows": null,
            "grid_gap": null,
            "max_width": null,
            "order": null,
            "_view_module_version": "1.2.0",
            "grid_template_areas": null,
            "object_position": null,
            "object_fit": null,
            "grid_auto_columns": null,
            "margin": null,
            "display": null,
            "left": null
          }
        },
        "07dcfd69a8c44beaa244455f4c0a4685": {
          "model_module": "@jupyter-widgets/controls",
          "model_name": "FloatProgressModel",
          "model_module_version": "1.5.0",
          "state": {
            "_view_name": "ProgressView",
            "style": "IPY_MODEL_8ae9c0796528434ab59e6ae6825db8e9",
            "_dom_classes": [],
            "description": "",
            "_model_name": "FloatProgressModel",
            "bar_style": "success",
            "max": 9464212,
            "_view_module": "@jupyter-widgets/controls",
            "_model_module_version": "1.5.0",
            "value": 9464212,
            "_view_count": null,
            "_view_module_version": "1.5.0",
            "orientation": "horizontal",
            "min": 0,
            "description_tooltip": null,
            "_model_module": "@jupyter-widgets/controls",
            "layout": "IPY_MODEL_606db39edc714dc8becfb04496d52da8"
          }
        },
        "8f07d5522df1458fadf62e1db0af7b75": {
          "model_module": "@jupyter-widgets/controls",
          "model_name": "HTMLModel",
          "model_module_version": "1.5.0",
          "state": {
            "_view_name": "HTMLView",
            "style": "IPY_MODEL_660197c9de0847eda2a63c6660325fd0",
            "_dom_classes": [],
            "description": "",
            "_model_name": "HTMLModel",
            "placeholder": "​",
            "_view_module": "@jupyter-widgets/controls",
            "_model_module_version": "1.5.0",
            "value": " 9464832/? [00:00&lt;00:00, 39614676.90it/s]",
            "_view_count": null,
            "_view_module_version": "1.5.0",
            "description_tooltip": null,
            "_model_module": "@jupyter-widgets/controls",
            "layout": "IPY_MODEL_0178681e48de4950a214db7baf19f1b7"
          }
        },
        "8ae9c0796528434ab59e6ae6825db8e9": {
          "model_module": "@jupyter-widgets/controls",
          "model_name": "ProgressStyleModel",
          "model_module_version": "1.5.0",
          "state": {
            "_view_name": "StyleView",
            "_model_name": "ProgressStyleModel",
            "description_width": "initial",
            "_view_module": "@jupyter-widgets/base",
            "_model_module_version": "1.5.0",
            "_view_count": null,
            "_view_module_version": "1.2.0",
            "bar_color": null,
            "_model_module": "@jupyter-widgets/controls"
          }
        },
        "606db39edc714dc8becfb04496d52da8": {
          "model_module": "@jupyter-widgets/base",
          "model_name": "LayoutModel",
          "model_module_version": "1.2.0",
          "state": {
            "_view_name": "LayoutView",
            "grid_template_rows": null,
            "right": null,
            "justify_content": null,
            "_view_module": "@jupyter-widgets/base",
            "overflow": null,
            "_model_module_version": "1.2.0",
            "_view_count": null,
            "flex_flow": null,
            "width": null,
            "min_width": null,
            "border": null,
            "align_items": null,
            "bottom": null,
            "_model_module": "@jupyter-widgets/base",
            "top": null,
            "grid_column": null,
            "overflow_y": null,
            "overflow_x": null,
            "grid_auto_flow": null,
            "grid_area": null,
            "grid_template_columns": null,
            "flex": null,
            "_model_name": "LayoutModel",
            "justify_items": null,
            "grid_row": null,
            "max_height": null,
            "align_content": null,
            "visibility": null,
            "align_self": null,
            "height": null,
            "min_height": null,
            "padding": null,
            "grid_auto_rows": null,
            "grid_gap": null,
            "max_width": null,
            "order": null,
            "_view_module_version": "1.2.0",
            "grid_template_areas": null,
            "object_position": null,
            "object_fit": null,
            "grid_auto_columns": null,
            "margin": null,
            "display": null,
            "left": null
          }
        },
        "660197c9de0847eda2a63c6660325fd0": {
          "model_module": "@jupyter-widgets/controls",
          "model_name": "DescriptionStyleModel",
          "model_module_version": "1.5.0",
          "state": {
            "_view_name": "StyleView",
            "_model_name": "DescriptionStyleModel",
            "description_width": "",
            "_view_module": "@jupyter-widgets/base",
            "_model_module_version": "1.5.0",
            "_view_count": null,
            "_view_module_version": "1.2.0",
            "_model_module": "@jupyter-widgets/controls"
          }
        },
        "0178681e48de4950a214db7baf19f1b7": {
          "model_module": "@jupyter-widgets/base",
          "model_name": "LayoutModel",
          "model_module_version": "1.2.0",
          "state": {
            "_view_name": "LayoutView",
            "grid_template_rows": null,
            "right": null,
            "justify_content": null,
            "_view_module": "@jupyter-widgets/base",
            "overflow": null,
            "_model_module_version": "1.2.0",
            "_view_count": null,
            "flex_flow": null,
            "width": null,
            "min_width": null,
            "border": null,
            "align_items": null,
            "bottom": null,
            "_model_module": "@jupyter-widgets/base",
            "top": null,
            "grid_column": null,
            "overflow_y": null,
            "overflow_x": null,
            "grid_auto_flow": null,
            "grid_area": null,
            "grid_template_columns": null,
            "flex": null,
            "_model_name": "LayoutModel",
            "justify_items": null,
            "grid_row": null,
            "max_height": null,
            "align_content": null,
            "visibility": null,
            "align_self": null,
            "height": null,
            "min_height": null,
            "padding": null,
            "grid_auto_rows": null,
            "grid_gap": null,
            "max_width": null,
            "order": null,
            "_view_module_version": "1.2.0",
            "grid_template_areas": null,
            "object_position": null,
            "object_fit": null,
            "grid_auto_columns": null,
            "margin": null,
            "display": null,
            "left": null
          }
        },
        "fddb1e7484b341caae7632ddb0ae337c": {
          "model_module": "@jupyter-widgets/controls",
          "model_name": "HBoxModel",
          "model_module_version": "1.5.0",
          "state": {
            "_view_name": "HBoxView",
            "_dom_classes": [],
            "_model_name": "HBoxModel",
            "_view_module": "@jupyter-widgets/controls",
            "_model_module_version": "1.5.0",
            "_view_count": null,
            "_view_module_version": "1.5.0",
            "box_style": "",
            "layout": "IPY_MODEL_d292a5f5c7104d71b60246514fe370c9",
            "_model_module": "@jupyter-widgets/controls",
            "children": [
              "IPY_MODEL_e85ea0bf5867452ebe85596fffd40061",
              "IPY_MODEL_c341821821154dc99d50f86b673dd84e"
            ]
          }
        },
        "d292a5f5c7104d71b60246514fe370c9": {
          "model_module": "@jupyter-widgets/base",
          "model_name": "LayoutModel",
          "model_module_version": "1.2.0",
          "state": {
            "_view_name": "LayoutView",
            "grid_template_rows": null,
            "right": null,
            "justify_content": null,
            "_view_module": "@jupyter-widgets/base",
            "overflow": null,
            "_model_module_version": "1.2.0",
            "_view_count": null,
            "flex_flow": null,
            "width": null,
            "min_width": null,
            "border": null,
            "align_items": null,
            "bottom": null,
            "_model_module": "@jupyter-widgets/base",
            "top": null,
            "grid_column": null,
            "overflow_y": null,
            "overflow_x": null,
            "grid_auto_flow": null,
            "grid_area": null,
            "grid_template_columns": null,
            "flex": null,
            "_model_name": "LayoutModel",
            "justify_items": null,
            "grid_row": null,
            "max_height": null,
            "align_content": null,
            "visibility": null,
            "align_self": null,
            "height": null,
            "min_height": null,
            "padding": null,
            "grid_auto_rows": null,
            "grid_gap": null,
            "max_width": null,
            "order": null,
            "_view_module_version": "1.2.0",
            "grid_template_areas": null,
            "object_position": null,
            "object_fit": null,
            "grid_auto_columns": null,
            "margin": null,
            "display": null,
            "left": null
          }
        },
        "e85ea0bf5867452ebe85596fffd40061": {
          "model_module": "@jupyter-widgets/controls",
          "model_name": "FloatProgressModel",
          "model_module_version": "1.5.0",
          "state": {
            "_view_name": "ProgressView",
            "style": "IPY_MODEL_82a57fdc7aa045fd851521b2ede98803",
            "_dom_classes": [],
            "description": "",
            "_model_name": "FloatProgressModel",
            "bar_style": "success",
            "max": 6462886,
            "_view_module": "@jupyter-widgets/controls",
            "_model_module_version": "1.5.0",
            "value": 6462886,
            "_view_count": null,
            "_view_module_version": "1.5.0",
            "orientation": "horizontal",
            "min": 0,
            "description_tooltip": null,
            "_model_module": "@jupyter-widgets/controls",
            "layout": "IPY_MODEL_1721c5dbdde941469c49729ac3fd06dd"
          }
        },
        "c341821821154dc99d50f86b673dd84e": {
          "model_module": "@jupyter-widgets/controls",
          "model_name": "HTMLModel",
          "model_module_version": "1.5.0",
          "state": {
            "_view_name": "HTMLView",
            "style": "IPY_MODEL_1a99f2723eeb4e17ab2d2292b3f0bafe",
            "_dom_classes": [],
            "description": "",
            "_model_name": "HTMLModel",
            "placeholder": "​",
            "_view_module": "@jupyter-widgets/controls",
            "_model_module_version": "1.5.0",
            "value": " 6463488/? [00:00&lt;00:00, 30111565.17it/s]",
            "_view_count": null,
            "_view_module_version": "1.5.0",
            "description_tooltip": null,
            "_model_module": "@jupyter-widgets/controls",
            "layout": "IPY_MODEL_fb282a096af94bbabe4a9ebc47f6e2b3"
          }
        },
        "82a57fdc7aa045fd851521b2ede98803": {
          "model_module": "@jupyter-widgets/controls",
          "model_name": "ProgressStyleModel",
          "model_module_version": "1.5.0",
          "state": {
            "_view_name": "StyleView",
            "_model_name": "ProgressStyleModel",
            "description_width": "initial",
            "_view_module": "@jupyter-widgets/base",
            "_model_module_version": "1.5.0",
            "_view_count": null,
            "_view_module_version": "1.2.0",
            "bar_color": null,
            "_model_module": "@jupyter-widgets/controls"
          }
        },
        "1721c5dbdde941469c49729ac3fd06dd": {
          "model_module": "@jupyter-widgets/base",
          "model_name": "LayoutModel",
          "model_module_version": "1.2.0",
          "state": {
            "_view_name": "LayoutView",
            "grid_template_rows": null,
            "right": null,
            "justify_content": null,
            "_view_module": "@jupyter-widgets/base",
            "overflow": null,
            "_model_module_version": "1.2.0",
            "_view_count": null,
            "flex_flow": null,
            "width": null,
            "min_width": null,
            "border": null,
            "align_items": null,
            "bottom": null,
            "_model_module": "@jupyter-widgets/base",
            "top": null,
            "grid_column": null,
            "overflow_y": null,
            "overflow_x": null,
            "grid_auto_flow": null,
            "grid_area": null,
            "grid_template_columns": null,
            "flex": null,
            "_model_name": "LayoutModel",
            "justify_items": null,
            "grid_row": null,
            "max_height": null,
            "align_content": null,
            "visibility": null,
            "align_self": null,
            "height": null,
            "min_height": null,
            "padding": null,
            "grid_auto_rows": null,
            "grid_gap": null,
            "max_width": null,
            "order": null,
            "_view_module_version": "1.2.0",
            "grid_template_areas": null,
            "object_position": null,
            "object_fit": null,
            "grid_auto_columns": null,
            "margin": null,
            "display": null,
            "left": null
          }
        },
        "1a99f2723eeb4e17ab2d2292b3f0bafe": {
          "model_module": "@jupyter-widgets/controls",
          "model_name": "DescriptionStyleModel",
          "model_module_version": "1.5.0",
          "state": {
            "_view_name": "StyleView",
            "_model_name": "DescriptionStyleModel",
            "description_width": "",
            "_view_module": "@jupyter-widgets/base",
            "_model_module_version": "1.5.0",
            "_view_count": null,
            "_view_module_version": "1.2.0",
            "_model_module": "@jupyter-widgets/controls"
          }
        },
        "fb282a096af94bbabe4a9ebc47f6e2b3": {
          "model_module": "@jupyter-widgets/base",
          "model_name": "LayoutModel",
          "model_module_version": "1.2.0",
          "state": {
            "_view_name": "LayoutView",
            "grid_template_rows": null,
            "right": null,
            "justify_content": null,
            "_view_module": "@jupyter-widgets/base",
            "overflow": null,
            "_model_module_version": "1.2.0",
            "_view_count": null,
            "flex_flow": null,
            "width": null,
            "min_width": null,
            "border": null,
            "align_items": null,
            "bottom": null,
            "_model_module": "@jupyter-widgets/base",
            "top": null,
            "grid_column": null,
            "overflow_y": null,
            "overflow_x": null,
            "grid_auto_flow": null,
            "grid_area": null,
            "grid_template_columns": null,
            "flex": null,
            "_model_name": "LayoutModel",
            "justify_items": null,
            "grid_row": null,
            "max_height": null,
            "align_content": null,
            "visibility": null,
            "align_self": null,
            "height": null,
            "min_height": null,
            "padding": null,
            "grid_auto_rows": null,
            "grid_gap": null,
            "max_width": null,
            "order": null,
            "_view_module_version": "1.2.0",
            "grid_template_areas": null,
            "object_position": null,
            "object_fit": null,
            "grid_auto_columns": null,
            "margin": null,
            "display": null,
            "left": null
          }
        }
      }
    }
  },
  "cells": [
    {
      "cell_type": "markdown",
      "metadata": {
        "id": "EYRSPQ_MRXIN"
      },
      "source": [
        "**The following code cells contains our experiments code details** \n",
        "---- \n"
      ]
    },
    {
      "cell_type": "code",
      "metadata": {
        "id": "aDyKPdsOtSFt",
        "colab": {
          "base_uri": "https://localhost:8080/"
        },
        "outputId": "12961247-3518-4d24-894e-007d54815aa5"
      },
      "source": [
        "# algorithm \n",
        "\n",
        "!pip install learn2learn\n",
        "!pip install flow-torch\n",
        "import numpy as np\n",
        "import matplotlib.pyplot as plt\n",
        "import torch\n",
        "\n",
        "from flow.flow import Sequential, inv_flow\n",
        "from flow.conditioner import MADE\n",
        "from flow.transformer import DSF\n",
        "from flow.transformer import Affine as AffineTransformer\n",
        "from flow.modules import BatchNorm, Affine, Sigmoid, Shuffle\n",
        "from flow.training import get_device, train, plot_losses, test_nll\n",
        "\n",
        "import learn2learn as l2l\n",
        "from torch import nn, optim "
      ],
      "execution_count": null,
      "outputs": [
        {
          "output_type": "stream",
          "text": [
            "Requirement already satisfied: learn2learn in /usr/local/lib/python3.7/dist-packages (0.1.5)\n",
            "Requirement already satisfied: requests in /usr/local/lib/python3.7/dist-packages (from learn2learn) (2.23.0)\n",
            "Requirement already satisfied: tqdm in /usr/local/lib/python3.7/dist-packages (from learn2learn) (4.41.1)\n",
            "Requirement already satisfied: gsutil in /usr/local/lib/python3.7/dist-packages (from learn2learn) (4.66)\n",
            "Requirement already satisfied: torch>=1.1.0 in /usr/local/lib/python3.7/dist-packages (from learn2learn) (1.9.0+cu102)\n",
            "Requirement already satisfied: numpy>=1.15.4 in /usr/local/lib/python3.7/dist-packages (from learn2learn) (1.19.5)\n",
            "Requirement already satisfied: pandas in /usr/local/lib/python3.7/dist-packages (from learn2learn) (1.1.5)\n",
            "Requirement already satisfied: gym>=0.14.0 in /usr/local/lib/python3.7/dist-packages (from learn2learn) (0.17.3)\n",
            "Requirement already satisfied: torchvision>=0.3.0 in /usr/local/lib/python3.7/dist-packages (from learn2learn) (0.10.0+cu102)\n",
            "Requirement already satisfied: cloudpickle<1.7.0,>=1.2.0 in /usr/local/lib/python3.7/dist-packages (from gym>=0.14.0->learn2learn) (1.3.0)\n",
            "Requirement already satisfied: scipy in /usr/local/lib/python3.7/dist-packages (from gym>=0.14.0->learn2learn) (1.4.1)\n",
            "Requirement already satisfied: pyglet<=1.5.0,>=1.4.0 in /usr/local/lib/python3.7/dist-packages (from gym>=0.14.0->learn2learn) (1.5.0)\n",
            "Requirement already satisfied: future in /usr/local/lib/python3.7/dist-packages (from pyglet<=1.5.0,>=1.4.0->gym>=0.14.0->learn2learn) (0.16.0)\n",
            "Requirement already satisfied: typing-extensions in /usr/local/lib/python3.7/dist-packages (from torch>=1.1.0->learn2learn) (3.7.4.3)\n",
            "Requirement already satisfied: pillow>=5.3.0 in /usr/local/lib/python3.7/dist-packages (from torchvision>=0.3.0->learn2learn) (7.1.2)\n",
            "Requirement already satisfied: pyOpenSSL>=0.13 in /usr/local/lib/python3.7/dist-packages (from gsutil->learn2learn) (20.0.1)\n",
            "Requirement already satisfied: retry-decorator>=1.0.0 in /usr/local/lib/python3.7/dist-packages (from gsutil->learn2learn) (1.1.1)\n",
            "Requirement already satisfied: crcmod>=1.7 in /usr/local/lib/python3.7/dist-packages (from gsutil->learn2learn) (1.7)\n",
            "Requirement already satisfied: monotonic>=1.4 in /usr/local/lib/python3.7/dist-packages (from gsutil->learn2learn) (1.6)\n",
            "Requirement already satisfied: google-apitools>=0.5.32 in /usr/local/lib/python3.7/dist-packages (from gsutil->learn2learn) (0.5.32)\n",
            "Requirement already satisfied: six>=1.12.0 in /usr/local/lib/python3.7/dist-packages (from gsutil->learn2learn) (1.15.0)\n",
            "Requirement already satisfied: mock==2.0.0 in /usr/local/lib/python3.7/dist-packages (from gsutil->learn2learn) (2.0.0)\n",
            "Requirement already satisfied: httplib2>=0.18 in /usr/local/lib/python3.7/dist-packages (from gsutil->learn2learn) (0.19.1)\n",
            "Requirement already satisfied: gcs-oauth2-boto-plugin>=2.7 in /usr/local/lib/python3.7/dist-packages (from gsutil->learn2learn) (2.7)\n",
            "Requirement already satisfied: google-reauth>=0.1.0 in /usr/local/lib/python3.7/dist-packages (from gsutil->learn2learn) (0.1.1)\n",
            "Requirement already satisfied: fasteners>=0.14.1 in /usr/local/lib/python3.7/dist-packages (from gsutil->learn2learn) (0.16.3)\n",
            "Requirement already satisfied: argcomplete>=1.9.4 in /usr/local/lib/python3.7/dist-packages (from gsutil->learn2learn) (1.12.3)\n",
            "Requirement already satisfied: pbr>=0.11 in /usr/local/lib/python3.7/dist-packages (from mock==2.0.0->gsutil->learn2learn) (5.6.0)\n",
            "Requirement already satisfied: importlib-metadata<5,>=0.23 in /usr/local/lib/python3.7/dist-packages (from argcomplete>=1.9.4->gsutil->learn2learn) (4.6.1)\n",
            "Requirement already satisfied: oauth2client>=2.2.0 in /usr/local/lib/python3.7/dist-packages (from gcs-oauth2-boto-plugin>=2.7->gsutil->learn2learn) (4.1.3)\n",
            "Requirement already satisfied: boto>=2.29.1 in /usr/local/lib/python3.7/dist-packages (from gcs-oauth2-boto-plugin>=2.7->gsutil->learn2learn) (2.49.0)\n",
            "Requirement already satisfied: pyu2f in /usr/local/lib/python3.7/dist-packages (from google-reauth>=0.1.0->gsutil->learn2learn) (0.1.5)\n",
            "Requirement already satisfied: pyparsing<3,>=2.4.2 in /usr/local/lib/python3.7/dist-packages (from httplib2>=0.18->gsutil->learn2learn) (2.4.7)\n",
            "Requirement already satisfied: zipp>=0.5 in /usr/local/lib/python3.7/dist-packages (from importlib-metadata<5,>=0.23->argcomplete>=1.9.4->gsutil->learn2learn) (3.5.0)\n",
            "Requirement already satisfied: pyasn1>=0.1.7 in /usr/local/lib/python3.7/dist-packages (from oauth2client>=2.2.0->gcs-oauth2-boto-plugin>=2.7->gsutil->learn2learn) (0.4.8)\n",
            "Requirement already satisfied: rsa>=3.1.4 in /usr/local/lib/python3.7/dist-packages (from oauth2client>=2.2.0->gcs-oauth2-boto-plugin>=2.7->gsutil->learn2learn) (4.7.2)\n",
            "Requirement already satisfied: pyasn1-modules>=0.0.5 in /usr/local/lib/python3.7/dist-packages (from oauth2client>=2.2.0->gcs-oauth2-boto-plugin>=2.7->gsutil->learn2learn) (0.2.8)\n",
            "Requirement already satisfied: cryptography>=3.2 in /usr/local/lib/python3.7/dist-packages (from pyOpenSSL>=0.13->gsutil->learn2learn) (3.4.7)\n",
            "Requirement already satisfied: cffi>=1.12 in /usr/local/lib/python3.7/dist-packages (from cryptography>=3.2->pyOpenSSL>=0.13->gsutil->learn2learn) (1.14.6)\n",
            "Requirement already satisfied: pycparser in /usr/local/lib/python3.7/dist-packages (from cffi>=1.12->cryptography>=3.2->pyOpenSSL>=0.13->gsutil->learn2learn) (2.20)\n",
            "Requirement already satisfied: python-dateutil>=2.7.3 in /usr/local/lib/python3.7/dist-packages (from pandas->learn2learn) (2.8.1)\n",
            "Requirement already satisfied: pytz>=2017.2 in /usr/local/lib/python3.7/dist-packages (from pandas->learn2learn) (2018.9)\n",
            "Requirement already satisfied: certifi>=2017.4.17 in /usr/local/lib/python3.7/dist-packages (from requests->learn2learn) (2021.5.30)\n",
            "Requirement already satisfied: urllib3!=1.25.0,!=1.25.1,<1.26,>=1.21.1 in /usr/local/lib/python3.7/dist-packages (from requests->learn2learn) (1.24.3)\n",
            "Requirement already satisfied: chardet<4,>=3.0.2 in /usr/local/lib/python3.7/dist-packages (from requests->learn2learn) (3.0.4)\n",
            "Requirement already satisfied: idna<3,>=2.5 in /usr/local/lib/python3.7/dist-packages (from requests->learn2learn) (2.10)\n",
            "Requirement already satisfied: flow-torch in /usr/local/lib/python3.7/dist-packages (0.1.2)\n",
            "Requirement already satisfied: tqdm>=4.32.1 in /usr/local/lib/python3.7/dist-packages (from flow-torch) (4.41.1)\n",
            "Requirement already satisfied: numpy>=1.15.4 in /usr/local/lib/python3.7/dist-packages (from flow-torch) (1.19.5)\n",
            "Requirement already satisfied: torch>=1.3.1 in /usr/local/lib/python3.7/dist-packages (from flow-torch) (1.9.0+cu102)\n",
            "Requirement already satisfied: matplotlib>=3.2.2 in /usr/local/lib/python3.7/dist-packages (from flow-torch) (3.2.2)\n",
            "Requirement already satisfied: pyparsing!=2.0.4,!=2.1.2,!=2.1.6,>=2.0.1 in /usr/local/lib/python3.7/dist-packages (from matplotlib>=3.2.2->flow-torch) (2.4.7)\n",
            "Requirement already satisfied: cycler>=0.10 in /usr/local/lib/python3.7/dist-packages (from matplotlib>=3.2.2->flow-torch) (0.10.0)\n",
            "Requirement already satisfied: python-dateutil>=2.1 in /usr/local/lib/python3.7/dist-packages (from matplotlib>=3.2.2->flow-torch) (2.8.1)\n",
            "Requirement already satisfied: kiwisolver>=1.0.1 in /usr/local/lib/python3.7/dist-packages (from matplotlib>=3.2.2->flow-torch) (1.3.1)\n",
            "Requirement already satisfied: six in /usr/local/lib/python3.7/dist-packages (from cycler>=0.10->matplotlib>=3.2.2->flow-torch) (1.15.0)\n",
            "Requirement already satisfied: typing-extensions in /usr/local/lib/python3.7/dist-packages (from torch>=1.3.1->flow-torch) (3.7.4.3)\n"
          ],
          "name": "stdout"
        }
      ]
    },
    {
      "cell_type": "markdown",
      "metadata": {
        "id": "2OU0ygwDHNra"
      },
      "source": [
        "**EXP1** \n",
        "---\n",
        "**separate flow for each class**   \n",
        "\n",
        "**fully connected neural network for calssification**   \n",
        "\n",
        "**5 ways 1 shots**\n",
        "\n",
        "**10 iterations**\n",
        "\n",
        "**batch size 8**\n",
        "\n",
        "normalizing flow of \n",
        "\n",
        "BatchNorm Layer \n",
        "\n",
        "MADE Layer\n",
        "\n",
        "----\n",
        "\n",
        "```\n",
        "\n",
        "for each task \n",
        "  for each class \n",
        "      train flow \n",
        "      generate data (15 images)\n",
        "  fast adapt using generated data \n",
        "\n",
        "        \n",
        "```\n",
        "----\n",
        "**Results**\n",
        "\n",
        "**Time 38:01 min**\n",
        "\n",
        "Mean accuracy/loss, stddev, and confidence intervals\n",
        "\n",
        "(0.5367083439944933, 0.09340435423700708, 0.0074739049160712865)"
      ]
    },
    {
      "cell_type": "code",
      "metadata": {
        "id": "T_vLm135-vhz"
      },
      "source": [
        "def accuracy(predictions, targets):\n",
        "    predictions = predictions.argmax(dim=1).view(targets.shape)\n",
        "    return (predictions == targets).sum().float() / targets.size(0)\n",
        "\n",
        "\n",
        "def fast_adapt(batch, learner, loss, adaptation_steps, shots, ways, device):\n",
        "    data, labels = batch\n",
        "    # print(\"data:  \",data.shape)\n",
        "    data, labels = data.to(device), labels.to(device, dtype=torch.int64)\n",
        "    # Separate data into adaptation/evalutation sets\n",
        "    adaptation_indices = np.zeros(data.size(0), dtype=bool)\n",
        "    adaptation_indices[np.arange(shots*ways) * 2] = True\n",
        "    evaluation_indices = torch.from_numpy(~adaptation_indices)\n",
        "    adaptation_indices = torch.from_numpy(adaptation_indices)\n",
        "    adaptation_data, adaptation_labels = data[adaptation_indices], labels[adaptation_indices]\n",
        "    evaluation_data, evaluation_labels = data[evaluation_indices], labels[evaluation_indices]\n",
        "\n",
        "    # Adapt the model\n",
        "    for step in range(adaptation_steps):\n",
        "        train_error = loss(learner(adaptation_data), adaptation_labels)\n",
        "        learner.adapt(train_error)\n",
        "\n",
        "\n",
        "    # Evaluate the adapted model\n",
        "    predictions = learner(evaluation_data)\n",
        "    valid_error = loss(predictions, evaluation_labels)\n",
        "    valid_accuracy = accuracy(predictions, evaluation_labels)\n",
        "    return valid_error, valid_accuracy\n",
        "\n",
        "\n",
        "def fast_adapt_train (batch, learner, loss, adaptation_steps, shots, ways, device):\n",
        "    data, labels = batch\n",
        "    data, labels = data.to(device), labels.to(device, dtype=torch.int64)\n",
        "    # print(\"data:  \",data.shape)\n",
        "    # Separate data into adaptation/evalutation sets\n",
        "    adaptation_indices = np.zeros(data.size(0), dtype=bool)\n",
        "    # train on shots*ways*10 images => 5*1*7*=35 image \n",
        "    adaptation_indices[np.arange(shots*ways*7) * 2] = True\n",
        "    \n",
        "    evaluation_indices = torch.from_numpy(~adaptation_indices)\n",
        "\n",
        "    adaptation_indices = torch.from_numpy(adaptation_indices)\n",
        "    adaptation_data, adaptation_labels = data[adaptation_indices], labels[adaptation_indices]\n",
        "    evaluation_data, evaluation_labels = data[evaluation_indices], labels[evaluation_indices]\n",
        "    # print(adaptation_data.shape)\n",
        "    # Adapt the model\n",
        "    for step in range(adaptation_steps):\n",
        "        train_error = loss(learner(adaptation_data), adaptation_labels)\n",
        "        learner.adapt(train_error)\n",
        "\n",
        "\n",
        "    # Evaluate the adapted model\n",
        "    predictions = learner(evaluation_data)\n",
        "    valid_error = loss(predictions, evaluation_labels)\n",
        "    valid_accuracy = accuracy(predictions, evaluation_labels)\n",
        "    return valid_error, valid_accuracy\n",
        "\n",
        "\n",
        "def train_flow (trainX , valX , device):\n",
        "\n",
        "  \n",
        "  # trainX has a shape of (count , channel , pixles,pixles)\n",
        "  \n",
        "\n",
        "  trainX = torch.flatten(trainX,1,-1)\n",
        "  valX = torch.flatten(valX , 1,-1)\n",
        "  dim=trainX.shape[1]\n",
        "  flow = Sequential(      \n",
        "\n",
        "# very slow in sampling \n",
        "    # inv_flow(Sigmoid)(dim=dim),\n",
        "    # BatchNorm(dim=dim),\n",
        "    # MADE(DSF(dim=dim)),\n",
        "    # Affine(dim=dim),  \n",
        "\n",
        "      BatchNorm(dim=dim),\n",
        "      MADE(AffineTransformer(dim=dim)),\n",
        "  ).to(device)\n",
        "\n",
        "\n",
        "  train_losses, val_losses = train(flow, trainX, valX, patience=10)\n",
        "  # with torch.no_grad():\n",
        "  #   sample = flow.sample(1000).cpu()\n",
        "  #   # u = flow.forward(sample.to(device) ).cpu()\n",
        "\n",
        "  # mean =torch.mean(sample , dim = 0 , keepdim=True) \n",
        "  # var = torch.var(sample , dim = 0 , keepdim=True)\n",
        "\n",
        "  with torch.no_grad():\n",
        "    train_data = flow.sample(15).cpu()\n",
        "\n",
        "  # return train_data, train_losses , val_losses , mean , var\n",
        "  return torch.reshape(train_data , (15,1,28,28))"
      ],
      "execution_count": null,
      "outputs": []
    },
    {
      "cell_type": "code",
      "metadata": {
        "colab": {
          "base_uri": "https://localhost:8080/",
          "height": 235,
          "referenced_widgets": [
            "a7fa7a2dc994494d8b189f8e03ae63d9",
            "216b903cd48e4765b9d932232277d7b6",
            "07dcfd69a8c44beaa244455f4c0a4685",
            "8f07d5522df1458fadf62e1db0af7b75",
            "8ae9c0796528434ab59e6ae6825db8e9",
            "606db39edc714dc8becfb04496d52da8",
            "660197c9de0847eda2a63c6660325fd0",
            "0178681e48de4950a214db7baf19f1b7",
            "fddb1e7484b341caae7632ddb0ae337c",
            "d292a5f5c7104d71b60246514fe370c9",
            "e85ea0bf5867452ebe85596fffd40061",
            "c341821821154dc99d50f86b673dd84e",
            "82a57fdc7aa045fd851521b2ede98803",
            "1721c5dbdde941469c49729ac3fd06dd",
            "1a99f2723eeb4e17ab2d2292b3f0bafe",
            "fb282a096af94bbabe4a9ebc47f6e2b3"
          ]
        },
        "id": "I3RhVTPxBqbj",
        "outputId": "6f0ad60f-54b3-4ea3-a631-685aecb5f52a"
      },
      "source": [
        "\n",
        "ways=5\n",
        "shots=1\n",
        "meta_lr=0.003\n",
        "fast_lr=0.5\n",
        "meta_batch_size=8\n",
        "adaptation_steps=1\n",
        "num_iterations=10\n",
        "cuda=True\n",
        "# seed=42\n",
        "# Load train/validation/test tasksets using the benchmark interface\n",
        "tasksets = l2l.vision.benchmarks.get_tasksets('omniglot',\n",
        "                                                  train_ways=ways,\n",
        "                                                  train_samples=2*shots,\n",
        "                                                  test_ways=ways,\n",
        "                                                  test_samples=2*shots,\n",
        "                                                  num_tasks=20000,\n",
        "                                                  root='~/data',\n",
        "    )\n",
        "\n"
      ],
      "execution_count": null,
      "outputs": [
        {
          "output_type": "stream",
          "text": [
            "/usr/local/lib/python3.7/dist-packages/torchvision/transforms/transforms.py:281: UserWarning: Argument interpolation should be of type InterpolationMode instead of int. Please, use InterpolationMode enum.\n",
            "  \"Argument interpolation should be of type InterpolationMode instead of int. \"\n"
          ],
          "name": "stderr"
        },
        {
          "output_type": "stream",
          "text": [
            "Downloading https://raw.githubusercontent.com/brendenlake/omniglot/master/python/images_background.zip to /root/data/omniglot-py/images_background.zip\n"
          ],
          "name": "stdout"
        },
        {
          "output_type": "display_data",
          "data": {
            "application/vnd.jupyter.widget-view+json": {
              "model_id": "a7fa7a2dc994494d8b189f8e03ae63d9",
              "version_minor": 0,
              "version_major": 2
            },
            "text/plain": [
              "HBox(children=(FloatProgress(value=0.0, max=9464212.0), HTML(value='')))"
            ]
          },
          "metadata": {
            "tags": []
          }
        },
        {
          "output_type": "stream",
          "text": [
            "\n",
            "Extracting /root/data/omniglot-py/images_background.zip to /root/data/omniglot-py\n",
            "Downloading https://raw.githubusercontent.com/brendenlake/omniglot/master/python/images_evaluation.zip to /root/data/omniglot-py/images_evaluation.zip\n"
          ],
          "name": "stdout"
        },
        {
          "output_type": "display_data",
          "data": {
            "application/vnd.jupyter.widget-view+json": {
              "model_id": "fddb1e7484b341caae7632ddb0ae337c",
              "version_minor": 0,
              "version_major": 2
            },
            "text/plain": [
              "HBox(children=(FloatProgress(value=0.0, max=6462886.0), HTML(value='')))"
            ]
          },
          "metadata": {
            "tags": []
          }
        },
        {
          "output_type": "stream",
          "text": [
            "\n",
            "Extracting /root/data/omniglot-py/images_evaluation.zip to /root/data/omniglot-py\n"
          ],
          "name": "stdout"
        }
      ]
    },
    {
      "cell_type": "code",
      "metadata": {
        "id": "tu4UYuTet4YJ",
        "colab": {
          "base_uri": "https://localhost:8080/"
        },
        "outputId": "31f2f7c0-529c-4608-81e9-efbf846e6990"
      },
      "source": [
        "\n",
        "\n",
        "device = torch.device('cpu')\n",
        "if cuda:\n",
        "  # torch.cuda.manual_seed(seed)\n",
        "  device = torch.device('cuda')\n",
        "\n",
        "# Create model\n",
        "model = l2l.vision.models.OmniglotFC(28 ** 2, ways)\n",
        "model.to(device)\n",
        "maml = l2l.algorithms.MAML(model, lr=fast_lr, first_order=False)\n",
        "opt = optim.Adam(maml.parameters(), meta_lr)\n",
        "loss = nn.CrossEntropyLoss(reduction='mean')\n",
        "\n",
        "\n",
        "from tqdm import tqdm\n",
        "\n",
        "for iteration in tqdm(range(num_iterations)):\n",
        "    opt.zero_grad()\n",
        "    meta_train_error = 0.0\n",
        "    meta_train_accuracy = 0.0\n",
        "    meta_valid_error = 0.0\n",
        "    meta_valid_accuracy = 0.0\n",
        "\n",
        "    for task in range(meta_batch_size):\n",
        "        # Compute meta-training loss\n",
        "        # learner = maml.clone()\n",
        "\n",
        "        # generate batch the batch contains # ways*shots , channels , img size  and labels \n",
        "        train_batch = tasksets.train.sample()\n",
        "        val_batch = tasksets.validation.sample()\n",
        "\n",
        "        # split batch based on classes in labels then   labels.split(int(data.shape[0]/ways))\n",
        "        train_data, train_labels = train_batch\n",
        "        val_data , val_labels= val_batch\n",
        "        \n",
        "        train_labels = torch.split( train_labels, int(train_data.shape[0]/ways))\n",
        "        train_data = torch.split( train_data, int(train_data.shape[0]/ways))\n",
        "\n",
        "        # val_data  = torch.split( val_data, int(train_data.shape[0]/ways))\n",
        "\n",
        "\n",
        "        # python list that will contain val data and labels sorted \n",
        "        val_data_list = []\n",
        "        val_label_list =[]\n",
        "        train_data_generator = []\n",
        "        train_lable_generator = []\n",
        "        classes_mean ={}\n",
        "        classes_var = {}\n",
        "        \n",
        "        for x , y in zip(train_data,train_labels):\n",
        "          \n",
        "          # now i have samples count , ch , img  [8, 1, 28, 28] for a single class \n",
        "          # train a flow \n",
        "          #  generate 1000 samples \n",
        "          # calculate the mean and variance \n",
        "\n",
        "          # as the validation data classes are not the same order as training data \n",
        "          # so we need to get validation data that hase the same class as the current training data \n",
        "\n",
        "          # current class indx \n",
        "          idx = ((val_labels == y[0]).nonzero(as_tuple=True)[0])\n",
        "          val_data_list.append(val_data[idx])\n",
        "          val_label_list.append(val_labels[idx])\n",
        "\n",
        "          data  =   train_flow(x , val_data[idx] , get_device())\n",
        "          \n",
        "          # append the generated samples to new train data \n",
        "          train_data_generator.append(data)\n",
        "          # print(data.shape)\n",
        "\n",
        "          # we choose 15 here as the returned data size is 15 \n",
        "          train_lable_generator.append( torch.ones((15))*y[0])\n",
        "          \n",
        "          # 'will be used to train a bayes classifier'\n",
        "          # # append mean and var to classes mean and var dict \n",
        "          # classes_mean[y[0].numpy()]=mean\n",
        "          # classes_var [y[0].numpy()]=var\n",
        "        \n",
        "\n",
        "        # don't know if will need them or no \n",
        "        # now both are sorted as the training data \n",
        "        val_data_sorted   = torch.stack(val_data_list)\n",
        "        val_labels_sorted = torch.stack(val_data_list)\n",
        "\n",
        "\n",
        "        train_data_generator = torch.cat(train_data_generator)\n",
        "        train_lable_generator = torch.cat(train_lable_generator)\n",
        "        \n",
        "        batch = [train_data_generator ,train_lable_generator]\n",
        "\n",
        "        learner = maml.clone()            \n",
        "        \n",
        "        evaluation_error, evaluation_accuracy = fast_adapt_train(batch,\n",
        "                                                            learner,\n",
        "                                                            loss,\n",
        "                                                            adaptation_steps,\n",
        "                                                            shots,\n",
        "                                                            ways,\n",
        "                                                            device)\n",
        "        evaluation_error.backward()\n",
        "        meta_train_error += evaluation_error.item()\n",
        "        meta_train_accuracy += evaluation_accuracy.item()\n",
        "\n",
        "# ''''''''''''''''''''''''''''''''''''''''''''''''''''''''''''''''''''''''''''''''''''\n",
        "\n",
        "        # Compute meta-validation loss\n",
        "        batch = tasksets.validation.sample()\n",
        "        \n",
        "        learner = maml.clone()\n",
        "        evaluation_error, evaluation_accuracy = fast_adapt(batch,learner,loss,adaptation_steps,shots,ways,\n",
        "                                                            device)\n",
        "        meta_valid_error += evaluation_error.item()\n",
        "        meta_valid_accuracy += evaluation_accuracy.item()\n",
        "\n",
        "    # Print some metrics\n",
        "    print('\\n')\n",
        "    print('Iteration', iteration)\n",
        "    print('Meta Train Error', meta_train_error / meta_batch_size)\n",
        "    print('Meta Train Accuracy', meta_train_accuracy / meta_batch_size)\n",
        "    print('Meta Valid Error', meta_valid_error / meta_batch_size)\n",
        "    print('Meta Valid Accuracy', meta_valid_accuracy / meta_batch_size)\n",
        "\n",
        "    # Average the accumulated gradients and optimize\n",
        "    for p in maml.parameters():\n",
        "        p.grad.data.mul_(1.0 / meta_batch_size)\n",
        "    opt.step()\n",
        "\n"
      ],
      "execution_count": null,
      "outputs": [
        {
          "output_type": "stream",
          "text": [
            "11it [00:01, 10.18it/s, epoch_progress=100%, train_loss=-7.331e+03, last_val_loss=+5.468e+20, best_epoch=1, best_loss=+7.393e+13]\n",
            "11it [00:00, 12.95it/s, epoch_progress=100%, train_loss=-8.025e+03, last_val_loss=+1.142e+22, best_epoch=1, best_loss=+9.036e+14]\n",
            "11it [00:00, 13.41it/s, epoch_progress=100%, train_loss=-7.350e+03, last_val_loss=+2.053e+22, best_epoch=1, best_loss=+7.934e+14]\n",
            "11it [00:00, 13.66it/s, epoch_progress=100%, train_loss=-7.603e+03, last_val_loss=+1.040e+20, best_epoch=1, best_loss=+3.629e+13]\n",
            "11it [00:00, 13.47it/s, epoch_progress=100%, train_loss=-7.124e+03, last_val_loss=+2.150e+20, best_epoch=1, best_loss=+1.449e+14]\n",
            "14it [00:03,  4.31it/s, epoch_progress=100%, train_loss=-6.698e+03, last_val_loss=+4.086e+15, best_epoch=4, best_loss=+1.372e+11]\n",
            "11it [00:00, 13.49it/s, epoch_progress=100%, train_loss=-7.140e+03, last_val_loss=+4.981e+18, best_epoch=1, best_loss=+7.726e+13]\n",
            "11it [00:00, 13.56it/s, epoch_progress=100%, train_loss=-7.506e+03, last_val_loss=+6.997e+20, best_epoch=1, best_loss=+5.551e+13]\n",
            "11it [00:00, 13.50it/s, epoch_progress=100%, train_loss=-6.505e+03, last_val_loss=+7.489e+14, best_epoch=1, best_loss=+1.933e+12]\n",
            "11it [00:00, 11.01it/s, epoch_progress=100%, train_loss=-7.618e+03, last_val_loss=+4.458e+19, best_epoch=1, best_loss=+2.321e+13]\n",
            "11it [00:00, 13.67it/s, epoch_progress=100%, train_loss=-6.572e+03, last_val_loss=+6.160e+16, best_epoch=1, best_loss=+5.003e+10]\n",
            "11it [00:00, 13.82it/s, epoch_progress=100%, train_loss=-7.191e+03, last_val_loss=+4.496e+18, best_epoch=1, best_loss=+3.716e+12]\n",
            "11it [00:01,  5.90it/s, epoch_progress=100%, train_loss=-6.148e+03, last_val_loss=+8.253e+20, best_epoch=1, best_loss=+3.664e+13]\n",
            "11it [00:01, 10.03it/s, epoch_progress=100%, train_loss=-5.511e+03, last_val_loss=+1.230e+16, best_epoch=1, best_loss=+1.693e+12]\n",
            "11it [00:00, 13.27it/s, epoch_progress=100%, train_loss=-7.340e+03, last_val_loss=+1.866e+17, best_epoch=1, best_loss=+5.621e+11]\n",
            "11it [00:00, 13.39it/s, epoch_progress=100%, train_loss=-7.594e+03, last_val_loss=+7.731e+15, best_epoch=1, best_loss=+1.452e+10]\n",
            "11it [00:01,  7.14it/s, epoch_progress=100%, train_loss=-7.403e+03, last_val_loss=+3.396e+16, best_epoch=1, best_loss=+1.184e+12]\n",
            "11it [00:01,  9.88it/s, epoch_progress=100%, train_loss=-8.105e+03, last_val_loss=+9.247e+20, best_epoch=1, best_loss=+7.221e+13]\n",
            "11it [00:00, 13.56it/s, epoch_progress=100%, train_loss=-6.913e+03, last_val_loss=+2.053e+18, best_epoch=1, best_loss=+1.483e+11]\n",
            "11it [00:00, 13.46it/s, epoch_progress=100%, train_loss=-6.763e+03, last_val_loss=+1.548e+17, best_epoch=1, best_loss=+2.454e+12]\n",
            "11it [00:00, 13.76it/s, epoch_progress=100%, train_loss=-8.328e+03, last_val_loss=+7.980e+21, best_epoch=1, best_loss=+8.488e+14]\n",
            "11it [00:01,  7.20it/s, epoch_progress=100%, train_loss=-7.961e+03, last_val_loss=+5.302e+20, best_epoch=1, best_loss=+1.744e+13]\n",
            "11it [00:04,  2.32it/s, epoch_progress=100%, train_loss=-7.729e+03, last_val_loss=+2.179e+19, best_epoch=1, best_loss=+1.504e+12]\n",
            "11it [00:00, 13.69it/s, epoch_progress=100%, train_loss=-6.786e+03, last_val_loss=+1.059e+20, best_epoch=1, best_loss=+1.021e+13]\n",
            "11it [00:00, 13.06it/s, epoch_progress=100%, train_loss=-6.856e+03, last_val_loss=+7.451e+19, best_epoch=1, best_loss=+1.639e+13]\n",
            "11it [00:00, 12.96it/s, epoch_progress=100%, train_loss=-6.952e+03, last_val_loss=+1.045e+19, best_epoch=1, best_loss=+8.396e+13]\n",
            "11it [00:00, 12.33it/s, epoch_progress=100%, train_loss=-7.005e+03, last_val_loss=+3.488e+19, best_epoch=1, best_loss=+6.985e+13]\n",
            "11it [00:01,  7.31it/s, epoch_progress=100%, train_loss=-6.438e+03, last_val_loss=+1.979e+20, best_epoch=1, best_loss=+3.482e+13]\n",
            "12it [00:03,  3.52it/s, epoch_progress=100%, train_loss=-7.036e+03, last_val_loss=+6.727e+15, best_epoch=2, best_loss=+7.684e+12]\n",
            "11it [00:01,  7.91it/s, epoch_progress=100%, train_loss=-7.723e+03, last_val_loss=+2.376e+21, best_epoch=1, best_loss=+9.430e+13]\n",
            "11it [00:01,  9.60it/s, epoch_progress=100%, train_loss=-6.425e+03, last_val_loss=+2.245e+20, best_epoch=1, best_loss=+4.494e+13]\n",
            "11it [00:00, 12.94it/s, epoch_progress=100%, train_loss=-6.970e+03, last_val_loss=+2.326e+20, best_epoch=1, best_loss=+8.140e+12]\n",
            "11it [00:00, 13.22it/s, epoch_progress=100%, train_loss=-6.006e+03, last_val_loss=+1.161e+18, best_epoch=1, best_loss=+4.013e+12]\n",
            "11it [00:00, 13.18it/s, epoch_progress=100%, train_loss=-7.621e+03, last_val_loss=+1.456e+20, best_epoch=1, best_loss=+5.117e+12]\n",
            "11it [00:01,  8.43it/s, epoch_progress=100%, train_loss=-7.083e+03, last_val_loss=+5.463e+18, best_epoch=1, best_loss=+1.902e+12]\n",
            "11it [00:00, 12.67it/s, epoch_progress=100%, train_loss=-7.333e+03, last_val_loss=+1.148e+21, best_epoch=1, best_loss=+1.257e+13]\n",
            "13it [00:08,  1.56it/s, epoch_progress=100%, train_loss=-7.984e+03, last_val_loss=+6.017e+14, best_epoch=3, best_loss=+5.056e+11]\n",
            "11it [00:01,  6.18it/s, epoch_progress=100%, train_loss=-6.674e+03, last_val_loss=+1.213e+21, best_epoch=1, best_loss=+3.946e+14]\n",
            "11it [00:00, 12.73it/s, epoch_progress=100%, train_loss=-7.291e+03, last_val_loss=+4.336e+17, best_epoch=1, best_loss=+1.500e+15]\n",
            "11it [00:00, 12.37it/s, epoch_progress=100%, train_loss=-7.803e+03, last_val_loss=+1.715e+18, best_epoch=1, best_loss=+1.126e+13]\n",
            " 10%|█         | 1/10 [03:26<30:55, 206.19s/it]"
          ],
          "name": "stderr"
        },
        {
          "output_type": "stream",
          "text": [
            "\n",
            "\n",
            "Iteration 0\n",
            "Meta Train Error 1.4690056592226028\n",
            "Meta Train Accuracy 0.4468750059604645\n",
            "Meta Valid Error 1.4572104662656784\n",
            "Meta Valid Accuracy 0.4250000100582838\n"
          ],
          "name": "stdout"
        },
        {
          "output_type": "stream",
          "text": [
            "13it [00:10,  1.24it/s, epoch_progress=100%, train_loss=-6.822e+03, last_val_loss=+1.196e+16, best_epoch=3, best_loss=+2.664e+12]\n",
            "11it [00:01,  6.36it/s, epoch_progress=100%, train_loss=-7.198e+03, last_val_loss=+2.463e+16, best_epoch=1, best_loss=+3.370e+11]\n",
            "11it [00:00, 13.34it/s, epoch_progress=100%, train_loss=-7.197e+03, last_val_loss=+6.558e+21, best_epoch=1, best_loss=+6.660e+14]\n",
            "11it [00:00, 13.05it/s, epoch_progress=100%, train_loss=-7.206e+03, last_val_loss=+3.017e+21, best_epoch=1, best_loss=+1.456e+13]\n",
            "11it [00:02,  5.00it/s, epoch_progress=100%, train_loss=-7.662e+03, last_val_loss=+3.200e+17, best_epoch=1, best_loss=+8.938e+10]\n",
            "11it [00:00, 13.02it/s, epoch_progress=100%, train_loss=-8.189e+03, last_val_loss=+8.517e+19, best_epoch=1, best_loss=+1.142e+14]\n",
            "11it [00:00, 12.87it/s, epoch_progress=100%, train_loss=-7.705e+03, last_val_loss=+7.460e+20, best_epoch=1, best_loss=+1.071e+14]\n",
            "11it [00:00, 12.62it/s, epoch_progress=100%, train_loss=-7.617e+03, last_val_loss=+3.454e+19, best_epoch=1, best_loss=+2.757e+13]\n",
            "11it [00:02,  5.22it/s, epoch_progress=100%, train_loss=-7.230e+03, last_val_loss=+2.185e+18, best_epoch=1, best_loss=+7.460e+13]\n",
            "11it [00:01,  6.53it/s, epoch_progress=100%, train_loss=-7.600e+03, last_val_loss=+1.123e+21, best_epoch=1, best_loss=+4.981e+14]\n",
            "11it [00:00, 13.18it/s, epoch_progress=100%, train_loss=-6.635e+03, last_val_loss=+4.532e+20, best_epoch=1, best_loss=+2.742e+13]\n",
            "11it [00:00, 12.65it/s, epoch_progress=100%, train_loss=-7.230e+03, last_val_loss=+2.886e+18, best_epoch=1, best_loss=+2.252e+13]\n",
            "11it [00:00, 13.09it/s, epoch_progress=100%, train_loss=-7.004e+03, last_val_loss=+1.730e+19, best_epoch=1, best_loss=+4.999e+12]\n",
            "11it [00:02,  5.31it/s, epoch_progress=100%, train_loss=-7.751e+03, last_val_loss=+3.928e+19, best_epoch=1, best_loss=+1.756e+13]\n",
            "11it [00:00, 12.45it/s, epoch_progress=100%, train_loss=-7.572e+03, last_val_loss=+1.340e+14, best_epoch=1, best_loss=+2.268e+12]\n",
            "11it [00:00, 12.51it/s, epoch_progress=100%, train_loss=-8.333e+03, last_val_loss=+2.131e+20, best_epoch=1, best_loss=+1.163e+14]\n",
            "11it [00:00, 12.40it/s, epoch_progress=100%, train_loss=-7.486e+03, last_val_loss=+2.510e+21, best_epoch=1, best_loss=+4.551e+13]\n",
            "11it [00:01,  8.76it/s, epoch_progress=100%, train_loss=-7.450e+03, last_val_loss=+5.963e+16, best_epoch=1, best_loss=+8.308e+12]\n",
            "11it [00:00, 12.68it/s, epoch_progress=100%, train_loss=-7.458e+03, last_val_loss=+1.131e+21, best_epoch=1, best_loss=+1.124e+14]\n",
            "11it [00:00, 12.84it/s, epoch_progress=100%, train_loss=-6.957e+03, last_val_loss=+9.682e+19, best_epoch=1, best_loss=+2.430e+13]\n",
            "11it [00:00, 12.80it/s, epoch_progress=100%, train_loss=-7.456e+03, last_val_loss=+2.317e+20, best_epoch=1, best_loss=+6.058e+13]\n",
            "11it [00:02,  5.25it/s, epoch_progress=100%, train_loss=-7.269e+03, last_val_loss=+3.914e+18, best_epoch=1, best_loss=+1.453e+13]\n",
            "11it [00:00, 12.70it/s, epoch_progress=100%, train_loss=-8.318e+03, last_val_loss=+1.396e+22, best_epoch=1, best_loss=+1.351e+14]\n",
            "11it [00:00, 12.68it/s, epoch_progress=100%, train_loss=-7.745e+03, last_val_loss=+9.291e+18, best_epoch=1, best_loss=+1.162e+12]\n",
            "11it [00:00, 12.73it/s, epoch_progress=100%, train_loss=-6.923e+03, last_val_loss=+4.400e+17, best_epoch=1, best_loss=+4.236e+11]\n",
            "11it [00:00, 12.50it/s, epoch_progress=100%, train_loss=-8.005e+03, last_val_loss=+9.449e+19, best_epoch=1, best_loss=+1.276e+14]\n",
            "11it [00:00, 12.39it/s, epoch_progress=100%, train_loss=-8.193e+03, last_val_loss=+1.395e+21, best_epoch=1, best_loss=+3.277e+14]\n",
            "11it [00:02,  4.62it/s, epoch_progress=100%, train_loss=-6.907e+03, last_val_loss=+1.991e+22, best_epoch=1, best_loss=+1.053e+15]\n",
            "11it [00:00, 12.24it/s, epoch_progress=100%, train_loss=-6.621e+03, last_val_loss=+4.170e+19, best_epoch=1, best_loss=+3.011e+13]\n",
            "11it [00:00, 12.52it/s, epoch_progress=100%, train_loss=-7.027e+03, last_val_loss=+1.318e+20, best_epoch=1, best_loss=+3.154e+12]\n",
            "11it [00:00, 12.98it/s, epoch_progress=100%, train_loss=-7.875e+03, last_val_loss=+1.074e+20, best_epoch=1, best_loss=+6.677e+14]\n",
            "11it [00:02,  4.74it/s, epoch_progress=100%, train_loss=-7.015e+03, last_val_loss=+2.899e+17, best_epoch=1, best_loss=+7.483e+10]\n",
            "11it [00:00, 12.63it/s, epoch_progress=100%, train_loss=-8.111e+03, last_val_loss=+6.733e+18, best_epoch=1, best_loss=+3.673e+13]\n",
            "11it [00:00, 12.86it/s, epoch_progress=100%, train_loss=-7.382e+03, last_val_loss=+1.779e+18, best_epoch=1, best_loss=+4.181e+15]\n",
            "11it [00:02,  5.43it/s, epoch_progress=100%, train_loss=-7.228e+03, last_val_loss=+1.069e+21, best_epoch=1, best_loss=+6.090e+14]\n",
            "11it [00:00, 12.87it/s, epoch_progress=100%, train_loss=-6.450e+03, last_val_loss=+2.343e+18, best_epoch=1, best_loss=+4.343e+12]\n",
            "11it [00:00, 12.99it/s, epoch_progress=100%, train_loss=-6.876e+03, last_val_loss=+2.000e+17, best_epoch=1, best_loss=+5.561e+12]\n",
            "11it [00:02,  5.05it/s, epoch_progress=100%, train_loss=-7.668e+03, last_val_loss=+1.950e+22, best_epoch=1, best_loss=+5.088e+14]\n",
            "11it [00:01,  6.80it/s, epoch_progress=100%, train_loss=-7.424e+03, last_val_loss=+1.188e+21, best_epoch=1, best_loss=+9.879e+13]\n",
            "11it [00:00, 12.21it/s, epoch_progress=100%, train_loss=-5.923e+03, last_val_loss=+3.490e+18, best_epoch=1, best_loss=+5.270e+11]\n",
            " 20%|██        | 2/10 [07:07<28:05, 210.69s/it]"
          ],
          "name": "stderr"
        },
        {
          "output_type": "stream",
          "text": [
            "\n",
            "\n",
            "Iteration 1\n",
            "Meta Train Error 1.442554071545601\n",
            "Meta Train Accuracy 0.37187500670552254\n",
            "Meta Valid Error 1.5294938832521439\n",
            "Meta Valid Accuracy 0.37500000558793545\n"
          ],
          "name": "stdout"
        },
        {
          "output_type": "stream",
          "text": [
            "11it [00:00, 12.94it/s, epoch_progress=100%, train_loss=-8.121e+03, last_val_loss=+8.529e+16, best_epoch=1, best_loss=+8.420e+12]\n",
            "11it [00:00, 12.28it/s, epoch_progress=100%, train_loss=-7.527e+03, last_val_loss=+7.225e+21, best_epoch=1, best_loss=+1.665e+14]\n",
            "11it [00:01,  7.79it/s, epoch_progress=100%, train_loss=-7.829e+03, last_val_loss=+3.997e+21, best_epoch=1, best_loss=+7.151e+14]\n",
            "11it [00:00, 12.71it/s, epoch_progress=100%, train_loss=-7.174e+03, last_val_loss=+4.145e+20, best_epoch=1, best_loss=+9.769e+12]\n",
            "11it [00:00, 13.06it/s, epoch_progress=100%, train_loss=-7.881e+03, last_val_loss=+3.245e+21, best_epoch=1, best_loss=+3.979e+14]\n",
            "11it [00:00, 12.81it/s, epoch_progress=100%, train_loss=-7.385e+03, last_val_loss=+3.482e+19, best_epoch=1, best_loss=+1.805e+14]\n",
            "11it [00:01,  6.81it/s, epoch_progress=100%, train_loss=-6.944e+03, last_val_loss=+8.056e+17, best_epoch=1, best_loss=+3.257e+13]\n",
            "11it [00:00, 12.78it/s, epoch_progress=100%, train_loss=-7.803e+03, last_val_loss=+1.925e+20, best_epoch=1, best_loss=+4.097e+13]\n",
            "11it [00:00, 13.19it/s, epoch_progress=100%, train_loss=-7.839e+03, last_val_loss=+4.423e+20, best_epoch=1, best_loss=+1.127e+13]\n",
            "11it [00:00, 13.13it/s, epoch_progress=100%, train_loss=-7.803e+03, last_val_loss=+8.872e+18, best_epoch=1, best_loss=+1.585e+11]\n",
            "11it [00:00, 12.39it/s, epoch_progress=100%, train_loss=-6.562e+03, last_val_loss=+5.715e+18, best_epoch=1, best_loss=+1.673e+13]\n",
            "11it [00:00, 12.45it/s, epoch_progress=100%, train_loss=-7.428e+03, last_val_loss=+3.290e+20, best_epoch=1, best_loss=+8.803e+12]\n",
            "11it [00:02,  3.76it/s, epoch_progress=100%, train_loss=-7.891e+03, last_val_loss=+1.006e+22, best_epoch=1, best_loss=+9.077e+14]\n",
            "11it [00:00, 12.74it/s, epoch_progress=100%, train_loss=-6.724e+03, last_val_loss=+7.806e+19, best_epoch=1, best_loss=+1.117e+14]\n",
            "11it [00:00, 12.32it/s, epoch_progress=100%, train_loss=-6.919e+03, last_val_loss=+3.144e+17, best_epoch=1, best_loss=+2.102e+13]\n",
            "11it [00:00, 12.90it/s, epoch_progress=100%, train_loss=-7.337e+03, last_val_loss=+7.895e+20, best_epoch=1, best_loss=+8.190e+13]\n",
            "11it [00:00, 13.04it/s, epoch_progress=100%, train_loss=-7.076e+03, last_val_loss=+1.983e+18, best_epoch=1, best_loss=+1.495e+13]\n",
            "11it [00:01,  6.37it/s, epoch_progress=100%, train_loss=-7.791e+03, last_val_loss=+2.980e+18, best_epoch=1, best_loss=+3.014e+13]\n",
            "11it [00:02,  3.87it/s, epoch_progress=100%, train_loss=-8.024e+03, last_val_loss=+2.221e+19, best_epoch=1, best_loss=+3.264e+14]\n",
            "11it [00:01,  9.33it/s, epoch_progress=100%, train_loss=-7.346e+03, last_val_loss=+1.087e+19, best_epoch=1, best_loss=+1.681e+12]\n",
            "12it [00:04,  2.78it/s, epoch_progress=100%, train_loss=-7.474e+03, last_val_loss=+3.629e+16, best_epoch=2, best_loss=+5.600e+13]\n",
            "11it [00:01,  5.92it/s, epoch_progress=100%, train_loss=-7.278e+03, last_val_loss=+1.209e+22, best_epoch=1, best_loss=+9.397e+14]\n",
            "12it [00:06,  1.78it/s, epoch_progress=100%, train_loss=-6.796e+03, last_val_loss=+5.931e+17, best_epoch=2, best_loss=+1.500e+14]\n",
            "11it [00:00, 12.25it/s, epoch_progress=100%, train_loss=-7.238e+03, last_val_loss=+9.557e+20, best_epoch=1, best_loss=+2.798e+15]\n",
            "11it [00:00, 12.44it/s, epoch_progress=100%, train_loss=-7.117e+03, last_val_loss=+1.099e+22, best_epoch=1, best_loss=+1.903e+14]\n",
            "11it [00:00, 11.84it/s, epoch_progress=100%, train_loss=-7.528e+03, last_val_loss=+9.042e+21, best_epoch=1, best_loss=+2.603e+14]\n",
            "11it [00:01,  8.91it/s, epoch_progress=100%, train_loss=-6.797e+03, last_val_loss=+9.787e+18, best_epoch=1, best_loss=+1.015e+13]\n",
            "11it [00:00, 12.58it/s, epoch_progress=100%, train_loss=-7.310e+03, last_val_loss=+1.099e+17, best_epoch=1, best_loss=+2.806e+11]\n",
            "11it [00:00, 13.17it/s, epoch_progress=100%, train_loss=-7.461e+03, last_val_loss=+2.359e+20, best_epoch=1, best_loss=+1.183e+14]\n",
            "11it [00:00, 12.26it/s, epoch_progress=100%, train_loss=-7.419e+03, last_val_loss=+1.972e+18, best_epoch=1, best_loss=+2.835e+12]\n",
            "11it [00:00, 12.83it/s, epoch_progress=100%, train_loss=-8.190e+03, last_val_loss=+4.351e+18, best_epoch=1, best_loss=+2.893e+11]\n",
            "11it [00:00, 12.31it/s, epoch_progress=100%, train_loss=-7.238e+03, last_val_loss=+3.686e+18, best_epoch=1, best_loss=+5.839e+13]\n",
            "11it [00:02,  4.84it/s, epoch_progress=100%, train_loss=-8.059e+03, last_val_loss=+6.825e+18, best_epoch=1, best_loss=+3.487e+13]\n",
            "11it [00:00, 13.11it/s, epoch_progress=100%, train_loss=-6.730e+03, last_val_loss=+2.088e+21, best_epoch=1, best_loss=+1.520e+15]\n",
            "11it [00:01,  7.95it/s, epoch_progress=100%, train_loss=-7.214e+03, last_val_loss=+1.363e+20, best_epoch=1, best_loss=+1.535e+13]\n",
            "11it [00:00, 12.49it/s, epoch_progress=100%, train_loss=-8.085e+03, last_val_loss=+1.050e+18, best_epoch=1, best_loss=+1.051e+12]\n",
            "11it [00:00, 12.19it/s, epoch_progress=100%, train_loss=-7.417e+03, last_val_loss=+5.970e+17, best_epoch=1, best_loss=+2.912e+14]\n",
            "11it [00:02,  5.04it/s, epoch_progress=100%, train_loss=-7.251e+03, last_val_loss=+2.122e+20, best_epoch=1, best_loss=+7.070e+14]\n",
            "11it [00:00, 12.55it/s, epoch_progress=100%, train_loss=-6.514e+03, last_val_loss=+4.223e+17, best_epoch=1, best_loss=+1.258e+12]\n",
            "11it [00:00, 12.58it/s, epoch_progress=100%, train_loss=-7.321e+03, last_val_loss=+3.914e+18, best_epoch=1, best_loss=+1.084e+13]\n",
            " 30%|███       | 3/10 [10:45<24:50, 212.92s/it]"
          ],
          "name": "stderr"
        },
        {
          "output_type": "stream",
          "text": [
            "\n",
            "\n",
            "Iteration 2\n",
            "Meta Train Error 1.440293163061142\n",
            "Meta Train Accuracy 0.2750000050291419\n",
            "Meta Valid Error 1.645012453198433\n",
            "Meta Valid Accuracy 0.1750000026077032\n"
          ],
          "name": "stdout"
        },
        {
          "output_type": "stream",
          "text": [
            "11it [00:00, 12.64it/s, epoch_progress=100%, train_loss=-7.491e+03, last_val_loss=+1.817e+19, best_epoch=1, best_loss=+6.589e+13]\n",
            "11it [00:00, 12.35it/s, epoch_progress=100%, train_loss=-7.676e+03, last_val_loss=+6.344e+16, best_epoch=1, best_loss=+3.875e+12]\n",
            "11it [00:00, 11.97it/s, epoch_progress=100%, train_loss=-7.034e+03, last_val_loss=+2.611e+18, best_epoch=1, best_loss=+3.023e+13]\n",
            "12it [00:04,  2.66it/s, epoch_progress=100%, train_loss=-6.932e+03, last_val_loss=+1.447e+16, best_epoch=2, best_loss=+6.015e+11]\n",
            "11it [00:00, 12.35it/s, epoch_progress=100%, train_loss=-7.442e+03, last_val_loss=+2.452e+20, best_epoch=1, best_loss=+5.338e+13]\n",
            "11it [00:00, 12.76it/s, epoch_progress=100%, train_loss=-7.890e+03, last_val_loss=+8.166e+18, best_epoch=1, best_loss=+1.537e+14]\n",
            "11it [00:00, 12.39it/s, epoch_progress=100%, train_loss=-6.172e+03, last_val_loss=+1.640e+19, best_epoch=1, best_loss=+2.447e+12]\n",
            "11it [00:01,  6.90it/s, epoch_progress=100%, train_loss=-7.318e+03, last_val_loss=+1.045e+19, best_epoch=1, best_loss=+6.480e+13]\n",
            "11it [00:00, 12.95it/s, epoch_progress=100%, train_loss=-6.662e+03, last_val_loss=+2.276e+20, best_epoch=1, best_loss=+1.650e+13]\n",
            "11it [00:00, 12.36it/s, epoch_progress=100%, train_loss=-6.743e+03, last_val_loss=+2.495e+21, best_epoch=1, best_loss=+6.158e+13]\n",
            "11it [00:00, 13.20it/s, epoch_progress=100%, train_loss=-7.783e+03, last_val_loss=+8.011e+21, best_epoch=1, best_loss=+4.804e+14]\n",
            "11it [00:00, 13.20it/s, epoch_progress=100%, train_loss=-6.396e+03, last_val_loss=+5.478e+19, best_epoch=1, best_loss=+8.803e+13]\n",
            "11it [00:01,  6.56it/s, epoch_progress=100%, train_loss=-7.189e+03, last_val_loss=+3.197e+18, best_epoch=1, best_loss=+2.107e+13]\n",
            "11it [00:00, 12.38it/s, epoch_progress=100%, train_loss=-7.152e+03, last_val_loss=+3.303e+19, best_epoch=1, best_loss=+7.669e+12]\n",
            "11it [00:00, 12.65it/s, epoch_progress=100%, train_loss=-7.041e+03, last_val_loss=+1.201e+19, best_epoch=1, best_loss=+1.253e+12]\n",
            "11it [00:00, 12.33it/s, epoch_progress=100%, train_loss=-6.643e+03, last_val_loss=+6.413e+17, best_epoch=1, best_loss=+7.619e+12]\n",
            "11it [00:01,  9.32it/s, epoch_progress=100%, train_loss=-7.114e+03, last_val_loss=+1.554e+21, best_epoch=1, best_loss=+3.721e+14]\n",
            "11it [00:00, 12.71it/s, epoch_progress=100%, train_loss=-7.574e+03, last_val_loss=+7.603e+17, best_epoch=1, best_loss=+1.274e+14]\n",
            "11it [00:00, 12.65it/s, epoch_progress=100%, train_loss=-6.465e+03, last_val_loss=+3.916e+19, best_epoch=1, best_loss=+1.578e+12]\n",
            "11it [00:00, 12.82it/s, epoch_progress=100%, train_loss=-6.979e+03, last_val_loss=+1.321e+21, best_epoch=1, best_loss=+2.943e+13]\n",
            "11it [00:00, 12.14it/s, epoch_progress=100%, train_loss=-7.610e+03, last_val_loss=+3.565e+19, best_epoch=1, best_loss=+2.516e+12]\n",
            "11it [00:01,  6.79it/s, epoch_progress=100%, train_loss=-6.655e+03, last_val_loss=+7.857e+19, best_epoch=1, best_loss=+3.147e+13]\n",
            "11it [00:00, 12.34it/s, epoch_progress=100%, train_loss=-7.478e+03, last_val_loss=+2.693e+19, best_epoch=1, best_loss=+3.775e+13]\n",
            "11it [00:00, 12.54it/s, epoch_progress=100%, train_loss=-6.281e+03, last_val_loss=+3.184e+19, best_epoch=1, best_loss=+1.938e+12]\n",
            "11it [00:00, 12.60it/s, epoch_progress=100%, train_loss=-7.857e+03, last_val_loss=+1.583e+22, best_epoch=1, best_loss=+3.219e+14]\n",
            "11it [00:00, 12.22it/s, epoch_progress=100%, train_loss=-7.958e+03, last_val_loss=+2.110e+20, best_epoch=1, best_loss=+5.486e+13]\n",
            "11it [00:00, 12.61it/s, epoch_progress=100%, train_loss=-7.894e+03, last_val_loss=+6.666e+20, best_epoch=1, best_loss=+6.979e+14]\n",
            "11it [00:01,  6.91it/s, epoch_progress=100%, train_loss=-7.662e+03, last_val_loss=+5.546e+20, best_epoch=1, best_loss=+8.971e+13]\n",
            "11it [00:00, 12.59it/s, epoch_progress=100%, train_loss=-7.434e+03, last_val_loss=+2.141e+20, best_epoch=1, best_loss=+2.743e+13]\n",
            "11it [00:00, 12.56it/s, epoch_progress=100%, train_loss=-7.381e+03, last_val_loss=+8.395e+17, best_epoch=1, best_loss=+6.681e+12]\n",
            "11it [00:00, 12.80it/s, epoch_progress=100%, train_loss=-7.575e+03, last_val_loss=+1.282e+20, best_epoch=1, best_loss=+5.288e+13]\n",
            "11it [00:00, 12.44it/s, epoch_progress=100%, train_loss=-7.198e+03, last_val_loss=+4.637e+18, best_epoch=1, best_loss=+1.018e+13]\n",
            "11it [00:01,  7.47it/s, epoch_progress=100%, train_loss=-5.847e+03, last_val_loss=+2.459e+18, best_epoch=1, best_loss=+6.267e+13]\n",
            "11it [00:01,  8.02it/s, epoch_progress=100%, train_loss=-7.303e+03, last_val_loss=+2.808e+20, best_epoch=1, best_loss=+8.871e+14]\n",
            "11it [00:00, 12.48it/s, epoch_progress=100%, train_loss=-7.294e+03, last_val_loss=+2.005e+21, best_epoch=1, best_loss=+9.646e+13]\n",
            "11it [00:00, 12.36it/s, epoch_progress=100%, train_loss=-7.241e+03, last_val_loss=+1.528e+20, best_epoch=1, best_loss=+8.865e+13]\n",
            "11it [00:01, 10.40it/s, epoch_progress=100%, train_loss=-6.878e+03, last_val_loss=+3.325e+20, best_epoch=1, best_loss=+4.244e+12]\n",
            "12it [00:05,  2.11it/s, epoch_progress=100%, train_loss=-7.345e+03, last_val_loss=+9.348e+17, best_epoch=2, best_loss=+1.889e+14]\n",
            "11it [00:00, 12.24it/s, epoch_progress=100%, train_loss=-7.870e+03, last_val_loss=+7.901e+19, best_epoch=1, best_loss=+1.377e+14]\n",
            "11it [00:00, 12.97it/s, epoch_progress=100%, train_loss=-7.132e+03, last_val_loss=+1.630e+20, best_epoch=1, best_loss=+1.169e+13]\n",
            " 40%|████      | 4/10 [14:20<21:21, 213.63s/it]"
          ],
          "name": "stderr"
        },
        {
          "output_type": "stream",
          "text": [
            "\n",
            "\n",
            "Iteration 3\n",
            "Meta Train Error 1.386471226811409\n",
            "Meta Train Accuracy 0.40937500447034836\n",
            "Meta Valid Error 1.3979151174426079\n",
            "Meta Valid Accuracy 0.4000000078231096\n"
          ],
          "name": "stdout"
        },
        {
          "output_type": "stream",
          "text": [
            "11it [00:01, 10.80it/s, epoch_progress=100%, train_loss=-8.023e+03, last_val_loss=+4.980e+21, best_epoch=1, best_loss=+1.195e+14]\n",
            "11it [00:01,  6.31it/s, epoch_progress=100%, train_loss=-6.520e+03, last_val_loss=+2.421e+17, best_epoch=1, best_loss=+2.461e+11]\n",
            "11it [00:02,  4.37it/s, epoch_progress=100%, train_loss=-7.749e+03, last_val_loss=+3.119e+21, best_epoch=1, best_loss=+1.878e+14]\n",
            "11it [00:00, 12.68it/s, epoch_progress=100%, train_loss=-6.192e+03, last_val_loss=+9.797e+17, best_epoch=1, best_loss=+7.226e+11]\n",
            "11it [00:00, 12.20it/s, epoch_progress=100%, train_loss=-6.817e+03, last_val_loss=+3.868e+20, best_epoch=1, best_loss=+1.234e+15]\n",
            "11it [00:00, 13.03it/s, epoch_progress=100%, train_loss=-7.797e+03, last_val_loss=+4.364e+20, best_epoch=1, best_loss=+3.104e+14]\n",
            "12it [00:05,  2.11it/s, epoch_progress=100%, train_loss=-7.719e+03, last_val_loss=+4.949e+16, best_epoch=2, best_loss=+7.908e+12]\n",
            "11it [00:01,  6.24it/s, epoch_progress=100%, train_loss=-7.066e+03, last_val_loss=+2.216e+21, best_epoch=1, best_loss=+3.073e+14]\n",
            "11it [00:04,  2.31it/s, epoch_progress=100%, train_loss=-6.438e+03, last_val_loss=+1.884e+20, best_epoch=1, best_loss=+5.792e+13]\n",
            "11it [00:00, 12.99it/s, epoch_progress=100%, train_loss=-6.447e+03, last_val_loss=+1.806e+20, best_epoch=1, best_loss=+1.229e+13]\n",
            "11it [00:00, 12.15it/s, epoch_progress=100%, train_loss=-6.743e+03, last_val_loss=+5.313e+16, best_epoch=1, best_loss=+2.801e+12]\n",
            "11it [00:00, 12.58it/s, epoch_progress=100%, train_loss=-7.094e+03, last_val_loss=+1.061e+20, best_epoch=1, best_loss=+1.949e+13]\n",
            "11it [00:01,  7.37it/s, epoch_progress=100%, train_loss=-7.001e+03, last_val_loss=+9.389e+18, best_epoch=1, best_loss=+6.619e+12]\n",
            "13it [00:12,  1.07it/s, epoch_progress=100%, train_loss=-6.743e+03, last_val_loss=+1.814e+12, best_epoch=3, best_loss=+1.695e+10]\n",
            "14it [00:15,  1.09s/it, epoch_progress=100%, train_loss=-7.597e+03, last_val_loss=+5.143e+14, best_epoch=4, best_loss=+3.116e+11]\n",
            "11it [00:00, 12.93it/s, epoch_progress=100%, train_loss=-6.796e+03, last_val_loss=+1.476e+19, best_epoch=1, best_loss=+2.266e+13]\n",
            "11it [00:00, 11.51it/s, epoch_progress=100%, train_loss=-6.737e+03, last_val_loss=+2.416e+19, best_epoch=1, best_loss=+1.967e+12]\n",
            "11it [00:02,  4.71it/s, epoch_progress=100%, train_loss=-7.238e+03, last_val_loss=+1.696e+21, best_epoch=1, best_loss=+1.349e+14]\n",
            "11it [00:00, 12.39it/s, epoch_progress=100%, train_loss=-7.854e+03, last_val_loss=+9.094e+19, best_epoch=1, best_loss=+5.642e+13]\n",
            "11it [00:00, 12.88it/s, epoch_progress=100%, train_loss=-7.371e+03, last_val_loss=+4.575e+21, best_epoch=1, best_loss=+7.800e+13]\n",
            "11it [00:00, 12.97it/s, epoch_progress=100%, train_loss=-7.605e+03, last_val_loss=+2.360e+21, best_epoch=1, best_loss=+4.259e+14]\n",
            "11it [00:02,  5.22it/s, epoch_progress=100%, train_loss=-8.119e+03, last_val_loss=+2.393e+18, best_epoch=1, best_loss=+3.864e+12]\n",
            "11it [00:00, 12.49it/s, epoch_progress=100%, train_loss=-6.226e+03, last_val_loss=+2.145e+17, best_epoch=1, best_loss=+1.995e+13]\n",
            "11it [00:00, 12.11it/s, epoch_progress=100%, train_loss=-6.090e+03, last_val_loss=+8.568e+19, best_epoch=1, best_loss=+3.001e+12]\n",
            "11it [00:00, 12.31it/s, epoch_progress=100%, train_loss=-8.685e+03, last_val_loss=+4.846e+19, best_epoch=1, best_loss=+1.128e+15]\n",
            "11it [00:00, 12.79it/s, epoch_progress=100%, train_loss=-7.575e+03, last_val_loss=+4.832e+18, best_epoch=1, best_loss=+2.875e+13]\n",
            "11it [00:01,  9.79it/s, epoch_progress=100%, train_loss=-7.166e+03, last_val_loss=+2.724e+20, best_epoch=1, best_loss=+1.126e+14]\n",
            "11it [00:02,  4.80it/s, epoch_progress=100%, train_loss=-7.090e+03, last_val_loss=+1.159e+19, best_epoch=1, best_loss=+3.100e+12]\n",
            "11it [00:00, 12.34it/s, epoch_progress=100%, train_loss=-7.532e+03, last_val_loss=+1.989e+19, best_epoch=1, best_loss=+2.240e+13]\n",
            "11it [00:00, 12.49it/s, epoch_progress=100%, train_loss=-7.287e+03, last_val_loss=+1.034e+19, best_epoch=1, best_loss=+8.640e+13]\n",
            "11it [00:00, 12.77it/s, epoch_progress=100%, train_loss=-6.573e+03, last_val_loss=+7.358e+19, best_epoch=1, best_loss=+1.720e+13]\n",
            "11it [00:02,  4.95it/s, epoch_progress=100%, train_loss=-7.199e+03, last_val_loss=+3.045e+19, best_epoch=1, best_loss=+1.679e+12]\n",
            "11it [00:00, 12.32it/s, epoch_progress=100%, train_loss=-6.564e+03, last_val_loss=+1.112e+20, best_epoch=1, best_loss=+5.760e+13]\n",
            "11it [00:00, 12.83it/s, epoch_progress=100%, train_loss=-7.792e+03, last_val_loss=+2.619e+19, best_epoch=1, best_loss=+5.887e+12]\n",
            "11it [00:00, 12.18it/s, epoch_progress=100%, train_loss=-7.265e+03, last_val_loss=+8.524e+18, best_epoch=1, best_loss=+1.446e+14]\n",
            "11it [00:00, 12.34it/s, epoch_progress=100%, train_loss=-7.915e+03, last_val_loss=+3.433e+20, best_epoch=1, best_loss=+3.312e+14]\n",
            "11it [00:00, 12.12it/s, epoch_progress=100%, train_loss=-7.493e+03, last_val_loss=+2.380e+17, best_epoch=1, best_loss=+1.139e+13]\n",
            "11it [00:02,  4.73it/s, epoch_progress=100%, train_loss=-7.697e+03, last_val_loss=+6.219e+18, best_epoch=1, best_loss=+4.605e+14]\n",
            "11it [00:00, 12.38it/s, epoch_progress=100%, train_loss=-6.866e+03, last_val_loss=+2.099e+16, best_epoch=1, best_loss=+3.071e+14]\n",
            "11it [00:00, 12.16it/s, epoch_progress=100%, train_loss=-6.262e+03, last_val_loss=+2.910e+20, best_epoch=1, best_loss=+2.507e+13]\n",
            " 50%|█████     | 5/10 [18:25<18:34, 222.92s/it]"
          ],
          "name": "stderr"
        },
        {
          "output_type": "stream",
          "text": [
            "\n",
            "\n",
            "Iteration 4\n",
            "Meta Train Error 1.25263811647892\n",
            "Meta Train Accuracy 0.5218750089406967\n",
            "Meta Valid Error 1.42587211728096\n",
            "Meta Valid Accuracy 0.450000012293458\n"
          ],
          "name": "stdout"
        },
        {
          "output_type": "stream",
          "text": [
            "11it [00:00, 12.81it/s, epoch_progress=100%, train_loss=-8.488e+03, last_val_loss=+9.077e+19, best_epoch=1, best_loss=+4.031e+13]\n",
            "11it [00:00, 12.70it/s, epoch_progress=100%, train_loss=-8.374e+03, last_val_loss=+9.047e+20, best_epoch=1, best_loss=+3.852e+13]\n",
            "11it [00:02,  5.07it/s, epoch_progress=100%, train_loss=-7.327e+03, last_val_loss=+3.819e+20, best_epoch=1, best_loss=+1.234e+13]\n",
            "11it [00:04,  2.32it/s, epoch_progress=100%, train_loss=-6.666e+03, last_val_loss=+3.473e+17, best_epoch=1, best_loss=+2.514e+12]\n",
            "11it [00:00, 13.08it/s, epoch_progress=100%, train_loss=-7.728e+03, last_val_loss=+3.692e+19, best_epoch=1, best_loss=+7.806e+13]\n",
            "11it [00:00, 12.52it/s, epoch_progress=100%, train_loss=-7.907e+03, last_val_loss=+1.167e+20, best_epoch=1, best_loss=+1.785e+14]\n",
            "11it [00:00, 12.86it/s, epoch_progress=100%, train_loss=-6.943e+03, last_val_loss=+4.515e+18, best_epoch=1, best_loss=+2.495e+12]\n",
            "11it [00:01, 10.57it/s, epoch_progress=100%, train_loss=-7.808e+03, last_val_loss=+5.475e+19, best_epoch=1, best_loss=+2.339e+14]\n",
            "11it [00:01,  6.14it/s, epoch_progress=100%, train_loss=-7.831e+03, last_val_loss=+7.309e+19, best_epoch=1, best_loss=+1.104e+14]\n",
            "11it [00:05,  2.17it/s, epoch_progress=100%, train_loss=-7.635e+03, last_val_loss=+3.934e+18, best_epoch=1, best_loss=+8.751e+13]\n",
            "11it [00:00, 11.82it/s, epoch_progress=100%, train_loss=-6.950e+03, last_val_loss=+1.075e+21, best_epoch=1, best_loss=+1.334e+14]\n",
            "13it [00:08,  1.47it/s, epoch_progress=100%, train_loss=-6.642e+03, last_val_loss=+1.734e+14, best_epoch=3, best_loss=+1.059e+11]\n",
            "11it [00:02,  5.15it/s, epoch_progress=100%, train_loss=-7.484e+03, last_val_loss=+1.429e+17, best_epoch=1, best_loss=+6.673e+13]\n",
            "11it [00:01,  6.93it/s, epoch_progress=100%, train_loss=-6.451e+03, last_val_loss=+2.322e+19, best_epoch=1, best_loss=+7.484e+12]\n",
            "11it [00:00, 12.47it/s, epoch_progress=100%, train_loss=-7.267e+03, last_val_loss=+8.797e+16, best_epoch=1, best_loss=+2.874e+12]\n",
            "11it [00:00, 12.25it/s, epoch_progress=100%, train_loss=-6.916e+03, last_val_loss=+7.866e+19, best_epoch=1, best_loss=+3.911e+14]\n",
            "11it [00:00, 13.02it/s, epoch_progress=100%, train_loss=-6.574e+03, last_val_loss=+5.986e+19, best_epoch=1, best_loss=+2.005e+12]\n",
            "11it [00:01,  5.53it/s, epoch_progress=100%, train_loss=-7.050e+03, last_val_loss=+3.291e+18, best_epoch=1, best_loss=+2.679e+11]\n",
            "12it [00:03,  3.15it/s, epoch_progress=100%, train_loss=-7.017e+03, last_val_loss=+1.030e+14, best_epoch=2, best_loss=+1.126e+11]\n",
            "11it [00:00, 12.58it/s, epoch_progress=100%, train_loss=-7.767e+03, last_val_loss=+4.836e+15, best_epoch=1, best_loss=+2.020e+11]\n",
            "11it [00:01,  8.63it/s, epoch_progress=100%, train_loss=-7.244e+03, last_val_loss=+3.853e+18, best_epoch=1, best_loss=+6.879e+12]\n",
            "11it [00:02,  5.06it/s, epoch_progress=100%, train_loss=-6.932e+03, last_val_loss=+1.185e+20, best_epoch=1, best_loss=+4.513e+13]\n",
            "11it [00:01,  6.83it/s, epoch_progress=100%, train_loss=-6.791e+03, last_val_loss=+2.232e+20, best_epoch=1, best_loss=+3.775e+14]\n",
            "11it [00:00, 12.81it/s, epoch_progress=100%, train_loss=-6.328e+03, last_val_loss=+2.389e+20, best_epoch=1, best_loss=+6.275e+13]\n",
            "11it [00:00, 12.70it/s, epoch_progress=100%, train_loss=-6.640e+03, last_val_loss=+4.590e+20, best_epoch=1, best_loss=+3.223e+13]\n",
            "11it [00:00, 12.92it/s, epoch_progress=100%, train_loss=-7.460e+03, last_val_loss=+1.801e+20, best_epoch=1, best_loss=+5.254e+13]\n",
            "11it [00:00, 12.98it/s, epoch_progress=100%, train_loss=-7.407e+03, last_val_loss=+1.117e+20, best_epoch=1, best_loss=+3.614e+13]\n",
            "11it [00:02,  5.32it/s, epoch_progress=100%, train_loss=-6.931e+03, last_val_loss=+5.845e+17, best_epoch=1, best_loss=+1.465e+12]\n",
            "12it [00:03,  3.19it/s, epoch_progress=100%, train_loss=-6.880e+03, last_val_loss=+1.354e+17, best_epoch=2, best_loss=+8.144e+12]\n",
            "11it [00:00, 12.23it/s, epoch_progress=100%, train_loss=-6.228e+03, last_val_loss=+1.145e+16, best_epoch=1, best_loss=+2.210e+11]\n",
            "11it [00:00, 12.21it/s, epoch_progress=100%, train_loss=-6.840e+03, last_val_loss=+1.323e+18, best_epoch=1, best_loss=+6.382e+12]\n",
            "11it [00:00, 12.45it/s, epoch_progress=100%, train_loss=-7.575e+03, last_val_loss=+1.194e+18, best_epoch=1, best_loss=+9.869e+10]\n",
            "11it [00:02,  5.38it/s, epoch_progress=100%, train_loss=-7.558e+03, last_val_loss=+2.150e+19, best_epoch=1, best_loss=+2.337e+14]\n",
            "11it [00:01,  6.58it/s, epoch_progress=100%, train_loss=-6.496e+03, last_val_loss=+1.345e+20, best_epoch=1, best_loss=+2.034e+13]\n",
            "11it [00:00, 12.22it/s, epoch_progress=100%, train_loss=-6.495e+03, last_val_loss=+1.038e+20, best_epoch=1, best_loss=+2.888e+13]\n",
            "11it [00:00, 11.95it/s, epoch_progress=100%, train_loss=-7.242e+03, last_val_loss=+1.655e+22, best_epoch=1, best_loss=+1.141e+14]\n",
            "12it [00:04,  2.67it/s, epoch_progress=100%, train_loss=-8.604e+03, last_val_loss=+5.954e+15, best_epoch=2, best_loss=+1.874e+12]\n",
            "11it [00:00, 12.23it/s, epoch_progress=100%, train_loss=-5.577e+03, last_val_loss=+1.710e+18, best_epoch=1, best_loss=+3.495e+12]\n",
            "11it [00:00, 11.29it/s, epoch_progress=100%, train_loss=-5.788e+03, last_val_loss=+1.467e+17, best_epoch=1, best_loss=+4.663e+11]\n",
            "11it [00:00, 12.33it/s, epoch_progress=100%, train_loss=-7.666e+03, last_val_loss=+4.392e+18, best_epoch=1, best_loss=+4.690e+13]\n",
            " 60%|██████    | 6/10 [22:18<15:04, 226.02s/it]"
          ],
          "name": "stderr"
        },
        {
          "output_type": "stream",
          "text": [
            "\n",
            "\n",
            "Iteration 5\n",
            "Meta Train Error 1.1486952304840088\n",
            "Meta Train Accuracy 0.6093750074505806\n",
            "Meta Valid Error 1.3961974531412125\n",
            "Meta Valid Accuracy 0.45000001043081284\n"
          ],
          "name": "stdout"
        },
        {
          "output_type": "stream",
          "text": [
            "12it [00:04,  2.68it/s, epoch_progress=100%, train_loss=-7.474e+03, last_val_loss=+4.284e+15, best_epoch=2, best_loss=+1.224e+12]\n",
            "11it [00:02,  5.10it/s, epoch_progress=100%, train_loss=-7.171e+03, last_val_loss=+2.969e+18, best_epoch=1, best_loss=+1.919e+11]\n",
            "11it [00:01,  6.35it/s, epoch_progress=100%, train_loss=-7.721e+03, last_val_loss=+1.103e+20, best_epoch=1, best_loss=+2.039e+13]\n",
            "11it [00:00, 12.39it/s, epoch_progress=100%, train_loss=-7.557e+03, last_val_loss=+8.389e+20, best_epoch=1, best_loss=+3.322e+13]\n",
            "11it [00:00, 12.84it/s, epoch_progress=100%, train_loss=-6.842e+03, last_val_loss=+1.781e+20, best_epoch=1, best_loss=+8.072e+12]\n",
            "11it [00:00, 12.12it/s, epoch_progress=100%, train_loss=-7.280e+03, last_val_loss=+2.739e+16, best_epoch=1, best_loss=+2.626e+13]\n",
            "11it [00:01,  9.68it/s, epoch_progress=100%, train_loss=-6.118e+03, last_val_loss=+7.522e+18, best_epoch=1, best_loss=+1.236e+12]\n",
            "11it [00:06,  1.67it/s, epoch_progress=100%, train_loss=-7.173e+03, last_val_loss=+3.400e+22, best_epoch=1, best_loss=+3.124e+15]\n",
            "11it [00:00, 12.15it/s, epoch_progress=100%, train_loss=-5.598e+03, last_val_loss=+1.931e+19, best_epoch=1, best_loss=+1.419e+13]\n",
            "11it [00:00, 12.03it/s, epoch_progress=100%, train_loss=-6.681e+03, last_val_loss=+1.979e+20, best_epoch=1, best_loss=+5.369e+12]\n",
            "11it [00:00, 12.33it/s, epoch_progress=100%, train_loss=-7.327e+03, last_val_loss=+8.438e+18, best_epoch=1, best_loss=+5.411e+11]\n",
            "11it [00:00, 12.72it/s, epoch_progress=100%, train_loss=-7.135e+03, last_val_loss=+2.798e+22, best_epoch=1, best_loss=+7.220e+14]\n",
            "11it [00:01,  5.86it/s, epoch_progress=100%, train_loss=-7.441e+03, last_val_loss=+6.324e+20, best_epoch=1, best_loss=+3.439e+14]\n",
            "11it [00:00, 12.18it/s, epoch_progress=100%, train_loss=-7.721e+03, last_val_loss=+2.580e+21, best_epoch=1, best_loss=+7.283e+13]\n",
            "11it [00:00, 11.92it/s, epoch_progress=100%, train_loss=-7.455e+03, last_val_loss=+4.723e+20, best_epoch=1, best_loss=+2.757e+13]\n",
            "11it [00:00, 11.81it/s, epoch_progress=100%, train_loss=-8.183e+03, last_val_loss=+9.174e+18, best_epoch=1, best_loss=+2.695e+13]\n",
            "11it [00:00, 12.31it/s, epoch_progress=100%, train_loss=-6.099e+03, last_val_loss=+1.413e+14, best_epoch=1, best_loss=+1.768e+11]\n",
            "11it [00:00, 13.32it/s, epoch_progress=100%, train_loss=-6.941e+03, last_val_loss=+2.494e+19, best_epoch=1, best_loss=+1.006e+13]\n",
            "11it [00:01,  8.46it/s, epoch_progress=100%, train_loss=-7.298e+03, last_val_loss=+3.017e+19, best_epoch=1, best_loss=+2.977e+12]\n",
            "11it [00:00, 12.17it/s, epoch_progress=100%, train_loss=-7.755e+03, last_val_loss=+1.612e+19, best_epoch=1, best_loss=+7.134e+12]\n",
            "11it [00:00, 12.32it/s, epoch_progress=100%, train_loss=-7.610e+03, last_val_loss=+3.341e+19, best_epoch=1, best_loss=+1.877e+13]\n",
            "11it [00:00, 11.98it/s, epoch_progress=100%, train_loss=-7.034e+03, last_val_loss=+2.364e+20, best_epoch=1, best_loss=+1.101e+14]\n",
            "11it [00:01,  6.62it/s, epoch_progress=100%, train_loss=-7.307e+03, last_val_loss=+5.330e+18, best_epoch=1, best_loss=+4.580e+12]\n",
            "11it [00:02,  4.78it/s, epoch_progress=100%, train_loss=-6.807e+03, last_val_loss=+4.642e+18, best_epoch=1, best_loss=+3.175e+13]\n",
            "12it [00:03,  3.36it/s, epoch_progress=100%, train_loss=-7.452e+03, last_val_loss=+1.235e+17, best_epoch=2, best_loss=+2.071e+13]\n",
            "11it [00:00, 12.58it/s, epoch_progress=100%, train_loss=-6.877e+03, last_val_loss=+9.434e+19, best_epoch=1, best_loss=+1.758e+13]\n",
            "11it [00:00, 12.62it/s, epoch_progress=100%, train_loss=-7.732e+03, last_val_loss=+6.324e+18, best_epoch=1, best_loss=+2.242e+14]\n",
            "11it [00:01,  6.17it/s, epoch_progress=100%, train_loss=-7.060e+03, last_val_loss=+4.018e+19, best_epoch=1, best_loss=+4.340e+13]\n",
            "11it [00:02,  4.87it/s, epoch_progress=100%, train_loss=-7.548e+03, last_val_loss=+2.590e+16, best_epoch=1, best_loss=+2.259e+12]\n",
            "11it [00:00, 12.61it/s, epoch_progress=100%, train_loss=-6.881e+03, last_val_loss=+4.228e+19, best_epoch=1, best_loss=+1.535e+13]\n",
            "11it [00:00, 11.76it/s, epoch_progress=100%, train_loss=-7.196e+03, last_val_loss=+6.038e+18, best_epoch=1, best_loss=+3.207e+14]\n",
            "11it [00:00, 12.03it/s, epoch_progress=100%, train_loss=-7.628e+03, last_val_loss=+6.288e+15, best_epoch=1, best_loss=+1.181e+11]\n",
            "11it [00:01,  7.37it/s, epoch_progress=100%, train_loss=-7.177e+03, last_val_loss=+2.102e+18, best_epoch=1, best_loss=+1.093e+12]\n",
            "11it [00:02,  5.20it/s, epoch_progress=100%, train_loss=-7.723e+03, last_val_loss=+1.236e+19, best_epoch=1, best_loss=+1.102e+14]\n",
            "11it [00:00, 12.84it/s, epoch_progress=100%, train_loss=-5.968e+03, last_val_loss=+8.179e+13, best_epoch=1, best_loss=+1.142e+10]\n",
            "11it [00:00, 12.50it/s, epoch_progress=100%, train_loss=-7.136e+03, last_val_loss=+5.218e+18, best_epoch=1, best_loss=+1.042e+13]\n",
            "11it [00:01,  8.07it/s, epoch_progress=100%, train_loss=-7.332e+03, last_val_loss=+1.841e+19, best_epoch=1, best_loss=+2.705e+13]\n",
            "11it [00:02,  3.68it/s, epoch_progress=100%, train_loss=-7.424e+03, last_val_loss=+2.718e+21, best_epoch=1, best_loss=+1.994e+14]\n",
            "11it [00:00, 13.04it/s, epoch_progress=100%, train_loss=-5.753e+03, last_val_loss=+1.404e+17, best_epoch=1, best_loss=+5.782e+12]\n",
            "11it [00:00, 12.73it/s, epoch_progress=100%, train_loss=-7.201e+03, last_val_loss=+1.021e+21, best_epoch=1, best_loss=+4.773e+13]\n",
            " 70%|███████   | 7/10 [25:57<11:11, 223.87s/it]"
          ],
          "name": "stderr"
        },
        {
          "output_type": "stream",
          "text": [
            "\n",
            "\n",
            "Iteration 6\n",
            "Meta Train Error 1.1937676966190338\n",
            "Meta Train Accuracy 0.5906250029802322\n",
            "Meta Valid Error 1.4812857657670975\n",
            "Meta Valid Accuracy 0.3500000052154064\n"
          ],
          "name": "stdout"
        },
        {
          "output_type": "stream",
          "text": [
            "11it [00:00, 12.92it/s, epoch_progress=100%, train_loss=-7.238e+03, last_val_loss=+1.369e+20, best_epoch=1, best_loss=+1.913e+13]\n",
            "12it [00:05,  2.09it/s, epoch_progress=100%, train_loss=-7.188e+03, last_val_loss=+4.605e+16, best_epoch=2, best_loss=+5.106e+12]\n",
            "11it [00:01,  6.42it/s, epoch_progress=100%, train_loss=-7.898e+03, last_val_loss=+6.138e+20, best_epoch=1, best_loss=+4.219e+14]\n",
            "11it [00:00, 12.37it/s, epoch_progress=100%, train_loss=-7.575e+03, last_val_loss=+3.041e+19, best_epoch=1, best_loss=+1.469e+13]\n",
            "11it [00:00, 12.39it/s, epoch_progress=100%, train_loss=-6.763e+03, last_val_loss=+5.808e+18, best_epoch=1, best_loss=+2.515e+12]\n",
            "11it [00:00, 12.41it/s, epoch_progress=100%, train_loss=-6.946e+03, last_val_loss=+3.081e+17, best_epoch=1, best_loss=+1.241e+11]\n",
            "11it [00:00, 12.85it/s, epoch_progress=100%, train_loss=-7.382e+03, last_val_loss=+7.168e+15, best_epoch=1, best_loss=+4.405e+10]\n",
            "11it [00:01,  6.22it/s, epoch_progress=100%, train_loss=-6.778e+03, last_val_loss=+5.160e+18, best_epoch=1, best_loss=+9.232e+12]\n",
            "12it [00:02,  5.90it/s, epoch_progress=100%, train_loss=-6.533e+03, last_val_loss=+2.855e+16, best_epoch=2, best_loss=+2.810e+12]\n",
            "11it [00:01,  6.31it/s, epoch_progress=100%, train_loss=-7.488e+03, last_val_loss=+1.309e+21, best_epoch=1, best_loss=+5.551e+14]\n",
            "11it [00:00, 12.11it/s, epoch_progress=100%, train_loss=-6.752e+03, last_val_loss=+4.370e+19, best_epoch=1, best_loss=+3.735e+13]\n",
            "11it [00:00, 12.17it/s, epoch_progress=100%, train_loss=-6.834e+03, last_val_loss=+1.900e+20, best_epoch=1, best_loss=+8.951e+13]\n",
            "11it [00:01,  6.50it/s, epoch_progress=100%, train_loss=-7.742e+03, last_val_loss=+5.758e+18, best_epoch=1, best_loss=+1.477e+14]\n",
            "11it [00:00, 12.92it/s, epoch_progress=100%, train_loss=-7.053e+03, last_val_loss=+6.448e+17, best_epoch=1, best_loss=+4.972e+12]\n",
            "11it [00:00, 12.18it/s, epoch_progress=100%, train_loss=-7.051e+03, last_val_loss=+2.227e+20, best_epoch=1, best_loss=+6.264e+13]\n",
            "11it [00:00, 12.94it/s, epoch_progress=100%, train_loss=-6.688e+03, last_val_loss=+1.974e+20, best_epoch=1, best_loss=+2.398e+13]\n",
            "13it [00:11,  1.14it/s, epoch_progress=100%, train_loss=-7.271e+03, last_val_loss=+3.143e+12, best_epoch=3, best_loss=+7.522e+09]\n",
            "11it [00:00, 12.19it/s, epoch_progress=100%, train_loss=-7.267e+03, last_val_loss=+1.391e+19, best_epoch=1, best_loss=+5.009e+13]\n",
            "11it [00:00, 12.53it/s, epoch_progress=100%, train_loss=-7.996e+03, last_val_loss=+1.128e+21, best_epoch=1, best_loss=+5.050e+14]\n",
            "11it [00:00, 12.33it/s, epoch_progress=100%, train_loss=-6.971e+03, last_val_loss=+2.342e+19, best_epoch=1, best_loss=+1.320e+12]\n",
            "11it [00:00, 12.22it/s, epoch_progress=100%, train_loss=-5.997e+03, last_val_loss=+1.356e+20, best_epoch=1, best_loss=+9.853e+12]\n",
            "11it [00:00, 12.69it/s, epoch_progress=100%, train_loss=-7.770e+03, last_val_loss=+2.717e+20, best_epoch=1, best_loss=+2.506e+13]\n",
            "11it [00:00, 12.48it/s, epoch_progress=100%, train_loss=-5.933e+03, last_val_loss=+6.204e+18, best_epoch=1, best_loss=+3.193e+12]\n",
            "11it [00:00, 12.47it/s, epoch_progress=100%, train_loss=-7.561e+03, last_val_loss=+3.114e+20, best_epoch=1, best_loss=+1.261e+14]\n",
            "11it [00:01,  9.03it/s, epoch_progress=100%, train_loss=-7.405e+03, last_val_loss=+9.159e+18, best_epoch=1, best_loss=+2.412e+14]\n",
            "11it [00:00, 12.78it/s, epoch_progress=100%, train_loss=-6.454e+03, last_val_loss=+2.646e+17, best_epoch=1, best_loss=+1.222e+14]\n",
            "11it [00:00, 12.98it/s, epoch_progress=100%, train_loss=-7.198e+03, last_val_loss=+9.808e+20, best_epoch=1, best_loss=+1.699e+13]\n",
            "11it [00:00, 13.05it/s, epoch_progress=100%, train_loss=-6.452e+03, last_val_loss=+1.693e+19, best_epoch=1, best_loss=+8.406e+13]\n",
            "11it [00:00, 11.76it/s, epoch_progress=100%, train_loss=-7.154e+03, last_val_loss=+4.609e+19, best_epoch=1, best_loss=+2.934e+12]\n",
            "11it [00:02,  5.28it/s, epoch_progress=100%, train_loss=-7.292e+03, last_val_loss=+2.768e+18, best_epoch=1, best_loss=+7.576e+12]\n",
            "11it [00:00, 12.05it/s, epoch_progress=100%, train_loss=-6.661e+03, last_val_loss=+4.320e+17, best_epoch=1, best_loss=+4.498e+13]\n",
            "11it [00:00, 12.48it/s, epoch_progress=100%, train_loss=-7.041e+03, last_val_loss=+7.220e+19, best_epoch=1, best_loss=+5.184e+12]\n",
            "11it [00:00, 12.03it/s, epoch_progress=100%, train_loss=-6.661e+03, last_val_loss=+1.397e+18, best_epoch=1, best_loss=+6.929e+12]\n",
            "11it [00:01,  7.15it/s, epoch_progress=100%, train_loss=-7.638e+03, last_val_loss=+1.164e+20, best_epoch=1, best_loss=+2.877e+13]\n",
            "11it [00:00, 12.26it/s, epoch_progress=100%, train_loss=-7.037e+03, last_val_loss=+4.799e+19, best_epoch=1, best_loss=+1.901e+14]\n",
            "11it [00:00, 12.52it/s, epoch_progress=100%, train_loss=-7.794e+03, last_val_loss=+7.291e+20, best_epoch=1, best_loss=+2.222e+13]\n",
            "11it [00:01,  6.36it/s, epoch_progress=100%, train_loss=-5.367e+03, last_val_loss=+1.239e+19, best_epoch=1, best_loss=+3.503e+12]\n",
            "11it [00:02,  4.84it/s, epoch_progress=100%, train_loss=-5.995e+03, last_val_loss=+9.227e+17, best_epoch=1, best_loss=+1.735e+13]\n",
            "12it [00:02,  4.36it/s, epoch_progress=100%, train_loss=-7.892e+03, last_val_loss=+4.288e+18, best_epoch=2, best_loss=+2.850e+14]\n",
            "11it [00:01,  6.23it/s, epoch_progress=100%, train_loss=-7.038e+03, last_val_loss=+6.945e+18, best_epoch=1, best_loss=+2.617e+13]\n",
            " 80%|████████  | 8/10 [29:54<07:35, 227.73s/it]"
          ],
          "name": "stderr"
        },
        {
          "output_type": "stream",
          "text": [
            "\n",
            "\n",
            "Iteration 7\n",
            "Meta Train Error 1.1210977882146835\n",
            "Meta Train Accuracy 0.6156250163912773\n",
            "Meta Valid Error 1.1479889303445816\n",
            "Meta Valid Accuracy 0.6000000145286322\n"
          ],
          "name": "stdout"
        },
        {
          "output_type": "stream",
          "text": [
            "11it [00:00, 12.32it/s, epoch_progress=100%, train_loss=-7.779e+03, last_val_loss=+6.969e+20, best_epoch=1, best_loss=+1.778e+13]\n",
            "11it [00:00, 13.06it/s, epoch_progress=100%, train_loss=-7.061e+03, last_val_loss=+3.299e+18, best_epoch=1, best_loss=+1.049e+13]\n",
            "11it [00:01,  6.31it/s, epoch_progress=100%, train_loss=-8.506e+03, last_val_loss=+1.781e+20, best_epoch=1, best_loss=+1.637e+13]\n",
            "11it [00:04,  2.36it/s, epoch_progress=100%, train_loss=-7.943e+03, last_val_loss=+1.294e+20, best_epoch=1, best_loss=+2.176e+13]\n",
            "11it [00:00, 12.74it/s, epoch_progress=100%, train_loss=-6.396e+03, last_val_loss=+6.842e+18, best_epoch=1, best_loss=+1.502e+12]\n",
            "11it [00:00, 12.23it/s, epoch_progress=100%, train_loss=-7.012e+03, last_val_loss=+9.430e+18, best_epoch=1, best_loss=+3.525e+13]\n",
            "11it [00:01,  8.47it/s, epoch_progress=100%, train_loss=-7.116e+03, last_val_loss=+5.026e+19, best_epoch=1, best_loss=+2.383e+13]\n",
            "11it [00:01,  9.05it/s, epoch_progress=100%, train_loss=-7.862e+03, last_val_loss=+3.072e+16, best_epoch=1, best_loss=+4.843e+11]\n",
            "11it [00:02,  5.30it/s, epoch_progress=100%, train_loss=-7.580e+03, last_val_loss=+1.185e+20, best_epoch=1, best_loss=+4.803e+14]\n",
            "12it [00:04,  2.83it/s, epoch_progress=100%, train_loss=-6.968e+03, last_val_loss=+2.820e+17, best_epoch=2, best_loss=+4.824e+12]\n",
            "11it [00:00, 13.37it/s, epoch_progress=100%, train_loss=-7.118e+03, last_val_loss=+1.475e+17, best_epoch=1, best_loss=+1.776e+12]\n",
            "12it [00:05,  2.03it/s, epoch_progress=100%, train_loss=-7.234e+03, last_val_loss=+2.930e+17, best_epoch=2, best_loss=+6.530e+13]\n",
            "11it [00:02,  5.19it/s, epoch_progress=100%, train_loss=-7.970e+03, last_val_loss=+2.460e+20, best_epoch=1, best_loss=+4.566e+14]\n",
            "11it [00:04,  2.45it/s, epoch_progress=100%, train_loss=-8.596e+03, last_val_loss=+4.205e+20, best_epoch=1, best_loss=+7.270e+13]\n",
            "11it [00:00, 12.03it/s, epoch_progress=100%, train_loss=-7.221e+03, last_val_loss=+8.497e+18, best_epoch=1, best_loss=+1.527e+13]\n",
            "11it [00:00, 12.12it/s, epoch_progress=100%, train_loss=-6.804e+03, last_val_loss=+5.979e+18, best_epoch=1, best_loss=+3.339e+12]\n",
            "11it [00:00, 12.06it/s, epoch_progress=100%, train_loss=-7.312e+03, last_val_loss=+3.364e+18, best_epoch=1, best_loss=+1.146e+14]\n",
            "11it [00:01,  6.99it/s, epoch_progress=100%, train_loss=-7.216e+03, last_val_loss=+1.571e+19, best_epoch=1, best_loss=+1.555e+13]\n",
            "11it [00:00, 12.44it/s, epoch_progress=100%, train_loss=-7.317e+03, last_val_loss=+2.313e+20, best_epoch=1, best_loss=+1.599e+14]\n",
            "11it [00:00, 12.57it/s, epoch_progress=100%, train_loss=-6.015e+03, last_val_loss=+6.027e+17, best_epoch=1, best_loss=+2.288e+13]\n",
            "11it [00:00, 12.68it/s, epoch_progress=100%, train_loss=-7.375e+03, last_val_loss=+7.768e+17, best_epoch=1, best_loss=+1.194e+12]\n",
            "11it [00:01,  5.72it/s, epoch_progress=100%, train_loss=-7.258e+03, last_val_loss=+1.626e+20, best_epoch=1, best_loss=+3.876e+12]\n",
            "11it [00:01,  6.34it/s, epoch_progress=100%, train_loss=-7.968e+03, last_val_loss=+2.317e+20, best_epoch=1, best_loss=+4.152e+13]\n",
            "11it [00:00, 12.65it/s, epoch_progress=100%, train_loss=-7.322e+03, last_val_loss=+5.261e+19, best_epoch=1, best_loss=+1.331e+14]\n",
            "14it [00:14,  1.07s/it, epoch_progress=100%, train_loss=-8.503e+03, last_val_loss=+4.231e+15, best_epoch=4, best_loss=+2.892e+12]\n",
            "11it [00:00, 12.69it/s, epoch_progress=100%, train_loss=-6.507e+03, last_val_loss=+7.337e+19, best_epoch=1, best_loss=+3.121e+13]\n",
            "11it [00:00, 12.27it/s, epoch_progress=100%, train_loss=-6.299e+03, last_val_loss=+4.230e+20, best_epoch=1, best_loss=+7.162e+13]\n",
            "11it [00:02,  4.68it/s, epoch_progress=100%, train_loss=-6.740e+03, last_val_loss=+1.524e+21, best_epoch=1, best_loss=+9.658e+13]\n",
            "11it [00:00, 12.56it/s, epoch_progress=100%, train_loss=-7.353e+03, last_val_loss=+3.486e+20, best_epoch=1, best_loss=+8.086e+12]\n",
            "11it [00:00, 12.53it/s, epoch_progress=100%, train_loss=-7.301e+03, last_val_loss=+3.124e+20, best_epoch=1, best_loss=+4.411e+13]\n",
            "11it [00:00, 12.43it/s, epoch_progress=100%, train_loss=-6.712e+03, last_val_loss=+2.616e+20, best_epoch=1, best_loss=+1.062e+15]\n",
            "11it [00:00, 12.57it/s, epoch_progress=100%, train_loss=-9.023e+03, last_val_loss=+2.179e+20, best_epoch=1, best_loss=+2.575e+13]\n",
            "11it [00:02,  5.18it/s, epoch_progress=100%, train_loss=-7.039e+03, last_val_loss=+3.755e+19, best_epoch=1, best_loss=+2.794e+12]\n",
            "11it [00:00, 12.62it/s, epoch_progress=100%, train_loss=-6.789e+03, last_val_loss=+7.329e+20, best_epoch=1, best_loss=+5.275e+13]\n",
            "11it [00:00, 12.87it/s, epoch_progress=100%, train_loss=-6.031e+03, last_val_loss=+4.809e+19, best_epoch=1, best_loss=+2.896e+12]\n",
            "11it [00:00, 12.40it/s, epoch_progress=100%, train_loss=-6.535e+03, last_val_loss=+1.105e+20, best_epoch=1, best_loss=+4.820e+12]\n",
            "11it [00:01,  5.84it/s, epoch_progress=100%, train_loss=-8.309e+03, last_val_loss=+1.517e+20, best_epoch=1, best_loss=+1.551e+14]\n",
            "12it [00:02,  4.25it/s, epoch_progress=100%, train_loss=-7.479e+03, last_val_loss=+1.340e+14, best_epoch=2, best_loss=+1.044e+10]\n",
            "11it [00:00, 12.69it/s, epoch_progress=100%, train_loss=-7.660e+03, last_val_loss=+1.958e+21, best_epoch=1, best_loss=+8.435e+13]\n",
            "11it [00:00, 12.00it/s, epoch_progress=100%, train_loss=-7.532e+03, last_val_loss=+1.781e+21, best_epoch=1, best_loss=+6.874e+14]\n",
            " 90%|█████████ | 9/10 [33:55<03:51, 231.68s/it]"
          ],
          "name": "stderr"
        },
        {
          "output_type": "stream",
          "text": [
            "\n",
            "\n",
            "Iteration 8\n",
            "Meta Train Error 1.1003836393356323\n",
            "Meta Train Accuracy 0.6187500059604645\n",
            "Meta Valid Error 1.5873451456427574\n",
            "Meta Valid Accuracy 0.35000001080334187\n"
          ],
          "name": "stdout"
        },
        {
          "output_type": "stream",
          "text": [
            "11it [00:00, 12.88it/s, epoch_progress=100%, train_loss=-7.917e+03, last_val_loss=+1.084e+21, best_epoch=1, best_loss=+1.135e+14]\n",
            "11it [00:00, 12.76it/s, epoch_progress=100%, train_loss=-7.487e+03, last_val_loss=+8.709e+16, best_epoch=1, best_loss=+7.852e+13]\n",
            "11it [00:02,  4.76it/s, epoch_progress=100%, train_loss=-7.324e+03, last_val_loss=+2.818e+21, best_epoch=1, best_loss=+8.432e+13]\n",
            "11it [00:00, 12.16it/s, epoch_progress=100%, train_loss=-7.360e+03, last_val_loss=+1.342e+17, best_epoch=1, best_loss=+3.133e+11]\n",
            "11it [00:00, 13.00it/s, epoch_progress=100%, train_loss=-7.528e+03, last_val_loss=+4.495e+18, best_epoch=1, best_loss=+8.351e+10]\n",
            "11it [00:00, 12.70it/s, epoch_progress=100%, train_loss=-7.248e+03, last_val_loss=+1.482e+16, best_epoch=1, best_loss=+1.136e+11]\n",
            "11it [00:02,  4.89it/s, epoch_progress=100%, train_loss=-7.259e+03, last_val_loss=+3.837e+18, best_epoch=1, best_loss=+1.659e+14]\n",
            "11it [00:00, 12.79it/s, epoch_progress=100%, train_loss=-7.158e+03, last_val_loss=+1.382e+16, best_epoch=1, best_loss=+2.152e+11]\n",
            "11it [00:00, 12.53it/s, epoch_progress=100%, train_loss=-7.452e+03, last_val_loss=+1.264e+22, best_epoch=1, best_loss=+8.624e+14]\n",
            "11it [00:00, 12.61it/s, epoch_progress=100%, train_loss=-7.330e+03, last_val_loss=+4.195e+18, best_epoch=1, best_loss=+4.148e+13]\n",
            "11it [00:00, 12.65it/s, epoch_progress=100%, train_loss=-7.519e+03, last_val_loss=+4.966e+18, best_epoch=1, best_loss=+4.222e+11]\n",
            "11it [00:00, 12.31it/s, epoch_progress=100%, train_loss=-8.338e+03, last_val_loss=+1.794e+22, best_epoch=1, best_loss=+4.598e+14]\n",
            "11it [00:02,  4.51it/s, epoch_progress=100%, train_loss=-6.932e+03, last_val_loss=+3.460e+17, best_epoch=1, best_loss=+3.014e+12]\n",
            "11it [00:00, 12.05it/s, epoch_progress=100%, train_loss=-7.142e+03, last_val_loss=+5.993e+17, best_epoch=1, best_loss=+4.226e+10]\n",
            "11it [00:00, 13.07it/s, epoch_progress=100%, train_loss=-7.236e+03, last_val_loss=+3.187e+19, best_epoch=1, best_loss=+1.122e+13]\n",
            "11it [00:00, 12.25it/s, epoch_progress=100%, train_loss=-7.279e+03, last_val_loss=+3.605e+18, best_epoch=1, best_loss=+1.915e+12]\n",
            "11it [00:02,  4.95it/s, epoch_progress=100%, train_loss=-8.247e+03, last_val_loss=+7.985e+17, best_epoch=1, best_loss=+2.290e+13]\n",
            "13it [00:08,  1.60it/s, epoch_progress=100%, train_loss=-7.519e+03, last_val_loss=+2.195e+15, best_epoch=3, best_loss=+1.836e+12]\n",
            "11it [00:00, 12.44it/s, epoch_progress=100%, train_loss=-7.233e+03, last_val_loss=+6.798e+20, best_epoch=1, best_loss=+2.588e+14]\n",
            "11it [00:00, 12.78it/s, epoch_progress=100%, train_loss=-8.410e+03, last_val_loss=+1.480e+21, best_epoch=1, best_loss=+7.979e+13]\n",
            "11it [00:00, 12.70it/s, epoch_progress=100%, train_loss=-7.067e+03, last_val_loss=+1.423e+19, best_epoch=1, best_loss=+1.407e+12]\n",
            "11it [00:01,  6.61it/s, epoch_progress=100%, train_loss=-7.579e+03, last_val_loss=+1.769e+18, best_epoch=1, best_loss=+5.236e+11]\n",
            "11it [00:00, 12.20it/s, epoch_progress=100%, train_loss=-5.633e+03, last_val_loss=+8.787e+19, best_epoch=1, best_loss=+2.420e+13]\n",
            "11it [00:00, 11.90it/s, epoch_progress=100%, train_loss=-6.089e+03, last_val_loss=+4.134e+20, best_epoch=1, best_loss=+8.283e+13]\n",
            "11it [00:00, 12.18it/s, epoch_progress=100%, train_loss=-8.219e+03, last_val_loss=+1.867e+19, best_epoch=1, best_loss=+1.663e+13]\n",
            "11it [00:00, 12.22it/s, epoch_progress=100%, train_loss=-6.613e+03, last_val_loss=+1.975e+20, best_epoch=1, best_loss=+3.553e+13]\n",
            "11it [00:02,  4.65it/s, epoch_progress=100%, train_loss=-7.507e+03, last_val_loss=+1.431e+21, best_epoch=1, best_loss=+1.776e+14]\n",
            "11it [00:00, 12.75it/s, epoch_progress=100%, train_loss=-7.633e+03, last_val_loss=+7.285e+13, best_epoch=1, best_loss=+6.975e+10]\n",
            "11it [00:00, 13.18it/s, epoch_progress=100%, train_loss=-7.210e+03, last_val_loss=+2.478e+19, best_epoch=1, best_loss=+2.156e+13]\n",
            "11it [00:00, 12.95it/s, epoch_progress=100%, train_loss=-6.862e+03, last_val_loss=+1.741e+18, best_epoch=1, best_loss=+2.735e+12]\n",
            "11it [00:00, 13.02it/s, epoch_progress=100%, train_loss=-7.726e+03, last_val_loss=+6.706e+20, best_epoch=1, best_loss=+6.933e+13]\n",
            "11it [00:00, 12.16it/s, epoch_progress=100%, train_loss=-6.805e+03, last_val_loss=+1.066e+20, best_epoch=1, best_loss=+1.756e+13]\n",
            "11it [00:02,  4.97it/s, epoch_progress=100%, train_loss=-7.358e+03, last_val_loss=+1.180e+19, best_epoch=1, best_loss=+1.720e+14]\n",
            "12it [00:06,  1.86it/s, epoch_progress=100%, train_loss=-7.825e+03, last_val_loss=+1.771e+17, best_epoch=2, best_loss=+1.301e+13]\n",
            "11it [00:00, 11.98it/s, epoch_progress=100%, train_loss=-7.955e+03, last_val_loss=+1.277e+18, best_epoch=1, best_loss=+8.159e+12]\n",
            "11it [00:00, 12.53it/s, epoch_progress=100%, train_loss=-6.403e+03, last_val_loss=+1.054e+21, best_epoch=1, best_loss=+1.099e+14]\n",
            "11it [00:00, 12.37it/s, epoch_progress=100%, train_loss=-6.858e+03, last_val_loss=+5.705e+16, best_epoch=1, best_loss=+9.106e+12]\n",
            "11it [00:02,  5.01it/s, epoch_progress=100%, train_loss=-8.248e+03, last_val_loss=+1.164e+20, best_epoch=1, best_loss=+5.074e+12]\n",
            "15it [00:22,  1.52s/it, epoch_progress=100%, train_loss=-7.614e+03, last_val_loss=+6.023e+11, best_epoch=5, best_loss=+1.685e+10]\n",
            "11it [00:00, 12.83it/s, epoch_progress=100%, train_loss=-7.060e+03, last_val_loss=+6.839e+19, best_epoch=1, best_loss=+6.337e+12]\n",
            "100%|██████████| 10/10 [38:01<00:00, 228.19s/it]"
          ],
          "name": "stderr"
        },
        {
          "output_type": "stream",
          "text": [
            "\n",
            "\n",
            "Iteration 9\n",
            "Meta Train Error 1.0210638865828514\n",
            "Meta Train Accuracy 0.6531250104308128\n",
            "Meta Valid Error 1.5094431638717651\n",
            "Meta Valid Accuracy 0.4000000096857548\n"
          ],
          "name": "stdout"
        },
        {
          "output_type": "stream",
          "text": [
            "\n"
          ],
          "name": "stderr"
        }
      ]
    },
    {
      "cell_type": "markdown",
      "metadata": {
        "id": "QTyUoJEt0xKB"
      },
      "source": [
        "CI 95%"
      ]
    },
    {
      "cell_type": "code",
      "metadata": {
        "colab": {
          "base_uri": "https://localhost:8080/"
        },
        "id": "emiivbsjBzNq",
        "outputId": "dadc9e46-7d7b-4293-db67-ded953473fde"
      },
      "source": [
        "acc_acuracy=[]\n",
        "iterations=600\n",
        "\n",
        "for _ in range(iterations):\n",
        "  meta_test_error = 0.0\n",
        "  meta_test_accuracy = 0.0\n",
        "\n",
        "  for task in range(meta_batch_size):\n",
        "\n",
        "      # Compute meta-testing loss\n",
        "      learner = maml.clone()\n",
        "      batch = tasksets.test.sample()\n",
        "      evaluation_error, evaluation_accuracy = fast_adapt(batch,\n",
        "                                                          learner,\n",
        "                                                          loss,\n",
        "                                                          3,\n",
        "                                                          shots,\n",
        "                                                          ways,\n",
        "                                                          device)\n",
        "      meta_test_error += evaluation_error.item()\n",
        "      meta_test_accuracy += evaluation_accuracy.item()\n",
        "\n",
        "  # print('Meta Test Error', meta_test_error / meta_batch_size)\n",
        "  # print('Meta Test Accuracy', meta_test_accuracy / meta_batch_size)\n",
        "  acc_acuracy.append(meta_test_accuracy/meta_batch_size)\n",
        "\n",
        "\n",
        "acc_acuracy = np.array(acc_acuracy)\n",
        "means = np.mean(acc_acuracy, 0)\n",
        "stds = np.std(acc_acuracy, 0)\n",
        "ci95 = 1.96*stds/np.sqrt(iterations)\n",
        "\n",
        "print('Mean accuracy/loss, stddev, and confidence intervals')\n",
        "print((means, stds, ci95))"
      ],
      "execution_count": null,
      "outputs": [
        {
          "output_type": "stream",
          "text": [
            "Mean accuracy/loss, stddev, and confidence intervals\n",
            "(0.5367083439944933, 0.09340435423700708, 0.0074739049160712865)\n"
          ],
          "name": "stdout"
        }
      ]
    },
    {
      "cell_type": "code",
      "metadata": {
        "colab": {
          "base_uri": "https://localhost:8080/"
        },
        "id": "r9vpo5RQXXMj",
        "outputId": "a804f422-e4af-4cce-b9b9-732bbbb922fd"
      },
      "source": [
        "print(acc_acuracy[acc_acuracy.argmin()])\n",
        "print(acc_acuracy[acc_acuracy.argmax()])"
      ],
      "execution_count": null,
      "outputs": [
        {
          "output_type": "stream",
          "text": [
            "0.27500000409781933\n",
            "0.9000000059604645\n"
          ],
          "name": "stdout"
        }
      ]
    },
    {
      "cell_type": "markdown",
      "metadata": {
        "id": "U4HJBRheYfA5"
      },
      "source": [
        "**Random tasks accuracy**"
      ]
    },
    {
      "cell_type": "code",
      "metadata": {
        "colab": {
          "base_uri": "https://localhost:8080/"
        },
        "id": "qRcjcByBRMjw",
        "outputId": "7963c5d7-b8c0-4ac0-fa14-d230a1e43f4e"
      },
      "source": [
        "\n",
        "meta_test_error = 0.0\n",
        "meta_test_accuracy = 0.0\n",
        "for task in range(meta_batch_size):\n",
        "\n",
        "    # Compute meta-testing loss\n",
        "    learner = maml.clone()\n",
        "    batch = tasksets.test.sample()\n",
        "    evaluation_error, evaluation_accuracy = fast_adapt(batch,\n",
        "                                                        learner,\n",
        "                                                        loss,\n",
        "                                                        3,\n",
        "                                                        shots,\n",
        "                                                        ways,\n",
        "                                                        device)\n",
        "    meta_test_error += evaluation_error.item()\n",
        "    meta_test_accuracy += evaluation_accuracy.item()\n",
        "print('Meta Test Error', meta_test_error / meta_batch_size)\n",
        "print('Meta Test Accuracy', meta_test_accuracy / meta_batch_size)\n"
      ],
      "execution_count": null,
      "outputs": [
        {
          "output_type": "stream",
          "text": [
            "Meta Test Error 0.896394494920969\n",
            "Meta Test Accuracy 0.7250000070780516\n"
          ],
          "name": "stdout"
        }
      ]
    },
    {
      "cell_type": "code",
      "metadata": {
        "colab": {
          "base_uri": "https://localhost:8080/"
        },
        "id": "0nggs_MU0aN9",
        "outputId": "38b1a93a-b2e6-4f66-d2e7-9663c8f187e3"
      },
      "source": [
        "\n",
        "meta_test_error = 0.0\n",
        "meta_test_accuracy = 0.0\n",
        "for task in range(meta_batch_size):\n",
        "\n",
        "    # Compute meta-testing loss\n",
        "    learner = maml.clone()\n",
        "    batch = tasksets.test.sample()\n",
        "    evaluation_error, evaluation_accuracy = fast_adapt(batch,\n",
        "                                                        learner,\n",
        "                                                        loss,\n",
        "                                                        10,\n",
        "                                                        shots,\n",
        "                                                        ways,\n",
        "                                                        device)\n",
        "    meta_test_error += evaluation_error.item()\n",
        "    meta_test_accuracy += evaluation_accuracy.item()\n",
        "print('Meta Test Error', meta_test_error / meta_batch_size)\n",
        "print('Meta Test Accuracy', meta_test_accuracy / meta_batch_size)"
      ],
      "execution_count": null,
      "outputs": [
        {
          "output_type": "stream",
          "text": [
            "Meta Test Error 1.317772735375911\n",
            "Meta Test Accuracy 0.7000000104308128\n"
          ],
          "name": "stdout"
        }
      ]
    },
    {
      "cell_type": "markdown",
      "metadata": {
        "id": "_E3ZbfZ3oZ_v"
      },
      "source": [
        "**EXP 2**\n",
        "---\n",
        "\n",
        "**separate flow for each class**  \n",
        " \n",
        "**Convolutional neural network for calssification**    \n",
        "\n",
        "**5 ways 1 shots**\n",
        "\n",
        "**10 iterations** \n",
        "\n",
        "**batch size 8**\n",
        "\n",
        "normalizing flow of \n",
        "\n",
        "BatchNorm Layer \n",
        "\n",
        "MADE Layer\n",
        "\n",
        "----\n",
        "\n",
        "```\n",
        "\n",
        "for each task \n",
        "  for each class \n",
        "      train flow \n",
        "      generate data (15 images)\n",
        "  fast adapt using generated data \n",
        "\n",
        "        \n",
        "```\n",
        "----\n",
        "**Results** \n",
        "\n",
        "**time 39:59 min**\n",
        "\n",
        "Mean accuracy/loss, stddev, and confidence intervals\n",
        "\n",
        "(0.5691250121283035, 0.08361534639018414, 0.006690621155185938)\n",
        "   "
      ]
    },
    {
      "cell_type": "code",
      "metadata": {
        "id": "FODAwkgJol1p"
      },
      "source": [
        "def accuracy(predictions, targets):\n",
        "    predictions = predictions.argmax(dim=1).view(targets.shape)\n",
        "    return (predictions == targets).sum().float() / targets.size(0)\n",
        "\n",
        "\n",
        "def fast_adapt(batch, learner, loss, adaptation_steps, shots, ways, device):\n",
        "    data, labels = batch\n",
        "    # print(\"data:  \",data.shape)\n",
        "    data, labels = data.to(device), labels.to(device, dtype=torch.int64)\n",
        "    # Separate data into adaptation/evalutation sets\n",
        "    adaptation_indices = np.zeros(data.size(0), dtype=bool)\n",
        "    adaptation_indices[np.arange(shots*ways) * 2] = True\n",
        "    evaluation_indices = torch.from_numpy(~adaptation_indices)\n",
        "    adaptation_indices = torch.from_numpy(adaptation_indices)\n",
        "    adaptation_data, adaptation_labels = data[adaptation_indices], labels[adaptation_indices]\n",
        "    evaluation_data, evaluation_labels = data[evaluation_indices], labels[evaluation_indices]\n",
        "\n",
        "    # Adapt the model\n",
        "    for step in range(adaptation_steps):\n",
        "        train_error = loss(learner(adaptation_data), adaptation_labels)\n",
        "        learner.adapt(train_error)\n",
        "\n",
        "\n",
        "    # Evaluate the adapted model\n",
        "    predictions = learner(evaluation_data)\n",
        "    valid_error = loss(predictions, evaluation_labels)\n",
        "    valid_accuracy = accuracy(predictions, evaluation_labels)\n",
        "    return valid_error, valid_accuracy\n",
        "\n",
        "\n",
        "def fast_adapt_train (batch, learner, loss, adaptation_steps, shots, ways, device):\n",
        "    data, labels = batch\n",
        "    data, labels = data.to(device), labels.to(device, dtype=torch.int64)\n",
        "    # print(\"data:  \",data.shape)\n",
        "    # Separate data into adaptation/evalutation sets\n",
        "    adaptation_indices = np.zeros(data.size(0), dtype=bool)\n",
        "    # train on shots*ways*10 images => 5*1*7*=35 image \n",
        "    adaptation_indices[np.arange(shots*ways*7) * 2] = True\n",
        "    \n",
        "    evaluation_indices = torch.from_numpy(~adaptation_indices)\n",
        "\n",
        "    adaptation_indices = torch.from_numpy(adaptation_indices)\n",
        "    adaptation_data, adaptation_labels = data[adaptation_indices], labels[adaptation_indices]\n",
        "    evaluation_data, evaluation_labels = data[evaluation_indices], labels[evaluation_indices]\n",
        "    # print(adaptation_data.shape)\n",
        "    # Adapt the model\n",
        "    for step in range(adaptation_steps):\n",
        "        train_error = loss(learner(adaptation_data), adaptation_labels)\n",
        "        learner.adapt(train_error)\n",
        "\n",
        "\n",
        "    # Evaluate the adapted model\n",
        "    predictions = learner(evaluation_data)\n",
        "    valid_error = loss(predictions, evaluation_labels)\n",
        "    valid_accuracy = accuracy(predictions, evaluation_labels)\n",
        "    return valid_error, valid_accuracy\n",
        "\n",
        "\n",
        "def train_flow (trainX , valX , device):\n",
        "\n",
        "  \n",
        "  # trainX has a shape of (count , channel , pixles,pixles)\n",
        "  \n",
        "\n",
        "  trainX = torch.flatten(trainX,1,-1)\n",
        "  valX = torch.flatten(valX , 1,-1)\n",
        "  dim=trainX.shape[1]\n",
        "  flow = Sequential(      \n",
        "\n",
        "# very slow in sampling \n",
        "    # inv_flow(Sigmoid)(dim=dim),\n",
        "    # BatchNorm(dim=dim),\n",
        "    # MADE(DSF(dim=dim)),\n",
        "    # Affine(dim=dim),  \n",
        "\n",
        "      BatchNorm(dim=dim),\n",
        "      MADE(AffineTransformer(dim=dim)),\n",
        "  ).to(device)\n",
        "\n",
        "\n",
        "  train_losses, val_losses = train(flow, trainX, valX, patience=10)\n",
        "  # with torch.no_grad():\n",
        "  #   sample = flow.sample(1000).cpu()\n",
        "  #   # u = flow.forward(sample.to(device) ).cpu()\n",
        "\n",
        "  # mean =torch.mean(sample , dim = 0 , keepdim=True) \n",
        "  # var = torch.var(sample , dim = 0 , keepdim=True)\n",
        "\n",
        "  with torch.no_grad():\n",
        "    train_data = flow.sample(15).cpu()\n",
        "\n",
        "  # return train_data, train_losses , val_losses , mean , var\n",
        "  return torch.reshape(train_data , (15,1,28,28))"
      ],
      "execution_count": null,
      "outputs": []
    },
    {
      "cell_type": "code",
      "metadata": {
        "colab": {
          "base_uri": "https://localhost:8080/"
        },
        "id": "SIO5lCDKolLd",
        "outputId": "bd1ec22d-ab85-4f1b-c5d4-7b80cd947f83"
      },
      "source": [
        "ways=5\n",
        "shots=1\n",
        "meta_lr=0.003\n",
        "fast_lr=0.5\n",
        "meta_batch_size=8\n",
        "adaptation_steps=1\n",
        "num_iterations=10\n",
        "cuda=True\n",
        "# seed=42\n",
        "# Load train/validation/test tasksets using the benchmark interface\n",
        "tasksets = l2l.vision.benchmarks.get_tasksets('omniglot',\n",
        "                                                  train_ways=ways,\n",
        "                                                  train_samples=2*shots,\n",
        "                                                  test_ways=ways,\n",
        "                                                  test_samples=2*shots,\n",
        "                                                  num_tasks=20000,\n",
        "                                                  root='~/data',\n",
        "    )\n"
      ],
      "execution_count": null,
      "outputs": [
        {
          "output_type": "stream",
          "text": [
            "/usr/local/lib/python3.7/dist-packages/torchvision/transforms/transforms.py:281: UserWarning: Argument interpolation should be of type InterpolationMode instead of int. Please, use InterpolationMode enum.\n",
            "  \"Argument interpolation should be of type InterpolationMode instead of int. \"\n"
          ],
          "name": "stderr"
        },
        {
          "output_type": "stream",
          "text": [
            "Files already downloaded and verified\n",
            "Files already downloaded and verified\n"
          ],
          "name": "stdout"
        }
      ]
    },
    {
      "cell_type": "code",
      "metadata": {
        "colab": {
          "base_uri": "https://localhost:8080/"
        },
        "id": "1TGNjLueoYD5",
        "outputId": "d9898665-b723-4fed-b9ab-d1104ea2d9f6"
      },
      "source": [
        "\n",
        "device = torch.device('cpu')\n",
        "if cuda:\n",
        "  # torch.cuda.manual_seed(seed)\n",
        "  device = torch.device('cuda')\n",
        "\n",
        "# Create model\n",
        "\n",
        "model = l2l.vision.models.OmniglotCNN(ways)\n",
        "# model = l2l.vision.models.OmniglotFC(28 ** 2, ways)\n",
        "model.to(device)\n",
        "maml = l2l.algorithms.MAML(model, lr=fast_lr, first_order=False)\n",
        "opt = optim.Adam(maml.parameters(), meta_lr)\n",
        "loss = nn.CrossEntropyLoss(reduction='mean')\n",
        "\n",
        "\n",
        "from tqdm import tqdm\n",
        "\n",
        "for iteration in tqdm(range(num_iterations)):\n",
        "    opt.zero_grad()\n",
        "    meta_train_error = 0.0\n",
        "    meta_train_accuracy = 0.0\n",
        "    meta_valid_error = 0.0\n",
        "    meta_valid_accuracy = 0.0\n",
        "\n",
        "    for task in range(meta_batch_size):\n",
        "        # Compute meta-training loss\n",
        "        # learner = maml.clone()\n",
        "\n",
        "        # generate batch the batch contains # ways*shots , channels , img size  and labels \n",
        "        train_batch = tasksets.train.sample()\n",
        "        val_batch = tasksets.validation.sample()\n",
        "\n",
        "        # split batch based on classes in labels then   labels.split(int(data.shape[0]/ways))\n",
        "        train_data, train_labels = train_batch\n",
        "        val_data , val_labels= val_batch\n",
        "        \n",
        "        train_labels = torch.split( train_labels, int(train_data.shape[0]/ways))\n",
        "        train_data = torch.split( train_data, int(train_data.shape[0]/ways))\n",
        "\n",
        "        # val_data  = torch.split( val_data, int(train_data.shape[0]/ways))\n",
        "\n",
        "\n",
        "        # python list that will contain val data and labels sorted \n",
        "        val_data_list = []\n",
        "        val_label_list =[]\n",
        "        train_data_generator = []\n",
        "        train_lable_generator = []\n",
        "        classes_mean ={}\n",
        "        classes_var = {}\n",
        "        \n",
        "        for x , y in zip(train_data,train_labels):\n",
        "          \n",
        "          # now i have samples count , ch , img  [8, 1, 28, 28] for a single class \n",
        "          # train a flow \n",
        "          #  generate 1000 samples \n",
        "          # calculate the mean and variance \n",
        "\n",
        "          # as the validation data classes are not the same order as training data \n",
        "          # so we need to get validation data that hase the same class as the current training data \n",
        "\n",
        "          # current class indx \n",
        "          idx = ((val_labels == y[0]).nonzero(as_tuple=True)[0])\n",
        "          val_data_list.append(val_data[idx])\n",
        "          val_label_list.append(val_labels[idx])\n",
        "\n",
        "          data  =   train_flow(x , val_data[idx] , get_device())\n",
        "          \n",
        "          # append the generated samples to new train data \n",
        "          train_data_generator.append(data)\n",
        "          # print(data.shape)\n",
        "\n",
        "          # we choose 15 here as the returned data size is 15 \n",
        "          train_lable_generator.append( torch.ones((15))*y[0])\n",
        "          \n",
        "          # 'will be used to train a bayes classifier'\n",
        "          # # append mean and var to classes mean and var dict \n",
        "          # classes_mean[y[0].numpy()]=mean\n",
        "          # classes_var [y[0].numpy()]=var\n",
        "        \n",
        "\n",
        "        # don't know if will need them or no \n",
        "        # now both are sorted as the training data \n",
        "        val_data_sorted   = torch.stack(val_data_list)\n",
        "        val_labels_sorted = torch.stack(val_data_list)\n",
        "\n",
        "\n",
        "        train_data_generator = torch.cat(train_data_generator)\n",
        "        train_lable_generator = torch.cat(train_lable_generator)\n",
        "        \n",
        "        batch = [train_data_generator ,train_lable_generator]\n",
        "\n",
        "        learner = maml.clone()            \n",
        "        \n",
        "        evaluation_error, evaluation_accuracy = fast_adapt_train(batch,\n",
        "                                                            learner,\n",
        "                                                            loss,\n",
        "                                                            adaptation_steps,\n",
        "                                                            shots,\n",
        "                                                            ways,\n",
        "                                                            device)\n",
        "        evaluation_error.backward()\n",
        "        meta_train_error += evaluation_error.item()\n",
        "        meta_train_accuracy += evaluation_accuracy.item()\n",
        "\n",
        "# ''''''''''''''''''''''''''''''''''''''''''''''''''''''''''''''''''''''''''''''''''''\n",
        "\n",
        "        # Compute meta-validation loss\n",
        "        batch = tasksets.validation.sample()\n",
        "        \n",
        "        learner = maml.clone()\n",
        "        evaluation_error, evaluation_accuracy = fast_adapt(batch,learner,loss,adaptation_steps,shots,ways,\n",
        "                                                            device)\n",
        "        meta_valid_error += evaluation_error.item()\n",
        "        meta_valid_accuracy += evaluation_accuracy.item()\n",
        "\n",
        "    # Print some metrics\n",
        "    print('\\n')\n",
        "    print('Iteration', iteration)\n",
        "    print('Meta Train Error', meta_train_error / meta_batch_size)\n",
        "    print('Meta Train Accuracy', meta_train_accuracy / meta_batch_size)\n",
        "    print('Meta Valid Error', meta_valid_error / meta_batch_size)\n",
        "    print('Meta Valid Accuracy', meta_valid_accuracy / meta_batch_size)\n",
        "\n",
        "    # Average the accumulated gradients and optimize\n",
        "    for p in maml.parameters():\n",
        "        p.grad.data.mul_(1.0 / meta_batch_size)\n",
        "    opt.step()"
      ],
      "execution_count": null,
      "outputs": [
        {
          "output_type": "stream",
          "text": [
            "11it [00:00, 11.83it/s, epoch_progress=100%, train_loss=-7.699e+03, last_val_loss=+2.381e+18, best_epoch=1, best_loss=+1.715e+11]\n",
            "11it [00:00, 11.77it/s, epoch_progress=100%, train_loss=-6.649e+03, last_val_loss=+8.628e+17, best_epoch=1, best_loss=+2.016e+12]\n",
            "11it [00:00, 12.04it/s, epoch_progress=100%, train_loss=-7.615e+03, last_val_loss=+9.128e+16, best_epoch=1, best_loss=+1.590e+12]\n",
            "11it [00:00, 12.40it/s, epoch_progress=100%, train_loss=-6.809e+03, last_val_loss=+1.405e+21, best_epoch=1, best_loss=+9.153e+13]\n",
            "11it [00:00, 11.83it/s, epoch_progress=100%, train_loss=-7.865e+03, last_val_loss=+8.399e+20, best_epoch=1, best_loss=+1.986e+13]\n",
            "11it [00:00, 11.41it/s, epoch_progress=100%, train_loss=-7.995e+03, last_val_loss=+3.081e+20, best_epoch=1, best_loss=+3.168e+14]\n",
            "11it [00:00, 11.44it/s, epoch_progress=100%, train_loss=-7.273e+03, last_val_loss=+6.064e+17, best_epoch=1, best_loss=+3.989e+12]\n",
            "11it [00:00, 11.10it/s, epoch_progress=100%, train_loss=-7.499e+03, last_val_loss=+1.307e+19, best_epoch=1, best_loss=+2.268e+13]\n",
            "11it [00:00, 11.57it/s, epoch_progress=100%, train_loss=-5.952e+03, last_val_loss=+1.946e+17, best_epoch=1, best_loss=+1.124e+12]\n",
            "11it [00:00, 12.06it/s, epoch_progress=100%, train_loss=-6.895e+03, last_val_loss=+1.939e+21, best_epoch=1, best_loss=+1.505e+14]\n",
            "11it [00:00, 11.94it/s, epoch_progress=100%, train_loss=-7.346e+03, last_val_loss=+4.061e+19, best_epoch=1, best_loss=+3.347e+13]\n",
            "11it [00:00, 11.68it/s, epoch_progress=100%, train_loss=-5.937e+03, last_val_loss=+1.239e+20, best_epoch=1, best_loss=+3.613e+13]\n",
            "11it [00:00, 12.27it/s, epoch_progress=100%, train_loss=-7.518e+03, last_val_loss=+2.619e+22, best_epoch=1, best_loss=+4.286e+14]\n",
            "11it [00:00, 11.81it/s, epoch_progress=100%, train_loss=-7.456e+03, last_val_loss=+3.496e+21, best_epoch=1, best_loss=+6.412e+14]\n",
            "11it [00:00, 11.68it/s, epoch_progress=100%, train_loss=-7.023e+03, last_val_loss=+1.273e+19, best_epoch=1, best_loss=+3.995e+12]\n",
            "12it [00:01,  8.06it/s, epoch_progress=100%, train_loss=-7.593e+03, last_val_loss=+3.416e+15, best_epoch=2, best_loss=+1.714e+13]\n",
            "11it [00:00, 11.54it/s, epoch_progress=100%, train_loss=-7.091e+03, last_val_loss=+1.799e+20, best_epoch=1, best_loss=+7.858e+12]\n",
            "11it [00:00, 11.73it/s, epoch_progress=100%, train_loss=-7.688e+03, last_val_loss=+5.015e+17, best_epoch=1, best_loss=+6.145e+11]\n",
            "11it [00:00, 12.18it/s, epoch_progress=100%, train_loss=-6.965e+03, last_val_loss=+1.188e+17, best_epoch=1, best_loss=+7.641e+10]\n",
            "12it [00:05,  2.15it/s, epoch_progress=100%, train_loss=-7.389e+03, last_val_loss=+1.950e+14, best_epoch=2, best_loss=+1.362e+13]\n",
            "11it [00:00, 11.89it/s, epoch_progress=100%, train_loss=-7.029e+03, last_val_loss=+8.452e+19, best_epoch=1, best_loss=+1.607e+13]\n",
            "11it [00:00, 12.03it/s, epoch_progress=100%, train_loss=-6.671e+03, last_val_loss=+4.130e+19, best_epoch=1, best_loss=+1.751e+12]\n",
            "11it [00:01, 10.59it/s, epoch_progress=100%, train_loss=-7.038e+03, last_val_loss=+1.002e+15, best_epoch=1, best_loss=+5.102e+09]\n",
            "11it [00:00, 12.13it/s, epoch_progress=100%, train_loss=-6.549e+03, last_val_loss=+6.556e+20, best_epoch=1, best_loss=+5.950e+13]\n",
            "12it [00:03,  3.60it/s, epoch_progress=100%, train_loss=-7.678e+03, last_val_loss=+1.039e+17, best_epoch=2, best_loss=+3.896e+12]\n",
            "11it [00:00, 12.37it/s, epoch_progress=100%, train_loss=-6.925e+03, last_val_loss=+7.353e+18, best_epoch=1, best_loss=+1.745e+13]\n",
            "11it [00:00, 12.77it/s, epoch_progress=100%, train_loss=-7.136e+03, last_val_loss=+5.427e+17, best_epoch=1, best_loss=+8.066e+14]\n",
            "11it [00:01,  9.53it/s, epoch_progress=100%, train_loss=-7.106e+03, last_val_loss=+1.032e+21, best_epoch=1, best_loss=+3.442e+14]\n",
            "11it [00:00, 12.93it/s, epoch_progress=100%, train_loss=-6.896e+03, last_val_loss=+7.691e+18, best_epoch=1, best_loss=+6.022e+12]\n",
            "11it [00:00, 12.36it/s, epoch_progress=100%, train_loss=-7.085e+03, last_val_loss=+3.948e+19, best_epoch=1, best_loss=+5.891e+12]\n",
            "11it [00:00, 12.72it/s, epoch_progress=100%, train_loss=-7.995e+03, last_val_loss=+1.366e+19, best_epoch=1, best_loss=+1.844e+14]\n",
            "11it [00:00, 12.52it/s, epoch_progress=100%, train_loss=-7.322e+03, last_val_loss=+7.007e+18, best_epoch=1, best_loss=+2.537e+12]\n",
            "11it [00:01,  9.73it/s, epoch_progress=100%, train_loss=-6.130e+03, last_val_loss=+4.663e+16, best_epoch=1, best_loss=+1.131e+13]\n",
            "11it [00:00, 12.53it/s, epoch_progress=100%, train_loss=-7.744e+03, last_val_loss=+2.325e+21, best_epoch=1, best_loss=+7.649e+13]\n",
            "11it [00:00, 12.59it/s, epoch_progress=100%, train_loss=-7.608e+03, last_val_loss=+3.515e+18, best_epoch=1, best_loss=+2.189e+13]\n",
            "11it [00:00, 11.96it/s, epoch_progress=100%, train_loss=-6.809e+03, last_val_loss=+9.849e+14, best_epoch=1, best_loss=+1.611e+12]\n",
            "11it [00:00, 12.17it/s, epoch_progress=100%, train_loss=-7.104e+03, last_val_loss=+3.404e+20, best_epoch=1, best_loss=+1.534e+13]\n",
            "11it [00:01,  9.66it/s, epoch_progress=100%, train_loss=-6.777e+03, last_val_loss=+3.458e+19, best_epoch=1, best_loss=+5.692e+11]\n",
            "11it [00:00, 12.69it/s, epoch_progress=100%, train_loss=-6.630e+03, last_val_loss=+1.524e+20, best_epoch=1, best_loss=+1.513e+13]\n",
            "15it [00:22,  1.51s/it, epoch_progress=100%, train_loss=-8.266e+03, last_val_loss=+8.524e+14, best_epoch=5, best_loss=+7.557e+11]\n",
            " 10%|█         | 1/10 [03:33<32:00, 213.35s/it]"
          ],
          "name": "stderr"
        },
        {
          "output_type": "stream",
          "text": [
            "\n",
            "\n",
            "Iteration 0\n",
            "Meta Train Error 1.8304346650838852\n",
            "Meta Train Accuracy 0.496875012293458\n",
            "Meta Valid Error 2.520754411816597\n",
            "Meta Valid Accuracy 0.3750000074505806\n"
          ],
          "name": "stdout"
        },
        {
          "output_type": "stream",
          "text": [
            "11it [00:00, 12.66it/s, epoch_progress=100%, train_loss=-7.865e+03, last_val_loss=+1.841e+19, best_epoch=1, best_loss=+4.702e+12]\n",
            "11it [00:00, 12.37it/s, epoch_progress=100%, train_loss=-7.861e+03, last_val_loss=+4.841e+20, best_epoch=1, best_loss=+6.887e+13]\n",
            "11it [00:00, 12.04it/s, epoch_progress=100%, train_loss=-7.466e+03, last_val_loss=+5.032e+19, best_epoch=1, best_loss=+5.602e+12]\n",
            "11it [00:01,  5.65it/s, epoch_progress=100%, train_loss=-7.962e+03, last_val_loss=+5.557e+18, best_epoch=1, best_loss=+1.295e+14]\n",
            "11it [00:00, 12.05it/s, epoch_progress=100%, train_loss=-7.639e+03, last_val_loss=+7.450e+20, best_epoch=1, best_loss=+1.769e+13]\n",
            "11it [00:00, 12.13it/s, epoch_progress=100%, train_loss=-7.569e+03, last_val_loss=+1.742e+21, best_epoch=1, best_loss=+5.022e+13]\n",
            "11it [00:00, 12.61it/s, epoch_progress=100%, train_loss=-7.815e+03, last_val_loss=+7.079e+19, best_epoch=1, best_loss=+1.501e+14]\n",
            "11it [00:02,  4.24it/s, epoch_progress=100%, train_loss=-6.970e+03, last_val_loss=+2.426e+20, best_epoch=1, best_loss=+1.205e+14]\n",
            "13it [00:09,  1.42it/s, epoch_progress=100%, train_loss=-6.643e+03, last_val_loss=+6.045e+15, best_epoch=3, best_loss=+1.360e+13]\n",
            "11it [00:00, 12.33it/s, epoch_progress=100%, train_loss=-6.989e+03, last_val_loss=+1.015e+21, best_epoch=1, best_loss=+1.871e+13]\n",
            "11it [00:00, 12.83it/s, epoch_progress=100%, train_loss=-6.765e+03, last_val_loss=+3.131e+20, best_epoch=1, best_loss=+6.918e+13]\n",
            "11it [00:00, 12.30it/s, epoch_progress=100%, train_loss=-6.919e+03, last_val_loss=+4.478e+20, best_epoch=1, best_loss=+9.988e+13]\n",
            "11it [00:02,  4.85it/s, epoch_progress=100%, train_loss=-7.415e+03, last_val_loss=+6.140e+18, best_epoch=1, best_loss=+6.519e+12]\n",
            "11it [00:00, 12.13it/s, epoch_progress=100%, train_loss=-6.877e+03, last_val_loss=+5.790e+17, best_epoch=1, best_loss=+2.358e+11]\n",
            "11it [00:00, 12.04it/s, epoch_progress=100%, train_loss=-7.080e+03, last_val_loss=+1.472e+20, best_epoch=1, best_loss=+9.678e+13]\n",
            "11it [00:00, 11.89it/s, epoch_progress=100%, train_loss=-7.925e+03, last_val_loss=+2.803e+18, best_epoch=1, best_loss=+5.748e+11]\n",
            "11it [00:00, 12.14it/s, epoch_progress=100%, train_loss=-7.419e+03, last_val_loss=+4.911e+17, best_epoch=1, best_loss=+4.867e+12]\n",
            "11it [00:02,  4.90it/s, epoch_progress=100%, train_loss=-7.683e+03, last_val_loss=+3.130e+21, best_epoch=1, best_loss=+3.540e+14]\n",
            "11it [00:02,  4.13it/s, epoch_progress=100%, train_loss=-7.561e+03, last_val_loss=+2.442e+18, best_epoch=1, best_loss=+3.392e+12]\n",
            "11it [00:00, 11.74it/s, epoch_progress=100%, train_loss=-6.959e+03, last_val_loss=+1.568e+21, best_epoch=1, best_loss=+1.806e+13]\n",
            "11it [00:00, 12.08it/s, epoch_progress=100%, train_loss=-7.224e+03, last_val_loss=+2.281e+18, best_epoch=1, best_loss=+1.498e+13]\n",
            "11it [00:02,  4.71it/s, epoch_progress=100%, train_loss=-7.161e+03, last_val_loss=+8.519e+20, best_epoch=1, best_loss=+9.159e+13]\n",
            "11it [00:00, 11.85it/s, epoch_progress=100%, train_loss=-6.517e+03, last_val_loss=+5.247e+17, best_epoch=1, best_loss=+1.176e+12]\n",
            "11it [00:00, 11.82it/s, epoch_progress=100%, train_loss=-7.317e+03, last_val_loss=+2.823e+21, best_epoch=1, best_loss=+6.793e+13]\n",
            "11it [00:00, 12.33it/s, epoch_progress=100%, train_loss=-7.640e+03, last_val_loss=+2.083e+20, best_epoch=1, best_loss=+5.863e+14]\n",
            "11it [00:00, 12.23it/s, epoch_progress=100%, train_loss=-7.275e+03, last_val_loss=+7.142e+19, best_epoch=1, best_loss=+1.076e+14]\n",
            "11it [00:00, 12.66it/s, epoch_progress=100%, train_loss=-7.341e+03, last_val_loss=+6.044e+19, best_epoch=1, best_loss=+1.864e+13]\n",
            "11it [00:02,  4.50it/s, epoch_progress=100%, train_loss=-7.383e+03, last_val_loss=+9.616e+19, best_epoch=1, best_loss=+2.186e+13]\n",
            "11it [00:00, 12.23it/s, epoch_progress=100%, train_loss=-6.914e+03, last_val_loss=+8.973e+17, best_epoch=1, best_loss=+3.997e+13]\n",
            "11it [00:00, 12.34it/s, epoch_progress=100%, train_loss=-7.364e+03, last_val_loss=+8.458e+19, best_epoch=1, best_loss=+2.952e+13]\n",
            "11it [00:00, 12.45it/s, epoch_progress=100%, train_loss=-6.849e+03, last_val_loss=+4.331e+18, best_epoch=1, best_loss=+2.352e+14]\n",
            "11it [00:02,  4.90it/s, epoch_progress=100%, train_loss=-6.965e+03, last_val_loss=+4.988e+21, best_epoch=1, best_loss=+2.596e+14]\n",
            "11it [00:00, 12.00it/s, epoch_progress=100%, train_loss=-6.370e+03, last_val_loss=+8.533e+18, best_epoch=1, best_loss=+3.872e+12]\n",
            "11it [00:00, 12.05it/s, epoch_progress=100%, train_loss=-6.876e+03, last_val_loss=+9.242e+19, best_epoch=1, best_loss=+2.469e+13]\n",
            "11it [00:00, 11.76it/s, epoch_progress=100%, train_loss=-7.313e+03, last_val_loss=+1.884e+19, best_epoch=1, best_loss=+1.845e+13]\n",
            "11it [00:00, 12.12it/s, epoch_progress=100%, train_loss=-7.912e+03, last_val_loss=+1.173e+21, best_epoch=1, best_loss=+5.024e+13]\n",
            "11it [00:00, 12.60it/s, epoch_progress=100%, train_loss=-7.513e+03, last_val_loss=+2.278e+19, best_epoch=1, best_loss=+8.786e+13]\n",
            "14it [00:10,  1.37it/s, epoch_progress=100%, train_loss=-6.216e+03, last_val_loss=+5.661e+13, best_epoch=4, best_loss=+1.156e+11]\n",
            "11it [00:00, 12.01it/s, epoch_progress=100%, train_loss=-7.264e+03, last_val_loss=+9.101e+16, best_epoch=1, best_loss=+1.089e+13]\n",
            "11it [00:00, 13.08it/s, epoch_progress=100%, train_loss=-6.794e+03, last_val_loss=+6.116e+16, best_epoch=1, best_loss=+1.023e+11]\n",
            " 20%|██        | 2/10 [07:19<28:57, 217.13s/it]"
          ],
          "name": "stderr"
        },
        {
          "output_type": "stream",
          "text": [
            "\n",
            "\n",
            "Iteration 1\n",
            "Meta Train Error 1.46099753677845\n",
            "Meta Train Accuracy 0.5468750074505806\n",
            "Meta Valid Error 2.518529698252678\n",
            "Meta Valid Accuracy 0.3000000063329935\n"
          ],
          "name": "stdout"
        },
        {
          "output_type": "stream",
          "text": [
            "11it [00:00, 12.57it/s, epoch_progress=100%, train_loss=-7.691e+03, last_val_loss=+4.256e+19, best_epoch=1, best_loss=+2.121e+13]\n",
            "11it [00:02,  5.00it/s, epoch_progress=100%, train_loss=-6.573e+03, last_val_loss=+5.535e+19, best_epoch=1, best_loss=+7.396e+12]\n",
            "11it [00:00, 11.79it/s, epoch_progress=100%, train_loss=-8.033e+03, last_val_loss=+7.635e+20, best_epoch=1, best_loss=+3.414e+13]\n",
            "11it [00:00, 11.86it/s, epoch_progress=100%, train_loss=-7.212e+03, last_val_loss=+1.221e+14, best_epoch=1, best_loss=+3.820e+09]\n",
            "11it [00:00, 11.74it/s, epoch_progress=100%, train_loss=-6.950e+03, last_val_loss=+3.172e+19, best_epoch=1, best_loss=+1.264e+14]\n",
            "11it [00:00, 11.90it/s, epoch_progress=100%, train_loss=-8.131e+03, last_val_loss=+1.377e+22, best_epoch=1, best_loss=+4.835e+14]\n",
            "11it [00:00, 12.29it/s, epoch_progress=100%, train_loss=-8.008e+03, last_val_loss=+7.405e+20, best_epoch=1, best_loss=+4.679e+13]\n",
            "11it [00:02,  4.89it/s, epoch_progress=100%, train_loss=-7.384e+03, last_val_loss=+4.620e+20, best_epoch=1, best_loss=+2.251e+14]\n",
            "14it [00:09,  1.43it/s, epoch_progress=100%, train_loss=-7.125e+03, last_val_loss=+6.362e+15, best_epoch=4, best_loss=+1.040e+13]\n",
            "11it [00:00, 12.34it/s, epoch_progress=100%, train_loss=-7.160e+03, last_val_loss=+6.678e+19, best_epoch=1, best_loss=+3.146e+13]\n",
            "11it [00:00, 12.21it/s, epoch_progress=100%, train_loss=-6.736e+03, last_val_loss=+1.451e+20, best_epoch=1, best_loss=+2.997e+13]\n",
            "11it [00:01,  5.58it/s, epoch_progress=100%, train_loss=-7.236e+03, last_val_loss=+7.730e+21, best_epoch=1, best_loss=+3.366e+14]\n",
            "18it [00:25,  1.41s/it, epoch_progress=100%, train_loss=-7.827e+03, last_val_loss=+1.312e+13, best_epoch=8, best_loss=+1.381e+11]\n",
            "11it [00:00, 12.56it/s, epoch_progress=100%, train_loss=-5.327e+03, last_val_loss=+3.658e+18, best_epoch=1, best_loss=+1.915e+12]\n",
            "11it [00:00, 12.80it/s, epoch_progress=100%, train_loss=-7.340e+03, last_val_loss=+5.847e+19, best_epoch=1, best_loss=+1.524e+14]\n",
            "11it [00:00, 12.20it/s, epoch_progress=100%, train_loss=-7.131e+03, last_val_loss=+1.413e+17, best_epoch=1, best_loss=+1.371e+13]\n",
            "11it [00:02,  4.76it/s, epoch_progress=100%, train_loss=-6.437e+03, last_val_loss=+9.986e+19, best_epoch=1, best_loss=+1.551e+13]\n",
            "11it [00:00, 12.29it/s, epoch_progress=100%, train_loss=-6.938e+03, last_val_loss=+9.280e+19, best_epoch=1, best_loss=+2.252e+13]\n",
            "11it [00:00, 11.92it/s, epoch_progress=100%, train_loss=-8.011e+03, last_val_loss=+3.972e+20, best_epoch=1, best_loss=+8.012e+13]\n",
            "11it [00:00, 12.00it/s, epoch_progress=100%, train_loss=-6.139e+03, last_val_loss=+4.381e+18, best_epoch=1, best_loss=+6.974e+12]\n",
            "11it [00:01, 10.13it/s, epoch_progress=100%, train_loss=-7.309e+03, last_val_loss=+3.834e+20, best_epoch=1, best_loss=+2.980e+13]\n",
            "11it [00:00, 12.03it/s, epoch_progress=100%, train_loss=-7.354e+03, last_val_loss=+1.185e+19, best_epoch=1, best_loss=+5.082e+13]\n",
            "11it [00:00, 11.82it/s, epoch_progress=100%, train_loss=-7.072e+03, last_val_loss=+2.936e+22, best_epoch=1, best_loss=+6.764e+14]\n",
            "11it [00:01,  9.61it/s, epoch_progress=100%, train_loss=-7.353e+03, last_val_loss=+1.444e+20, best_epoch=1, best_loss=+4.046e+12]\n",
            "11it [00:02,  4.78it/s, epoch_progress=100%, train_loss=-6.907e+03, last_val_loss=+2.359e+18, best_epoch=1, best_loss=+1.400e+12]\n",
            "11it [00:00, 12.28it/s, epoch_progress=100%, train_loss=-7.078e+03, last_val_loss=+4.619e+21, best_epoch=1, best_loss=+3.418e+14]\n",
            "11it [00:00, 11.92it/s, epoch_progress=100%, train_loss=-7.043e+03, last_val_loss=+2.750e+19, best_epoch=1, best_loss=+3.002e+13]\n",
            "11it [00:00, 11.58it/s, epoch_progress=100%, train_loss=-6.494e+03, last_val_loss=+2.456e+16, best_epoch=1, best_loss=+7.991e+12]\n",
            "11it [00:01,  5.59it/s, epoch_progress=100%, train_loss=-7.014e+03, last_val_loss=+6.424e+19, best_epoch=1, best_loss=+2.563e+14]\n",
            "11it [00:00, 11.55it/s, epoch_progress=100%, train_loss=-7.270e+03, last_val_loss=+2.021e+19, best_epoch=1, best_loss=+8.883e+13]\n",
            "11it [00:00, 12.22it/s, epoch_progress=100%, train_loss=-7.617e+03, last_val_loss=+6.182e+19, best_epoch=1, best_loss=+1.382e+13]\n",
            "11it [00:03,  3.07it/s, epoch_progress=100%, train_loss=-6.143e+03, last_val_loss=+2.515e+19, best_epoch=1, best_loss=+1.632e+12]\n",
            "11it [00:00, 12.22it/s, epoch_progress=100%, train_loss=-6.558e+03, last_val_loss=+7.691e+17, best_epoch=1, best_loss=+2.276e+13]\n",
            "11it [00:00, 12.02it/s, epoch_progress=100%, train_loss=-6.683e+03, last_val_loss=+1.326e+17, best_epoch=1, best_loss=+1.066e+14]\n",
            "11it [00:01,  6.69it/s, epoch_progress=100%, train_loss=-5.933e+03, last_val_loss=+4.794e+18, best_epoch=1, best_loss=+4.727e+12]\n",
            "11it [00:00, 11.11it/s, epoch_progress=100%, train_loss=-7.610e+03, last_val_loss=+4.633e+21, best_epoch=1, best_loss=+4.256e+14]\n",
            "11it [00:00, 12.38it/s, epoch_progress=100%, train_loss=-7.174e+03, last_val_loss=+1.044e+21, best_epoch=1, best_loss=+2.005e+14]\n",
            "11it [00:01,  6.36it/s, epoch_progress=100%, train_loss=-7.781e+03, last_val_loss=+3.751e+16, best_epoch=1, best_loss=+6.876e+10]\n",
            "11it [00:00, 11.59it/s, epoch_progress=100%, train_loss=-7.219e+03, last_val_loss=+5.624e+19, best_epoch=1, best_loss=+3.851e+12]\n",
            "11it [00:00, 11.31it/s, epoch_progress=100%, train_loss=-7.966e+03, last_val_loss=+1.617e+20, best_epoch=1, best_loss=+3.697e+13]\n",
            " 30%|███       | 3/10 [11:27<26:24, 226.35s/it]"
          ],
          "name": "stderr"
        },
        {
          "output_type": "stream",
          "text": [
            "\n",
            "\n",
            "Iteration 2\n",
            "Meta Train Error 1.536536917090416\n",
            "Meta Train Accuracy 0.5625000111758709\n",
            "Meta Valid Error 2.431537002325058\n",
            "Meta Valid Accuracy 0.27500000409781933\n"
          ],
          "name": "stdout"
        },
        {
          "output_type": "stream",
          "text": [
            "11it [00:00, 11.94it/s, epoch_progress=100%, train_loss=-8.002e+03, last_val_loss=+1.873e+18, best_epoch=1, best_loss=+6.014e+12]\n",
            "11it [00:01,  7.43it/s, epoch_progress=100%, train_loss=-7.767e+03, last_val_loss=+7.180e+20, best_epoch=1, best_loss=+6.639e+13]\n",
            "11it [00:00, 11.84it/s, epoch_progress=100%, train_loss=-6.995e+03, last_val_loss=+4.001e+19, best_epoch=1, best_loss=+1.660e+13]\n",
            "11it [00:00, 11.90it/s, epoch_progress=100%, train_loss=-7.699e+03, last_val_loss=+1.542e+21, best_epoch=1, best_loss=+7.490e+13]\n",
            "12it [00:06,  1.78it/s, epoch_progress=100%, train_loss=-6.632e+03, last_val_loss=+5.601e+16, best_epoch=2, best_loss=+2.370e+12]\n",
            "11it [00:00, 11.86it/s, epoch_progress=100%, train_loss=-7.577e+03, last_val_loss=+1.196e+18, best_epoch=1, best_loss=+5.722e+12]\n",
            "12it [00:03,  3.05it/s, epoch_progress=100%, train_loss=-8.110e+03, last_val_loss=+1.247e+19, best_epoch=2, best_loss=+3.842e+14]\n",
            "11it [00:00, 12.62it/s, epoch_progress=100%, train_loss=-7.009e+03, last_val_loss=+9.495e+20, best_epoch=1, best_loss=+2.302e+13]\n",
            "11it [00:02,  5.30it/s, epoch_progress=100%, train_loss=-7.249e+03, last_val_loss=+1.977e+21, best_epoch=1, best_loss=+1.206e+14]\n",
            "11it [00:00, 11.71it/s, epoch_progress=100%, train_loss=-7.150e+03, last_val_loss=+9.481e+19, best_epoch=1, best_loss=+4.174e+13]\n",
            "11it [00:00, 12.08it/s, epoch_progress=100%, train_loss=-7.553e+03, last_val_loss=+2.147e+20, best_epoch=1, best_loss=+7.393e+14]\n",
            "11it [00:00, 11.77it/s, epoch_progress=100%, train_loss=-8.243e+03, last_val_loss=+6.972e+21, best_epoch=1, best_loss=+1.537e+15]\n",
            "11it [00:01,  5.66it/s, epoch_progress=100%, train_loss=-7.450e+03, last_val_loss=+2.286e+20, best_epoch=1, best_loss=+1.229e+14]\n",
            "11it [00:00, 12.44it/s, epoch_progress=100%, train_loss=-8.044e+03, last_val_loss=+1.611e+20, best_epoch=1, best_loss=+1.892e+13]\n",
            "12it [00:05,  2.15it/s, epoch_progress=100%, train_loss=-8.172e+03, last_val_loss=+4.524e+18, best_epoch=2, best_loss=+1.501e+14]\n",
            "11it [00:00, 12.31it/s, epoch_progress=100%, train_loss=-7.272e+03, last_val_loss=+1.896e+19, best_epoch=1, best_loss=+8.334e+12]\n",
            "11it [00:00, 12.30it/s, epoch_progress=100%, train_loss=-6.764e+03, last_val_loss=+1.863e+20, best_epoch=1, best_loss=+3.845e+12]\n",
            "11it [00:02,  4.89it/s, epoch_progress=100%, train_loss=-6.268e+03, last_val_loss=+2.989e+19, best_epoch=1, best_loss=+1.795e+13]\n",
            "11it [00:00, 12.40it/s, epoch_progress=100%, train_loss=-7.443e+03, last_val_loss=+1.460e+21, best_epoch=1, best_loss=+8.642e+13]\n",
            "11it [00:00, 12.39it/s, epoch_progress=100%, train_loss=-7.516e+03, last_val_loss=+3.798e+16, best_epoch=1, best_loss=+2.733e+11]\n",
            "11it [00:00, 11.87it/s, epoch_progress=100%, train_loss=-6.343e+03, last_val_loss=+3.920e+19, best_epoch=1, best_loss=+1.267e+14]\n",
            "11it [00:00, 11.73it/s, epoch_progress=100%, train_loss=-6.839e+03, last_val_loss=+3.439e+18, best_epoch=1, best_loss=+2.118e+12]\n",
            "12it [00:06,  1.76it/s, epoch_progress=100%, train_loss=-6.787e+03, last_val_loss=+3.552e+16, best_epoch=2, best_loss=+4.480e+12]\n",
            "11it [00:00, 12.31it/s, epoch_progress=100%, train_loss=-7.992e+03, last_val_loss=+9.632e+20, best_epoch=1, best_loss=+5.959e+13]\n",
            "11it [00:00, 11.10it/s, epoch_progress=100%, train_loss=-7.341e+03, last_val_loss=+7.936e+17, best_epoch=1, best_loss=+7.292e+13]\n",
            "11it [00:00, 12.19it/s, epoch_progress=100%, train_loss=-7.444e+03, last_val_loss=+3.653e+18, best_epoch=1, best_loss=+2.485e+14]\n",
            "11it [00:00, 12.64it/s, epoch_progress=100%, train_loss=-7.546e+03, last_val_loss=+3.227e+20, best_epoch=1, best_loss=+1.385e+14]\n",
            "14it [00:18,  1.29s/it, epoch_progress=100%, train_loss=-7.958e+03, last_val_loss=+8.601e+15, best_epoch=4, best_loss=+1.611e+13]\n",
            "11it [00:00, 11.67it/s, epoch_progress=100%, train_loss=-7.408e+03, last_val_loss=+1.490e+21, best_epoch=1, best_loss=+2.206e+14]\n",
            "12it [00:06,  1.99it/s, epoch_progress=100%, train_loss=-7.212e+03, last_val_loss=+1.288e+16, best_epoch=2, best_loss=+9.592e+14]\n",
            "11it [00:00, 12.35it/s, epoch_progress=100%, train_loss=-7.722e+03, last_val_loss=+3.672e+17, best_epoch=1, best_loss=+1.910e+12]\n",
            "11it [00:00, 11.97it/s, epoch_progress=100%, train_loss=-6.166e+03, last_val_loss=+1.384e+21, best_epoch=1, best_loss=+3.172e+13]\n",
            "11it [00:00, 12.29it/s, epoch_progress=100%, train_loss=-7.464e+03, last_val_loss=+5.462e+18, best_epoch=1, best_loss=+5.109e+11]\n",
            "11it [00:02,  5.09it/s, epoch_progress=100%, train_loss=-5.762e+03, last_val_loss=+4.962e+13, best_epoch=1, best_loss=+5.798e+09]\n",
            "11it [00:00, 11.94it/s, epoch_progress=100%, train_loss=-7.861e+03, last_val_loss=+1.269e+20, best_epoch=1, best_loss=+1.040e+14]\n",
            "11it [00:00, 12.18it/s, epoch_progress=100%, train_loss=-7.246e+03, last_val_loss=+7.605e+18, best_epoch=1, best_loss=+1.049e+12]\n",
            "11it [00:00, 12.18it/s, epoch_progress=100%, train_loss=-6.496e+03, last_val_loss=+1.746e+19, best_epoch=1, best_loss=+2.746e+12]\n",
            "11it [00:02,  5.38it/s, epoch_progress=100%, train_loss=-7.066e+03, last_val_loss=+6.784e+19, best_epoch=1, best_loss=+1.617e+12]\n",
            "11it [00:00, 12.10it/s, epoch_progress=100%, train_loss=-7.510e+03, last_val_loss=+1.557e+21, best_epoch=1, best_loss=+7.573e+14]\n",
            "11it [00:00, 12.43it/s, epoch_progress=100%, train_loss=-6.243e+03, last_val_loss=+4.891e+17, best_epoch=1, best_loss=+4.121e+13]\n",
            " 40%|████      | 4/10 [15:43<23:31, 235.30s/it]"
          ],
          "name": "stderr"
        },
        {
          "output_type": "stream",
          "text": [
            "\n",
            "\n",
            "Iteration 3\n",
            "Meta Train Error 0.9326197430491447\n",
            "Meta Train Accuracy 0.6718750111758709\n",
            "Meta Valid Error 2.066610097885132\n",
            "Meta Valid Accuracy 0.32500001043081284\n"
          ],
          "name": "stdout"
        },
        {
          "output_type": "stream",
          "text": [
            "11it [00:00, 12.17it/s, epoch_progress=100%, train_loss=-6.637e+03, last_val_loss=+1.390e+17, best_epoch=1, best_loss=+4.898e+11]\n",
            "11it [00:00, 12.17it/s, epoch_progress=100%, train_loss=-5.302e+03, last_val_loss=+2.113e+20, best_epoch=1, best_loss=+4.901e+13]\n",
            "11it [00:02,  4.80it/s, epoch_progress=100%, train_loss=-6.954e+03, last_val_loss=+1.221e+21, best_epoch=1, best_loss=+1.455e+14]\n",
            "11it [00:00, 11.45it/s, epoch_progress=100%, train_loss=-7.851e+03, last_val_loss=+1.028e+21, best_epoch=1, best_loss=+2.613e+14]\n",
            "11it [00:00, 12.47it/s, epoch_progress=100%, train_loss=-7.816e+03, last_val_loss=+3.491e+21, best_epoch=1, best_loss=+2.261e+14]\n",
            "11it [00:00, 12.46it/s, epoch_progress=100%, train_loss=-6.639e+03, last_val_loss=+3.558e+20, best_epoch=1, best_loss=+9.454e+13]\n",
            "11it [00:01,  6.04it/s, epoch_progress=100%, train_loss=-7.195e+03, last_val_loss=+2.510e+20, best_epoch=1, best_loss=+6.305e+13]\n",
            "11it [00:00, 11.71it/s, epoch_progress=100%, train_loss=-6.555e+03, last_val_loss=+8.866e+15, best_epoch=1, best_loss=+4.180e+12]\n",
            "11it [00:00, 11.91it/s, epoch_progress=100%, train_loss=-7.581e+03, last_val_loss=+1.127e+19, best_epoch=1, best_loss=+4.051e+12]\n",
            "11it [00:01, 10.97it/s, epoch_progress=100%, train_loss=-7.469e+03, last_val_loss=+8.543e+20, best_epoch=1, best_loss=+6.400e+13]\n",
            "11it [00:00, 11.95it/s, epoch_progress=100%, train_loss=-7.137e+03, last_val_loss=+2.447e+19, best_epoch=1, best_loss=+1.493e+12]\n",
            "11it [00:01, 10.43it/s, epoch_progress=100%, train_loss=-7.917e+03, last_val_loss=+3.997e+20, best_epoch=1, best_loss=+3.363e+13]\n",
            "11it [00:02,  4.88it/s, epoch_progress=100%, train_loss=-7.016e+03, last_val_loss=+2.796e+18, best_epoch=1, best_loss=+1.176e+12]\n",
            "11it [00:00, 12.19it/s, epoch_progress=100%, train_loss=-7.691e+03, last_val_loss=+6.149e+20, best_epoch=1, best_loss=+2.176e+14]\n",
            "11it [00:00, 12.30it/s, epoch_progress=100%, train_loss=-7.772e+03, last_val_loss=+1.663e+22, best_epoch=1, best_loss=+5.062e+14]\n",
            "11it [00:00, 12.45it/s, epoch_progress=100%, train_loss=-6.849e+03, last_val_loss=+4.320e+20, best_epoch=1, best_loss=+8.188e+13]\n",
            "11it [00:02,  5.02it/s, epoch_progress=100%, train_loss=-7.899e+03, last_val_loss=+9.870e+20, best_epoch=1, best_loss=+1.406e+14]\n",
            "11it [00:04,  2.26it/s, epoch_progress=100%, train_loss=-7.073e+03, last_val_loss=+6.107e+19, best_epoch=1, best_loss=+3.003e+14]\n",
            "14it [00:13,  1.03it/s, epoch_progress=100%, train_loss=-6.551e+03, last_val_loss=+4.181e+16, best_epoch=4, best_loss=+6.349e+11]\n",
            "11it [00:00, 11.81it/s, epoch_progress=100%, train_loss=-7.428e+03, last_val_loss=+1.235e+20, best_epoch=1, best_loss=+1.307e+13]\n",
            "11it [00:00, 12.06it/s, epoch_progress=100%, train_loss=-7.378e+03, last_val_loss=+1.261e+20, best_epoch=1, best_loss=+1.559e+13]\n",
            "11it [00:00, 12.17it/s, epoch_progress=100%, train_loss=-6.833e+03, last_val_loss=+2.011e+22, best_epoch=1, best_loss=+9.551e+14]\n",
            "11it [00:01,  5.99it/s, epoch_progress=100%, train_loss=-7.253e+03, last_val_loss=+5.904e+20, best_epoch=1, best_loss=+6.866e+14]\n",
            "11it [00:00, 11.85it/s, epoch_progress=100%, train_loss=-7.143e+03, last_val_loss=+4.400e+19, best_epoch=1, best_loss=+3.215e+12]\n",
            "11it [00:00, 12.17it/s, epoch_progress=100%, train_loss=-7.306e+03, last_val_loss=+5.294e+17, best_epoch=1, best_loss=+4.983e+11]\n",
            "11it [00:01,  9.80it/s, epoch_progress=100%, train_loss=-8.624e+03, last_val_loss=+5.268e+20, best_epoch=1, best_loss=+3.154e+14]\n",
            "11it [00:00, 12.23it/s, epoch_progress=100%, train_loss=-7.129e+03, last_val_loss=+4.105e+19, best_epoch=1, best_loss=+2.795e+13]\n",
            "11it [00:00, 11.97it/s, epoch_progress=100%, train_loss=-7.801e+03, last_val_loss=+2.289e+18, best_epoch=1, best_loss=+2.872e+12]\n",
            "14it [00:16,  1.17s/it, epoch_progress=100%, train_loss=-7.738e+03, last_val_loss=+5.494e+15, best_epoch=4, best_loss=+8.594e+12]\n",
            "11it [00:00, 12.17it/s, epoch_progress=100%, train_loss=-7.608e+03, last_val_loss=+7.055e+19, best_epoch=1, best_loss=+4.423e+13]\n",
            "11it [00:00, 11.82it/s, epoch_progress=100%, train_loss=-7.982e+03, last_val_loss=+1.452e+21, best_epoch=1, best_loss=+8.671e+13]\n",
            "11it [00:02,  4.61it/s, epoch_progress=100%, train_loss=-6.878e+03, last_val_loss=+4.309e+19, best_epoch=1, best_loss=+7.201e+13]\n",
            "11it [00:00, 12.09it/s, epoch_progress=100%, train_loss=-5.850e+03, last_val_loss=+3.855e+16, best_epoch=1, best_loss=+8.179e+11]\n",
            "11it [00:00, 12.37it/s, epoch_progress=100%, train_loss=-6.334e+03, last_val_loss=+5.315e+18, best_epoch=1, best_loss=+1.274e+13]\n",
            "11it [00:00, 12.27it/s, epoch_progress=100%, train_loss=-6.915e+03, last_val_loss=+2.223e+15, best_epoch=1, best_loss=+4.186e+11]\n",
            "11it [00:00, 12.09it/s, epoch_progress=100%, train_loss=-7.670e+03, last_val_loss=+2.482e+19, best_epoch=1, best_loss=+4.036e+12]\n",
            "11it [00:02,  4.28it/s, epoch_progress=100%, train_loss=-7.009e+03, last_val_loss=+1.328e+21, best_epoch=1, best_loss=+3.459e+14]\n",
            "14it [00:09,  1.51it/s, epoch_progress=100%, train_loss=-6.372e+03, last_val_loss=+8.705e+15, best_epoch=4, best_loss=+3.945e+12]\n",
            "11it [00:00, 11.57it/s, epoch_progress=100%, train_loss=-7.258e+03, last_val_loss=+2.336e+21, best_epoch=1, best_loss=+1.588e+14]\n",
            "11it [00:00, 11.70it/s, epoch_progress=100%, train_loss=-6.785e+03, last_val_loss=+1.997e+19, best_epoch=1, best_loss=+2.014e+14]\n",
            " 50%|█████     | 5/10 [19:56<20:02, 240.55s/it]"
          ],
          "name": "stderr"
        },
        {
          "output_type": "stream",
          "text": [
            "\n",
            "\n",
            "Iteration 4\n",
            "Meta Train Error 0.5756677221506834\n",
            "Meta Train Accuracy 0.78125\n",
            "Meta Valid Error 2.0854630023241043\n",
            "Meta Valid Accuracy 0.3250000085681677\n"
          ],
          "name": "stdout"
        },
        {
          "output_type": "stream",
          "text": [
            "11it [00:00, 12.21it/s, epoch_progress=100%, train_loss=-7.798e+03, last_val_loss=+7.651e+19, best_epoch=1, best_loss=+7.402e+14]\n",
            "11it [00:01,  8.73it/s, epoch_progress=100%, train_loss=-7.239e+03, last_val_loss=+4.715e+20, best_epoch=1, best_loss=+1.276e+14]\n",
            "11it [00:00, 12.30it/s, epoch_progress=100%, train_loss=-8.080e+03, last_val_loss=+2.300e+20, best_epoch=1, best_loss=+6.195e+13]\n",
            "11it [00:00, 12.45it/s, epoch_progress=100%, train_loss=-7.108e+03, last_val_loss=+4.870e+17, best_epoch=1, best_loss=+8.708e+11]\n",
            "11it [00:00, 12.27it/s, epoch_progress=100%, train_loss=-6.913e+03, last_val_loss=+1.564e+19, best_epoch=1, best_loss=+1.234e+14]\n",
            "11it [00:01, 10.72it/s, epoch_progress=100%, train_loss=-7.254e+03, last_val_loss=+4.793e+16, best_epoch=1, best_loss=+7.517e+10]\n",
            "11it [00:02,  4.63it/s, epoch_progress=100%, train_loss=-7.223e+03, last_val_loss=+1.058e+19, best_epoch=1, best_loss=+2.215e+13]\n",
            "11it [00:00, 12.04it/s, epoch_progress=100%, train_loss=-7.865e+03, last_val_loss=+1.368e+19, best_epoch=1, best_loss=+3.024e+13]\n",
            "11it [00:00, 11.69it/s, epoch_progress=100%, train_loss=-6.973e+03, last_val_loss=+9.871e+20, best_epoch=1, best_loss=+4.062e+13]\n",
            "11it [00:01,  5.94it/s, epoch_progress=100%, train_loss=-7.050e+03, last_val_loss=+5.116e+19, best_epoch=1, best_loss=+3.203e+13]\n",
            "11it [00:00, 11.81it/s, epoch_progress=100%, train_loss=-6.234e+03, last_val_loss=+3.437e+15, best_epoch=1, best_loss=+4.058e+10]\n",
            "11it [00:00, 11.70it/s, epoch_progress=100%, train_loss=-7.181e+03, last_val_loss=+2.148e+18, best_epoch=1, best_loss=+2.256e+12]\n",
            "11it [00:01,  6.06it/s, epoch_progress=100%, train_loss=-7.435e+03, last_val_loss=+3.801e+20, best_epoch=1, best_loss=+2.713e+13]\n",
            "11it [00:00, 12.66it/s, epoch_progress=100%, train_loss=-6.968e+03, last_val_loss=+1.816e+21, best_epoch=1, best_loss=+2.565e+14]\n",
            "11it [00:00, 12.53it/s, epoch_progress=100%, train_loss=-7.609e+03, last_val_loss=+7.198e+21, best_epoch=1, best_loss=+3.008e+14]\n",
            "11it [00:00, 12.00it/s, epoch_progress=100%, train_loss=-7.359e+03, last_val_loss=+1.808e+20, best_epoch=1, best_loss=+9.868e+12]\n",
            "11it [00:02,  4.77it/s, epoch_progress=100%, train_loss=-8.052e+03, last_val_loss=+2.615e+21, best_epoch=1, best_loss=+2.108e+14]\n",
            "11it [00:02,  5.49it/s, epoch_progress=100%, train_loss=-8.051e+03, last_val_loss=+9.915e+19, best_epoch=1, best_loss=+1.491e+14]\n",
            "12it [00:02,  4.58it/s, epoch_progress=100%, train_loss=-7.580e+03, last_val_loss=+3.278e+15, best_epoch=2, best_loss=+3.391e+11]\n",
            "11it [00:01,  6.17it/s, epoch_progress=100%, train_loss=-7.011e+03, last_val_loss=+1.565e+16, best_epoch=1, best_loss=+2.137e+12]\n",
            "11it [00:02,  5.10it/s, epoch_progress=100%, train_loss=-7.202e+03, last_val_loss=+1.108e+20, best_epoch=1, best_loss=+2.084e+13]\n",
            "11it [00:00, 11.87it/s, epoch_progress=100%, train_loss=-6.303e+03, last_val_loss=+1.680e+19, best_epoch=1, best_loss=+8.030e+12]\n",
            "11it [00:00, 12.38it/s, epoch_progress=100%, train_loss=-7.158e+03, last_val_loss=+1.959e+19, best_epoch=1, best_loss=+7.589e+12]\n",
            "11it [00:00, 12.44it/s, epoch_progress=100%, train_loss=-6.436e+03, last_val_loss=+8.816e+18, best_epoch=1, best_loss=+1.623e+14]\n",
            "11it [00:02,  4.68it/s, epoch_progress=100%, train_loss=-7.274e+03, last_val_loss=+1.731e+20, best_epoch=1, best_loss=+3.134e+13]\n",
            "11it [00:00, 12.64it/s, epoch_progress=100%, train_loss=-6.567e+03, last_val_loss=+1.776e+16, best_epoch=1, best_loss=+7.669e+13]\n",
            "11it [00:00, 12.15it/s, epoch_progress=100%, train_loss=-6.835e+03, last_val_loss=+2.193e+18, best_epoch=1, best_loss=+6.234e+13]\n",
            "11it [00:02,  4.97it/s, epoch_progress=100%, train_loss=-8.142e+03, last_val_loss=+4.663e+19, best_epoch=1, best_loss=+2.581e+13]\n",
            "11it [00:01,  5.64it/s, epoch_progress=100%, train_loss=-7.234e+03, last_val_loss=+4.133e+21, best_epoch=1, best_loss=+2.700e+14]\n",
            "11it [00:00, 12.22it/s, epoch_progress=100%, train_loss=-7.716e+03, last_val_loss=+1.844e+20, best_epoch=1, best_loss=+5.398e+13]\n",
            "11it [00:00, 12.05it/s, epoch_progress=100%, train_loss=-6.980e+03, last_val_loss=+1.919e+21, best_epoch=1, best_loss=+1.550e+14]\n",
            "11it [00:00, 12.52it/s, epoch_progress=100%, train_loss=-7.116e+03, last_val_loss=+1.167e+18, best_epoch=1, best_loss=+1.283e+14]\n",
            "11it [00:02,  4.96it/s, epoch_progress=100%, train_loss=-7.137e+03, last_val_loss=+7.411e+20, best_epoch=1, best_loss=+4.390e+13]\n",
            "11it [00:01,  6.20it/s, epoch_progress=100%, train_loss=-7.207e+03, last_val_loss=+6.901e+18, best_epoch=1, best_loss=+1.425e+13]\n",
            "11it [00:00, 12.16it/s, epoch_progress=100%, train_loss=-7.694e+03, last_val_loss=+2.184e+21, best_epoch=1, best_loss=+1.408e+14]\n",
            "11it [00:00, 12.55it/s, epoch_progress=100%, train_loss=-6.560e+03, last_val_loss=+5.766e+21, best_epoch=1, best_loss=+5.471e+13]\n",
            "11it [00:00, 12.06it/s, epoch_progress=100%, train_loss=-6.984e+03, last_val_loss=+1.841e+21, best_epoch=1, best_loss=+3.567e+14]\n",
            "13it [00:12,  1.08it/s, epoch_progress=100%, train_loss=-7.430e+03, last_val_loss=+3.712e+15, best_epoch=3, best_loss=+1.172e+12]\n",
            "11it [00:00, 11.83it/s, epoch_progress=100%, train_loss=-7.331e+03, last_val_loss=+2.132e+18, best_epoch=1, best_loss=+4.853e+11]\n",
            "11it [00:01,  6.10it/s, epoch_progress=100%, train_loss=-6.957e+03, last_val_loss=+7.475e+21, best_epoch=1, best_loss=+5.834e+14]\n",
            " 60%|██████    | 6/10 [23:45<15:49, 237.27s/it]"
          ],
          "name": "stderr"
        },
        {
          "output_type": "stream",
          "text": [
            "\n",
            "\n",
            "Iteration 5\n",
            "Meta Train Error 0.6995172202587128\n",
            "Meta Train Accuracy 0.7437500059604645\n",
            "Meta Valid Error 1.5968691259622574\n",
            "Meta Valid Accuracy 0.47500001452863216\n"
          ],
          "name": "stdout"
        },
        {
          "output_type": "stream",
          "text": [
            "11it [00:00, 11.67it/s, epoch_progress=100%, train_loss=-8.128e+03, last_val_loss=+1.222e+21, best_epoch=1, best_loss=+1.261e+14]\n",
            "11it [00:00, 12.64it/s, epoch_progress=100%, train_loss=-7.082e+03, last_val_loss=+1.087e+19, best_epoch=1, best_loss=+2.650e+13]\n",
            "11it [00:00, 12.09it/s, epoch_progress=100%, train_loss=-7.408e+03, last_val_loss=+2.407e+20, best_epoch=1, best_loss=+6.271e+13]\n",
            "11it [00:01,  6.45it/s, epoch_progress=100%, train_loss=-7.791e+03, last_val_loss=+6.687e+20, best_epoch=1, best_loss=+7.124e+14]\n",
            "11it [00:00, 12.09it/s, epoch_progress=100%, train_loss=-6.798e+03, last_val_loss=+7.852e+19, best_epoch=1, best_loss=+3.274e+12]\n",
            "11it [00:00, 12.28it/s, epoch_progress=100%, train_loss=-6.538e+03, last_val_loss=+9.013e+18, best_epoch=1, best_loss=+2.109e+12]\n",
            "11it [00:00, 12.60it/s, epoch_progress=100%, train_loss=-7.114e+03, last_val_loss=+4.067e+19, best_epoch=1, best_loss=+4.098e+12]\n",
            "12it [00:07,  1.65it/s, epoch_progress=100%, train_loss=-7.259e+03, last_val_loss=+5.012e+16, best_epoch=2, best_loss=+1.700e+14]\n",
            "11it [00:02,  4.86it/s, epoch_progress=100%, train_loss=-7.425e+03, last_val_loss=+6.773e+19, best_epoch=1, best_loss=+2.117e+12]\n",
            "11it [00:00, 11.87it/s, epoch_progress=100%, train_loss=-8.401e+03, last_val_loss=+1.117e+18, best_epoch=1, best_loss=+2.013e+12]\n",
            "11it [00:00, 11.88it/s, epoch_progress=100%, train_loss=-6.920e+03, last_val_loss=+1.709e+18, best_epoch=1, best_loss=+5.703e+12]\n",
            "11it [00:00, 11.92it/s, epoch_progress=100%, train_loss=-7.039e+03, last_val_loss=+1.981e+20, best_epoch=1, best_loss=+2.688e+14]\n",
            "11it [00:02,  4.98it/s, epoch_progress=100%, train_loss=-6.989e+03, last_val_loss=+5.325e+19, best_epoch=1, best_loss=+1.368e+13]\n",
            "17it [00:24,  1.45s/it, epoch_progress=100%, train_loss=-7.507e+03, last_val_loss=+4.810e+13, best_epoch=7, best_loss=+9.509e+10]\n",
            "11it [00:00, 12.04it/s, epoch_progress=100%, train_loss=-6.832e+03, last_val_loss=+1.148e+19, best_epoch=1, best_loss=+6.218e+12]\n",
            "11it [00:00, 12.04it/s, epoch_progress=100%, train_loss=-6.894e+03, last_val_loss=+5.359e+18, best_epoch=1, best_loss=+8.283e+12]\n",
            "11it [00:00, 11.76it/s, epoch_progress=100%, train_loss=-7.029e+03, last_val_loss=+1.725e+21, best_epoch=1, best_loss=+6.960e+13]\n",
            "11it [00:02,  4.97it/s, epoch_progress=100%, train_loss=-7.312e+03, last_val_loss=+2.422e+21, best_epoch=1, best_loss=+1.867e+14]\n",
            "11it [00:00, 11.97it/s, epoch_progress=100%, train_loss=-7.820e+03, last_val_loss=+7.624e+18, best_epoch=1, best_loss=+1.371e+14]\n",
            "11it [00:00, 11.75it/s, epoch_progress=100%, train_loss=-7.088e+03, last_val_loss=+3.327e+19, best_epoch=1, best_loss=+3.494e+13]\n",
            "11it [00:01, 10.34it/s, epoch_progress=100%, train_loss=-6.852e+03, last_val_loss=+2.134e+18, best_epoch=1, best_loss=+3.829e+12]\n",
            "11it [00:02,  5.06it/s, epoch_progress=100%, train_loss=-7.669e+03, last_val_loss=+3.070e+18, best_epoch=1, best_loss=+1.473e+13]\n",
            "11it [00:00, 12.01it/s, epoch_progress=100%, train_loss=-6.956e+03, last_val_loss=+1.684e+18, best_epoch=1, best_loss=+7.216e+12]\n",
            "11it [00:00, 12.19it/s, epoch_progress=100%, train_loss=-7.865e+03, last_val_loss=+3.788e+20, best_epoch=1, best_loss=+1.704e+14]\n",
            "11it [00:00, 12.16it/s, epoch_progress=100%, train_loss=-7.159e+03, last_val_loss=+4.330e+21, best_epoch=1, best_loss=+8.905e+13]\n",
            "11it [00:00, 11.98it/s, epoch_progress=100%, train_loss=-6.992e+03, last_val_loss=+9.246e+20, best_epoch=1, best_loss=+2.561e+13]\n",
            "11it [00:00, 11.74it/s, epoch_progress=100%, train_loss=-7.369e+03, last_val_loss=+3.313e+21, best_epoch=1, best_loss=+3.307e+14]\n",
            "11it [00:02,  4.71it/s, epoch_progress=100%, train_loss=-7.034e+03, last_val_loss=+2.411e+11, best_epoch=1, best_loss=+2.544e+09]\n",
            "11it [00:00, 11.45it/s, epoch_progress=100%, train_loss=-7.412e+03, last_val_loss=+2.993e+18, best_epoch=1, best_loss=+1.906e+13]\n",
            "11it [00:00, 11.83it/s, epoch_progress=100%, train_loss=-6.964e+03, last_val_loss=+2.709e+18, best_epoch=1, best_loss=+3.498e+14]\n",
            "11it [00:00, 11.45it/s, epoch_progress=100%, train_loss=-7.069e+03, last_val_loss=+1.766e+20, best_epoch=1, best_loss=+9.370e+12]\n",
            "11it [00:01,  6.70it/s, epoch_progress=100%, train_loss=-6.513e+03, last_val_loss=+6.680e+17, best_epoch=1, best_loss=+3.768e+12]\n",
            "11it [00:00, 11.98it/s, epoch_progress=100%, train_loss=-6.843e+03, last_val_loss=+1.992e+21, best_epoch=1, best_loss=+1.445e+14]\n",
            "12it [00:04,  2.89it/s, epoch_progress=100%, train_loss=-7.454e+03, last_val_loss=+6.147e+18, best_epoch=2, best_loss=+3.253e+13]\n",
            "12it [00:07,  1.67it/s, epoch_progress=100%, train_loss=-7.182e+03, last_val_loss=+2.640e+17, best_epoch=2, best_loss=+4.426e+13]\n",
            "11it [00:00, 11.74it/s, epoch_progress=100%, train_loss=-6.760e+03, last_val_loss=+1.589e+21, best_epoch=1, best_loss=+1.243e+14]\n",
            "11it [00:00, 12.15it/s, epoch_progress=100%, train_loss=-5.977e+03, last_val_loss=+2.550e+19, best_epoch=1, best_loss=+2.239e+12]\n",
            "11it [00:02,  4.52it/s, epoch_progress=100%, train_loss=-8.676e+03, last_val_loss=+9.043e+20, best_epoch=1, best_loss=+4.789e+14]\n",
            "11it [00:00, 11.98it/s, epoch_progress=100%, train_loss=-7.149e+03, last_val_loss=+1.459e+20, best_epoch=1, best_loss=+4.000e+13]\n",
            "11it [00:00, 12.33it/s, epoch_progress=100%, train_loss=-7.291e+03, last_val_loss=+2.438e+18, best_epoch=1, best_loss=+2.218e+14]\n",
            " 70%|███████   | 7/10 [27:58<12:05, 241.99s/it]"
          ],
          "name": "stderr"
        },
        {
          "output_type": "stream",
          "text": [
            "\n",
            "\n",
            "Iteration 6\n",
            "Meta Train Error 0.8329957909882069\n",
            "Meta Train Accuracy 0.6750000044703484\n",
            "Meta Valid Error 1.4871680289506912\n",
            "Meta Valid Accuracy 0.5500000193715096\n"
          ],
          "name": "stdout"
        },
        {
          "output_type": "stream",
          "text": [
            "15it [00:22,  1.49s/it, epoch_progress=100%, train_loss=-7.482e+03, last_val_loss=+1.185e+14, best_epoch=5, best_loss=+2.689e+12]\n",
            "11it [00:00, 12.04it/s, epoch_progress=100%, train_loss=-6.261e+03, last_val_loss=+2.322e+20, best_epoch=1, best_loss=+2.506e+13]\n",
            "11it [00:00, 11.64it/s, epoch_progress=100%, train_loss=-6.850e+03, last_val_loss=+4.741e+15, best_epoch=1, best_loss=+7.308e+11]\n",
            "11it [00:00, 11.88it/s, epoch_progress=100%, train_loss=-7.353e+03, last_val_loss=+1.437e+20, best_epoch=1, best_loss=+2.326e+14]\n",
            "11it [00:02,  4.56it/s, epoch_progress=100%, train_loss=-7.355e+03, last_val_loss=+2.989e+21, best_epoch=1, best_loss=+1.117e+15]\n",
            "11it [00:00, 12.19it/s, epoch_progress=100%, train_loss=-7.084e+03, last_val_loss=+6.611e+18, best_epoch=1, best_loss=+1.046e+12]\n",
            "11it [00:00, 12.28it/s, epoch_progress=100%, train_loss=-7.996e+03, last_val_loss=+7.763e+22, best_epoch=1, best_loss=+6.252e+14]\n",
            "11it [00:00, 12.11it/s, epoch_progress=100%, train_loss=-7.895e+03, last_val_loss=+2.142e+15, best_epoch=1, best_loss=+1.049e+12]\n",
            "11it [00:02,  4.45it/s, epoch_progress=100%, train_loss=-6.595e+03, last_val_loss=+1.049e+21, best_epoch=1, best_loss=+1.880e+13]\n",
            "11it [00:00, 12.32it/s, epoch_progress=100%, train_loss=-7.440e+03, last_val_loss=+4.065e+20, best_epoch=1, best_loss=+5.156e+13]\n",
            "11it [00:00, 12.08it/s, epoch_progress=100%, train_loss=-7.828e+03, last_val_loss=+6.160e+20, best_epoch=1, best_loss=+2.050e+13]\n",
            "11it [00:01,  7.43it/s, epoch_progress=100%, train_loss=-8.202e+03, last_val_loss=+1.371e+20, best_epoch=1, best_loss=+5.458e+13]\n",
            "11it [00:00, 12.05it/s, epoch_progress=100%, train_loss=-6.384e+03, last_val_loss=+9.656e+20, best_epoch=1, best_loss=+2.672e+13]\n",
            "11it [00:00, 11.79it/s, epoch_progress=100%, train_loss=-7.669e+03, last_val_loss=+3.720e+20, best_epoch=1, best_loss=+3.197e+13]\n",
            "11it [00:00, 11.75it/s, epoch_progress=100%, train_loss=-7.036e+03, last_val_loss=+2.710e+20, best_epoch=1, best_loss=+1.128e+13]\n",
            "11it [00:00, 12.26it/s, epoch_progress=100%, train_loss=-7.225e+03, last_val_loss=+1.678e+21, best_epoch=1, best_loss=+4.745e+13]\n",
            "11it [00:01, 10.19it/s, epoch_progress=100%, train_loss=-6.509e+03, last_val_loss=+4.382e+18, best_epoch=1, best_loss=+6.148e+13]\n",
            "11it [00:02,  4.25it/s, epoch_progress=100%, train_loss=-6.946e+03, last_val_loss=+6.904e+19, best_epoch=1, best_loss=+2.340e+12]\n",
            "11it [00:00, 12.24it/s, epoch_progress=100%, train_loss=-6.839e+03, last_val_loss=+2.811e+18, best_epoch=1, best_loss=+1.481e+13]\n",
            "11it [00:00, 12.16it/s, epoch_progress=100%, train_loss=-7.094e+03, last_val_loss=+2.158e+17, best_epoch=1, best_loss=+1.617e+12]\n",
            "11it [00:00, 12.15it/s, epoch_progress=100%, train_loss=-7.824e+03, last_val_loss=+2.124e+21, best_epoch=1, best_loss=+3.273e+14]\n",
            "11it [00:00, 12.00it/s, epoch_progress=100%, train_loss=-7.466e+03, last_val_loss=+3.290e+21, best_epoch=1, best_loss=+1.527e+14]\n",
            "11it [00:02,  4.12it/s, epoch_progress=100%, train_loss=-7.316e+03, last_val_loss=+3.555e+18, best_epoch=1, best_loss=+6.300e+11]\n",
            "11it [00:00, 12.46it/s, epoch_progress=100%, train_loss=-8.184e+03, last_val_loss=+1.921e+21, best_epoch=1, best_loss=+9.805e+14]\n",
            "11it [00:00, 12.32it/s, epoch_progress=100%, train_loss=-7.097e+03, last_val_loss=+1.939e+18, best_epoch=1, best_loss=+8.600e+13]\n",
            "11it [00:00, 12.22it/s, epoch_progress=100%, train_loss=-7.327e+03, last_val_loss=+1.674e+20, best_epoch=1, best_loss=+3.402e+14]\n",
            "11it [00:00, 12.02it/s, epoch_progress=100%, train_loss=-7.523e+03, last_val_loss=+2.216e+22, best_epoch=1, best_loss=+1.076e+15]\n",
            "11it [00:02,  4.59it/s, epoch_progress=100%, train_loss=-7.438e+03, last_val_loss=+1.818e+17, best_epoch=1, best_loss=+1.563e+13]\n",
            "11it [00:00, 12.09it/s, epoch_progress=100%, train_loss=-6.717e+03, last_val_loss=+1.941e+20, best_epoch=1, best_loss=+1.368e+13]\n",
            "11it [00:00, 11.98it/s, epoch_progress=100%, train_loss=-6.956e+03, last_val_loss=+3.031e+19, best_epoch=1, best_loss=+2.094e+14]\n",
            "13it [00:04,  2.92it/s, epoch_progress=100%, train_loss=-7.462e+03, last_val_loss=+4.639e+16, best_epoch=3, best_loss=+2.611e+14]\n",
            "11it [00:02,  5.45it/s, epoch_progress=100%, train_loss=-8.010e+03, last_val_loss=+6.956e+20, best_epoch=1, best_loss=+2.316e+14]\n",
            "11it [00:04,  2.37it/s, epoch_progress=100%, train_loss=-6.808e+03, last_val_loss=+9.898e+20, best_epoch=1, best_loss=+8.423e+13]\n",
            "11it [00:00, 12.41it/s, epoch_progress=100%, train_loss=-7.596e+03, last_val_loss=+6.540e+21, best_epoch=1, best_loss=+2.631e+14]\n",
            "11it [00:00, 12.06it/s, epoch_progress=100%, train_loss=-6.523e+03, last_val_loss=+1.126e+20, best_epoch=1, best_loss=+1.149e+13]\n",
            "11it [00:00, 12.10it/s, epoch_progress=100%, train_loss=-6.823e+03, last_val_loss=+1.733e+19, best_epoch=1, best_loss=+7.621e+13]\n",
            "11it [00:01,  7.07it/s, epoch_progress=100%, train_loss=-7.381e+03, last_val_loss=+1.665e+20, best_epoch=1, best_loss=+6.114e+13]\n",
            "11it [00:01,  8.70it/s, epoch_progress=100%, train_loss=-7.870e+03, last_val_loss=+1.303e+20, best_epoch=1, best_loss=+6.833e+14]\n",
            "12it [00:02,  4.33it/s, epoch_progress=100%, train_loss=-8.732e+03, last_val_loss=+6.757e+18, best_epoch=2, best_loss=+2.606e+14]\n",
            "11it [00:02,  4.95it/s, epoch_progress=100%, train_loss=-7.207e+03, last_val_loss=+1.629e+21, best_epoch=1, best_loss=+1.033e+14]\n",
            " 80%|████████  | 8/10 [31:59<08:03, 241.54s/it]"
          ],
          "name": "stderr"
        },
        {
          "output_type": "stream",
          "text": [
            "\n",
            "\n",
            "Iteration 7\n",
            "Meta Train Error 0.4199875919148326\n",
            "Meta Train Accuracy 0.8718750178813934\n",
            "Meta Valid Error 2.041491612792015\n",
            "Meta Valid Accuracy 0.3750000074505806\n"
          ],
          "name": "stdout"
        },
        {
          "output_type": "stream",
          "text": [
            "12it [00:04,  2.71it/s, epoch_progress=100%, train_loss=-8.549e+03, last_val_loss=+5.182e+16, best_epoch=2, best_loss=+1.467e+12]\n",
            "11it [00:02,  5.06it/s, epoch_progress=100%, train_loss=-6.573e+03, last_val_loss=+1.243e+19, best_epoch=1, best_loss=+2.358e+13]\n",
            "11it [00:00, 11.63it/s, epoch_progress=100%, train_loss=-7.528e+03, last_val_loss=+1.504e+21, best_epoch=1, best_loss=+2.509e+14]\n",
            "11it [00:00, 12.04it/s, epoch_progress=100%, train_loss=-7.276e+03, last_val_loss=+1.672e+20, best_epoch=1, best_loss=+1.191e+14]\n",
            "11it [00:00, 11.65it/s, epoch_progress=100%, train_loss=-7.357e+03, last_val_loss=+9.561e+21, best_epoch=1, best_loss=+2.368e+14]\n",
            "11it [00:01,  9.91it/s, epoch_progress=100%, train_loss=-8.135e+03, last_val_loss=+6.437e+20, best_epoch=1, best_loss=+1.732e+13]\n",
            "11it [00:00, 11.62it/s, epoch_progress=100%, train_loss=-7.247e+03, last_val_loss=+1.147e+20, best_epoch=1, best_loss=+1.015e+14]\n",
            "11it [00:02,  4.39it/s, epoch_progress=100%, train_loss=-7.480e+03, last_val_loss=+1.243e+22, best_epoch=1, best_loss=+2.971e+14]\n",
            "11it [00:00, 11.43it/s, epoch_progress=100%, train_loss=-6.947e+03, last_val_loss=+4.984e+17, best_epoch=1, best_loss=+2.630e+10]\n",
            "11it [00:00, 12.23it/s, epoch_progress=100%, train_loss=-7.003e+03, last_val_loss=+6.257e+19, best_epoch=1, best_loss=+1.243e+13]\n",
            "11it [00:00, 11.81it/s, epoch_progress=100%, train_loss=-7.242e+03, last_val_loss=+1.231e+19, best_epoch=1, best_loss=+4.688e+13]\n",
            "11it [00:01,  5.86it/s, epoch_progress=100%, train_loss=-7.904e+03, last_val_loss=+6.306e+20, best_epoch=1, best_loss=+2.592e+13]\n",
            "11it [00:00, 11.95it/s, epoch_progress=100%, train_loss=-6.007e+03, last_val_loss=+9.674e+18, best_epoch=1, best_loss=+2.367e+13]\n",
            "11it [00:00, 12.40it/s, epoch_progress=100%, train_loss=-5.843e+03, last_val_loss=+1.648e+19, best_epoch=1, best_loss=+1.097e+14]\n",
            "11it [00:00, 11.63it/s, epoch_progress=100%, train_loss=-7.154e+03, last_val_loss=+3.295e+19, best_epoch=1, best_loss=+1.305e+14]\n",
            "11it [00:00, 11.83it/s, epoch_progress=100%, train_loss=-7.666e+03, last_val_loss=+5.219e+18, best_epoch=1, best_loss=+2.525e+13]\n",
            "11it [00:00, 11.74it/s, epoch_progress=100%, train_loss=-8.116e+03, last_val_loss=+5.176e+20, best_epoch=1, best_loss=+4.841e+13]\n",
            "14it [00:17,  1.25s/it, epoch_progress=100%, train_loss=-7.314e+03, last_val_loss=+2.793e+14, best_epoch=4, best_loss=+1.024e+12]\n",
            "11it [00:00, 11.71it/s, epoch_progress=100%, train_loss=-7.454e+03, last_val_loss=+6.591e+19, best_epoch=1, best_loss=+3.022e+13]\n",
            "11it [00:00, 11.94it/s, epoch_progress=100%, train_loss=-7.253e+03, last_val_loss=+2.316e+20, best_epoch=1, best_loss=+9.223e+13]\n",
            "11it [00:00, 12.09it/s, epoch_progress=100%, train_loss=-6.537e+03, last_val_loss=+2.841e+17, best_epoch=1, best_loss=+2.477e+12]\n",
            "11it [00:02,  5.41it/s, epoch_progress=100%, train_loss=-7.417e+03, last_val_loss=+8.657e+19, best_epoch=1, best_loss=+1.080e+13]\n",
            "11it [00:00, 12.30it/s, epoch_progress=100%, train_loss=-7.683e+03, last_val_loss=+1.233e+19, best_epoch=1, best_loss=+2.512e+12]\n",
            "11it [00:00, 12.04it/s, epoch_progress=100%, train_loss=-7.286e+03, last_val_loss=+2.751e+19, best_epoch=1, best_loss=+3.842e+13]\n",
            "11it [00:02,  4.63it/s, epoch_progress=100%, train_loss=-8.351e+03, last_val_loss=+5.409e+18, best_epoch=1, best_loss=+1.747e+14]\n",
            "11it [00:00, 11.51it/s, epoch_progress=100%, train_loss=-6.457e+03, last_val_loss=+1.079e+20, best_epoch=1, best_loss=+2.469e+13]\n",
            "11it [00:00, 11.63it/s, epoch_progress=100%, train_loss=-7.154e+03, last_val_loss=+4.399e+20, best_epoch=1, best_loss=+5.850e+13]\n",
            "11it [00:00, 11.89it/s, epoch_progress=100%, train_loss=-6.274e+03, last_val_loss=+4.563e+19, best_epoch=1, best_loss=+4.300e+12]\n",
            "11it [00:02,  5.15it/s, epoch_progress=100%, train_loss=-7.462e+03, last_val_loss=+1.585e+17, best_epoch=1, best_loss=+9.115e+12]\n",
            "11it [00:00, 12.11it/s, epoch_progress=100%, train_loss=-7.381e+03, last_val_loss=+1.479e+20, best_epoch=1, best_loss=+6.795e+14]\n",
            "11it [00:00, 12.22it/s, epoch_progress=100%, train_loss=-7.461e+03, last_val_loss=+2.079e+19, best_epoch=1, best_loss=+2.797e+12]\n",
            "11it [00:00, 11.97it/s, epoch_progress=100%, train_loss=-6.885e+03, last_val_loss=+4.716e+20, best_epoch=1, best_loss=+1.153e+13]\n",
            "11it [00:02,  4.98it/s, epoch_progress=100%, train_loss=-8.408e+03, last_val_loss=+7.232e+21, best_epoch=1, best_loss=+2.340e+14]\n",
            "11it [00:02,  5.07it/s, epoch_progress=100%, train_loss=-7.449e+03, last_val_loss=+1.565e+19, best_epoch=1, best_loss=+1.235e+14]\n",
            "11it [00:00, 11.83it/s, epoch_progress=100%, train_loss=-7.389e+03, last_val_loss=+6.194e+19, best_epoch=1, best_loss=+9.631e+12]\n",
            "11it [00:00, 12.12it/s, epoch_progress=100%, train_loss=-7.427e+03, last_val_loss=+3.684e+19, best_epoch=1, best_loss=+7.799e+14]\n",
            "11it [00:00, 11.61it/s, epoch_progress=100%, train_loss=-7.866e+03, last_val_loss=+2.837e+19, best_epoch=1, best_loss=+7.042e+12]\n",
            "11it [00:01,  7.38it/s, epoch_progress=100%, train_loss=-6.785e+03, last_val_loss=+9.615e+18, best_epoch=1, best_loss=+3.919e+13]\n",
            "11it [00:00, 11.63it/s, epoch_progress=100%, train_loss=-7.196e+03, last_val_loss=+2.405e+21, best_epoch=1, best_loss=+1.371e+14]\n",
            "11it [00:00, 12.15it/s, epoch_progress=100%, train_loss=-6.637e+03, last_val_loss=+1.143e+18, best_epoch=1, best_loss=+2.864e+13]\n",
            " 90%|█████████ | 9/10 [35:50<03:58, 238.37s/it]"
          ],
          "name": "stderr"
        },
        {
          "output_type": "stream",
          "text": [
            "\n",
            "\n",
            "Iteration 8\n",
            "Meta Train Error 0.625767694786191\n",
            "Meta Train Accuracy 0.7531250044703484\n",
            "Meta Valid Error 1.5699550807476044\n",
            "Meta Valid Accuracy 0.475000012665987\n"
          ],
          "name": "stdout"
        },
        {
          "output_type": "stream",
          "text": [
            "11it [00:00, 11.26it/s, epoch_progress=100%, train_loss=-7.380e+03, last_val_loss=+3.904e+19, best_epoch=1, best_loss=+5.189e+13]\n",
            "11it [00:01,  6.30it/s, epoch_progress=100%, train_loss=-6.803e+03, last_val_loss=+3.901e+18, best_epoch=1, best_loss=+9.309e+13]\n",
            "11it [00:02,  5.23it/s, epoch_progress=100%, train_loss=-7.495e+03, last_val_loss=+3.810e+19, best_epoch=1, best_loss=+3.414e+12]\n",
            "13it [00:03,  4.25it/s, epoch_progress=100%, train_loss=-7.426e+03, last_val_loss=+1.001e+14, best_epoch=3, best_loss=+2.565e+12]\n",
            "11it [00:00, 12.12it/s, epoch_progress=100%, train_loss=-6.937e+03, last_val_loss=+1.365e+22, best_epoch=1, best_loss=+1.092e+14]\n",
            "11it [00:00, 12.60it/s, epoch_progress=100%, train_loss=-7.084e+03, last_val_loss=+8.883e+20, best_epoch=1, best_loss=+1.007e+14]\n",
            "11it [00:00, 12.52it/s, epoch_progress=100%, train_loss=-7.686e+03, last_val_loss=+3.953e+20, best_epoch=1, best_loss=+4.976e+12]\n",
            "11it [00:01,  6.14it/s, epoch_progress=100%, train_loss=-7.519e+03, last_val_loss=+1.915e+18, best_epoch=1, best_loss=+2.009e+12]\n",
            "11it [00:02,  4.86it/s, epoch_progress=100%, train_loss=-7.093e+03, last_val_loss=+1.353e+21, best_epoch=1, best_loss=+2.764e+14]\n",
            "11it [00:00, 11.76it/s, epoch_progress=100%, train_loss=-7.127e+03, last_val_loss=+1.308e+20, best_epoch=1, best_loss=+6.161e+13]\n",
            "11it [00:00, 11.47it/s, epoch_progress=100%, train_loss=-8.284e+03, last_val_loss=+3.251e+20, best_epoch=1, best_loss=+5.125e+14]\n",
            "11it [00:00, 11.97it/s, epoch_progress=100%, train_loss=-7.595e+03, last_val_loss=+1.671e+21, best_epoch=1, best_loss=+1.038e+14]\n",
            "11it [00:01,  6.32it/s, epoch_progress=100%, train_loss=-7.629e+03, last_val_loss=+1.352e+18, best_epoch=1, best_loss=+6.468e+12]\n",
            "11it [00:02,  4.97it/s, epoch_progress=100%, train_loss=-7.144e+03, last_val_loss=+2.112e+18, best_epoch=1, best_loss=+5.485e+13]\n",
            "11it [00:00, 12.63it/s, epoch_progress=100%, train_loss=-7.337e+03, last_val_loss=+1.522e+19, best_epoch=1, best_loss=+5.984e+12]\n",
            "11it [00:00, 12.09it/s, epoch_progress=100%, train_loss=-6.731e+03, last_val_loss=+2.287e+16, best_epoch=1, best_loss=+7.249e+11]\n",
            "15it [00:23,  1.53s/it, epoch_progress=100%, train_loss=-7.699e+03, last_val_loss=+3.862e+12, best_epoch=5, best_loss=+6.331e+10]\n",
            "11it [00:00, 12.06it/s, epoch_progress=100%, train_loss=-7.679e+03, last_val_loss=+2.942e+20, best_epoch=1, best_loss=+3.784e+13]\n",
            "11it [00:00, 11.21it/s, epoch_progress=100%, train_loss=-7.501e+03, last_val_loss=+4.954e+18, best_epoch=1, best_loss=+2.290e+11]\n",
            "11it [00:02,  3.96it/s, epoch_progress=100%, train_loss=-7.374e+03, last_val_loss=+1.057e+19, best_epoch=1, best_loss=+1.446e+14]\n",
            "11it [00:00, 11.43it/s, epoch_progress=100%, train_loss=-7.943e+03, last_val_loss=+5.226e+19, best_epoch=1, best_loss=+1.745e+14]\n",
            "11it [00:00, 12.40it/s, epoch_progress=100%, train_loss=-7.499e+03, last_val_loss=+5.487e+19, best_epoch=1, best_loss=+3.520e+14]\n",
            "11it [00:02,  5.07it/s, epoch_progress=100%, train_loss=-7.481e+03, last_val_loss=+1.635e+21, best_epoch=1, best_loss=+3.108e+14]\n",
            "11it [00:00, 11.68it/s, epoch_progress=100%, train_loss=-8.120e+03, last_val_loss=+5.817e+20, best_epoch=1, best_loss=+1.186e+14]\n",
            "11it [00:00, 11.44it/s, epoch_progress=100%, train_loss=-6.087e+03, last_val_loss=+1.217e+18, best_epoch=1, best_loss=+2.221e+13]\n",
            "11it [00:00, 11.65it/s, epoch_progress=100%, train_loss=-8.473e+03, last_val_loss=+2.305e+19, best_epoch=1, best_loss=+1.202e+13]\n",
            "11it [00:01,  7.02it/s, epoch_progress=100%, train_loss=-6.928e+03, last_val_loss=+7.190e+18, best_epoch=1, best_loss=+2.279e+12]\n",
            "11it [00:00, 11.76it/s, epoch_progress=100%, train_loss=-7.429e+03, last_val_loss=+3.963e+19, best_epoch=1, best_loss=+1.152e+13]\n",
            "11it [00:00, 12.91it/s, epoch_progress=100%, train_loss=-7.736e+03, last_val_loss=+7.373e+17, best_epoch=1, best_loss=+4.419e+14]\n",
            "11it [00:00, 12.29it/s, epoch_progress=100%, train_loss=-7.084e+03, last_val_loss=+3.256e+15, best_epoch=1, best_loss=+5.700e+12]\n",
            "11it [00:00, 12.47it/s, epoch_progress=100%, train_loss=-8.131e+03, last_val_loss=+8.551e+21, best_epoch=1, best_loss=+1.805e+14]\n",
            "11it [00:00, 12.49it/s, epoch_progress=100%, train_loss=-6.458e+03, last_val_loss=+4.484e+20, best_epoch=1, best_loss=+3.956e+13]\n",
            "12it [00:06,  1.94it/s, epoch_progress=100%, train_loss=-7.657e+03, last_val_loss=+1.473e+18, best_epoch=2, best_loss=+2.412e+14]\n",
            "11it [00:00, 12.05it/s, epoch_progress=100%, train_loss=-6.504e+03, last_val_loss=+9.911e+19, best_epoch=1, best_loss=+7.926e+13]\n",
            "11it [00:00, 11.90it/s, epoch_progress=100%, train_loss=-7.110e+03, last_val_loss=+2.165e+19, best_epoch=1, best_loss=+1.522e+14]\n",
            "11it [00:00, 11.45it/s, epoch_progress=100%, train_loss=-7.815e+03, last_val_loss=+2.555e+21, best_epoch=1, best_loss=+9.932e+14]\n",
            "11it [00:01,  6.58it/s, epoch_progress=100%, train_loss=-7.359e+03, last_val_loss=+1.505e+19, best_epoch=1, best_loss=+8.514e+12]\n",
            "11it [00:00, 11.47it/s, epoch_progress=100%, train_loss=-6.633e+03, last_val_loss=+3.651e+18, best_epoch=1, best_loss=+1.529e+11]\n",
            "11it [00:00, 11.92it/s, epoch_progress=100%, train_loss=-6.721e+03, last_val_loss=+4.906e+19, best_epoch=1, best_loss=+6.764e+13]\n",
            "12it [00:06,  1.88it/s, epoch_progress=100%, train_loss=-7.335e+03, last_val_loss=+2.577e+19, best_epoch=2, best_loss=+6.258e+14]\n",
            "100%|██████████| 10/10 [39:59<00:00, 239.95s/it]"
          ],
          "name": "stderr"
        },
        {
          "output_type": "stream",
          "text": [
            "\n",
            "\n",
            "Iteration 9\n",
            "Meta Train Error 0.5504261367022991\n",
            "Meta Train Accuracy 0.8093750029802322\n",
            "Meta Valid Error 2.0175972804427147\n",
            "Meta Valid Accuracy 0.35000000707805157\n"
          ],
          "name": "stdout"
        },
        {
          "output_type": "stream",
          "text": [
            "\n"
          ],
          "name": "stderr"
        }
      ]
    },
    {
      "cell_type": "markdown",
      "metadata": {
        "id": "HSN9WANX_JOw"
      },
      "source": [
        "CI 95%"
      ]
    },
    {
      "cell_type": "code",
      "metadata": {
        "colab": {
          "base_uri": "https://localhost:8080/"
        },
        "id": "12IMsWk7-K6X",
        "outputId": "5ea68fa0-e981-4103-9b84-b6f0501b76f1"
      },
      "source": [
        "acc_acuracy=[]\n",
        "iterations=600\n",
        "\n",
        "for _ in range(iterations):\n",
        "  meta_test_error = 0.0\n",
        "  meta_test_accuracy = 0.0\n",
        "\n",
        "  for task in range(meta_batch_size):\n",
        "\n",
        "      # Compute meta-testing loss\n",
        "      learner = maml.clone()\n",
        "      batch = tasksets.test.sample()\n",
        "      evaluation_error, evaluation_accuracy = fast_adapt(batch,\n",
        "                                                          learner,\n",
        "                                                          loss,\n",
        "                                                          3,\n",
        "                                                          shots,\n",
        "                                                          ways,\n",
        "                                                          device)\n",
        "      meta_test_error += evaluation_error.item()\n",
        "      meta_test_accuracy += evaluation_accuracy.item()\n",
        "\n",
        "  # print('Meta Test Error', meta_test_error / meta_batch_size)\n",
        "  # print('Meta Test Accuracy', meta_test_accuracy / meta_batch_size)\n",
        "  acc_acuracy.append(meta_test_accuracy/meta_batch_size)\n",
        "\n",
        "\n",
        "acc_acuracy = np.array(acc_acuracy)\n",
        "means = np.mean(acc_acuracy, 0)\n",
        "stds = np.std(acc_acuracy, 0)\n",
        "ci95 = 1.96*stds/np.sqrt(iterations)\n",
        "\n",
        "print('Mean accuracy/loss, stddev, and confidence intervals')\n",
        "print((means, stds, ci95))"
      ],
      "execution_count": null,
      "outputs": [
        {
          "output_type": "stream",
          "text": [
            "Mean accuracy/loss, stddev, and confidence intervals\n",
            "(0.5691250121283035, 0.08361534639018414, 0.006690621155185938)\n"
          ],
          "name": "stdout"
        }
      ]
    },
    {
      "cell_type": "code",
      "metadata": {
        "id": "5L2ZT_d9WxVx",
        "colab": {
          "base_uri": "https://localhost:8080/"
        },
        "outputId": "754bfe96-2514-4673-b47f-d13970b0e2f2"
      },
      "source": [
        "print(acc_acuracy[acc_acuracy.argmin()])\n",
        "print(acc_acuracy[acc_acuracy.argmax()])"
      ],
      "execution_count": null,
      "outputs": [
        {
          "output_type": "stream",
          "text": [
            "0.3250000048428774\n",
            "0.8250000104308128\n"
          ],
          "name": "stdout"
        }
      ]
    },
    {
      "cell_type": "markdown",
      "metadata": {
        "id": "JPqS6XYda6yV"
      },
      "source": [
        "**Random Task accuracy**"
      ]
    },
    {
      "cell_type": "code",
      "metadata": {
        "colab": {
          "base_uri": "https://localhost:8080/"
        },
        "id": "CFt0o60PoYzS",
        "outputId": "45a2869e-70bc-4b13-b11e-ce36a23e5e78"
      },
      "source": [
        "meta_test_error = 0.0\n",
        "meta_test_accuracy = 0.0\n",
        "for task in range(meta_batch_size):\n",
        "\n",
        "    # Compute meta-testing loss\n",
        "    learner = maml.clone()\n",
        "    batch = tasksets.test.sample()\n",
        "    evaluation_error, evaluation_accuracy = fast_adapt(batch,\n",
        "                                                        learner,\n",
        "                                                        loss,\n",
        "                                                        5,\n",
        "                                                        shots,\n",
        "                                                        ways,\n",
        "                                                        device)\n",
        "    meta_test_error += evaluation_error.item()\n",
        "    meta_test_accuracy += evaluation_accuracy.item()\n",
        "print('Meta Test Error', meta_test_error / meta_batch_size)\n",
        "print('Meta Test Accuracy', meta_test_accuracy / meta_batch_size)"
      ],
      "execution_count": null,
      "outputs": [
        {
          "output_type": "stream",
          "text": [
            "Meta Test Error 0.8597511872649193\n",
            "Meta Test Accuracy 0.7000000141561031\n"
          ],
          "name": "stdout"
        }
      ]
    },
    {
      "cell_type": "code",
      "metadata": {
        "colab": {
          "base_uri": "https://localhost:8080/"
        },
        "id": "tCWB73fSHt8L",
        "outputId": "0b51a03a-4064-4b8a-bba2-3963b97aeea5"
      },
      "source": [
        "meta_test_error = 0.0\n",
        "meta_test_accuracy = 0.0\n",
        "for task in range(meta_batch_size):\n",
        "\n",
        "    # Compute meta-testing loss\n",
        "    learner = maml.clone()\n",
        "    batch = tasksets.test.sample()\n",
        "    evaluation_error, evaluation_accuracy = fast_adapt(batch,\n",
        "                                                        learner,\n",
        "                                                        loss,\n",
        "                                                        3,\n",
        "                                                        shots,\n",
        "                                                        ways,\n",
        "                                                        device)\n",
        "    meta_test_error += evaluation_error.item()\n",
        "    meta_test_accuracy += evaluation_accuracy.item()\n",
        "print('Meta Test Error', meta_test_error / meta_batch_size)\n",
        "print('Meta Test Accuracy', meta_test_accuracy / meta_batch_size)"
      ],
      "execution_count": null,
      "outputs": [
        {
          "output_type": "stream",
          "text": [
            "Meta Test Error 0.7645831368863583\n",
            "Meta Test Accuracy 0.725000012665987\n"
          ],
          "name": "stdout"
        }
      ]
    },
    {
      "cell_type": "markdown",
      "metadata": {
        "id": "374D4HRsGBbo"
      },
      "source": [
        "**EXP3** \n",
        "---\n",
        "**train the flow conditioned on the classes** \n",
        "\n",
        "**fully connected neural network for calssification**   \n",
        "\n",
        "**5 ways 1 shots**\n",
        "\n",
        "**10 iterations** \n",
        "\n",
        "**batch size 8**\n",
        "\n",
        "normalizing flow of \n",
        "\n",
        "BatchNorm Layer \n",
        "\n",
        "MADE Layer\n",
        "\n",
        "----\n",
        "\n",
        "```\n",
        "\n",
        "for each task \n",
        "    train flow conditioned on task's classes\n",
        "    generate data (75 images)\n",
        "  fast adapt using generated data \n",
        "\n",
        "        \n",
        "```\n",
        "----\n",
        "**Results** \n",
        "\n",
        "**time 08:04 min**\n",
        "\n",
        "Mean accuracy/loss, stddev, and confidence intervals\n",
        "\n",
        "(0.5365833435983708, 0.09937928944376485, 0.007951999304494365)\n",
        "\n"
      ]
    },
    {
      "cell_type": "code",
      "metadata": {
        "id": "hUi8V7b2ZPEW"
      },
      "source": [
        "def accuracy(predictions, targets):\n",
        "    predictions = predictions.argmax(dim=1).view(targets.shape)\n",
        "    return (predictions == targets).sum().float() / targets.size(0)\n",
        "\n",
        "\n",
        "def fast_adapt(batch, learner, loss, adaptation_steps, shots, ways, device):\n",
        "    data, labels = batch\n",
        "    # print(\"data:  \",data.shape)\n",
        "    data, labels = data.to(device), labels.to(device, dtype=torch.int64)\n",
        "    # Separate data into adaptation/evalutation sets\n",
        "    adaptation_indices = np.zeros(data.size(0), dtype=bool)\n",
        "    adaptation_indices[np.arange(shots*ways) * 2] = True\n",
        "    evaluation_indices = torch.from_numpy(~adaptation_indices)\n",
        "    adaptation_indices = torch.from_numpy(adaptation_indices)\n",
        "    adaptation_data, adaptation_labels = data[adaptation_indices], labels[adaptation_indices]\n",
        "    evaluation_data, evaluation_labels = data[evaluation_indices], labels[evaluation_indices]\n",
        "\n",
        "    # Adapt the model\n",
        "    for step in range(adaptation_steps):\n",
        "        train_error = loss(learner(adaptation_data), adaptation_labels)\n",
        "        learner.adapt(train_error)\n",
        "\n",
        "\n",
        "    # Evaluate the adapted model\n",
        "    predictions = learner(evaluation_data)\n",
        "    valid_error = loss(predictions, evaluation_labels)\n",
        "    valid_accuracy = accuracy(predictions, evaluation_labels)\n",
        "    return valid_error, valid_accuracy\n",
        "\n",
        "\n",
        "def fast_adapt_train(batch, learner, loss, adaptation_steps, shots, ways, device):\n",
        "    data, labels = batch\n",
        "    # print(\"labels:  \",labels.shape)\n",
        "    data, labels = data.to(device), labels.to(device, dtype=torch.int64)\n",
        "    # Separate data into adaptation/evalutation sets\n",
        "    adaptation_indices = np.zeros(data.size(0), dtype=bool)\n",
        "    adaptation_indices[np.arange(37) * 2] = True\n",
        "\n",
        "    evaluation_indices = torch.from_numpy(~adaptation_indices)\n",
        "\n",
        "    adaptation_indices = torch.from_numpy(adaptation_indices)\n",
        "    adaptation_data, adaptation_labels = data[adaptation_indices], labels[adaptation_indices]\n",
        "    evaluation_data, evaluation_labels = data[evaluation_indices], labels[evaluation_indices]\n",
        "    # print(adaptation_data.shape)\n",
        "    # Adapt the model\n",
        "    for step in range(adaptation_steps):\n",
        "        train_error = loss(learner(adaptation_data), adaptation_labels)\n",
        "        learner.adapt(train_error)\n",
        "\n",
        "\n",
        "    # Evaluate the adapted model\n",
        "    predictions = learner(evaluation_data)\n",
        "    valid_error = loss(predictions, evaluation_labels)\n",
        "    valid_accuracy = accuracy(predictions, evaluation_labels)\n",
        "    return valid_error, valid_accuracy\n",
        "\n",
        "def train_flow (trainX ,cond_train, valX ,cond_val, device):\n",
        "\n",
        "  \n",
        "  # trainX has a shape of (count , channel , pixles,pixles)\n",
        "  \n",
        "\n",
        "  trainX = torch.flatten(trainX,1,-1)\n",
        "  valX = torch.flatten(valX , 1,-1)\n",
        "  dim=trainX.shape[1]\n",
        "  \n",
        "  # print(cond_train)\n",
        "  cond_train = torch.nn.functional.one_hot(cond_train)\n",
        "  cond_val   = torch.nn.functional.one_hot(cond_val) \n",
        "  # print(cond_train)\n",
        "  cond_dim = cond_train.size(1)\n",
        "  flow = Sequential(      \n",
        "\n",
        "# very slow in sampling \n",
        "    # inv_flow(Sigmoid)(dim=dim),\n",
        "    # BatchNorm(dim=dim),\n",
        "    # MADE(DSF(dim=dim)),\n",
        "    # Affine(dim=dim),  \n",
        "\n",
        "      BatchNorm(dim=dim),\n",
        "      MADE(AffineTransformer(dim=dim) , cond_dim=cond_dim),\n",
        "  ).to(device)\n",
        "\n",
        "\n",
        "  train_losses, val_losses = train(flow, trainX, valX ,cond_train=cond_train, cond_val=cond_val , patience=10 )\n",
        " \n",
        "  test_labels = np.random.choice(5, size=(75))\n",
        "  test_labels = torch.from_numpy(test_labels)\n",
        "  test_cond = torch.nn.functional.one_hot(test_labels)\n",
        "\n",
        "  with torch.no_grad():\n",
        "    train_data = flow.sample(75,cond=test_cond.to(device)).cpu()\n",
        "\n",
        "  # return train_data, train_losses , val_losses , mean , var\n",
        "  return torch.reshape(train_data , (75,1,28,28)) , test_labels\n",
        "\n",
        "\n"
      ],
      "execution_count": null,
      "outputs": []
    },
    {
      "cell_type": "code",
      "metadata": {
        "colab": {
          "base_uri": "https://localhost:8080/"
        },
        "id": "MgW4lgsLZOM7",
        "outputId": "81415cc3-49c2-426b-f03a-e24a1c1650bf"
      },
      "source": [
        "ways=5\n",
        "shots=1\n",
        "meta_lr=0.003\n",
        "fast_lr=0.5\n",
        "meta_batch_size=8\n",
        "adaptation_steps=1\n",
        "num_iterations=10\n",
        "cuda=True\n",
        "# seed=42\n",
        "# Load train/validation/test tasksets using the benchmark interface\n",
        "tasksets = l2l.vision.benchmarks.get_tasksets('omniglot',\n",
        "                                                  train_ways=ways,\n",
        "                                                  train_samples=2*shots,\n",
        "                                                  test_ways=ways,\n",
        "                                                  test_samples=2*shots,\n",
        "                                                  num_tasks=20000,\n",
        "                                                  root='~/data',\n",
        "    )\n",
        "\n"
      ],
      "execution_count": null,
      "outputs": [
        {
          "output_type": "stream",
          "text": [
            "/usr/local/lib/python3.7/dist-packages/torchvision/transforms/transforms.py:281: UserWarning: Argument interpolation should be of type InterpolationMode instead of int. Please, use InterpolationMode enum.\n",
            "  \"Argument interpolation should be of type InterpolationMode instead of int. \"\n"
          ],
          "name": "stderr"
        },
        {
          "output_type": "stream",
          "text": [
            "Files already downloaded and verified\n",
            "Files already downloaded and verified\n"
          ],
          "name": "stdout"
        }
      ]
    },
    {
      "cell_type": "code",
      "metadata": {
        "id": "0eteAj9N0baD",
        "colab": {
          "base_uri": "https://localhost:8080/"
        },
        "outputId": "900b3e46-97c9-4efc-c27e-91744a8ca8ce"
      },
      "source": [
        "\n",
        "device = torch.device('cpu')\n",
        "if cuda:\n",
        "  # torch.cuda.manual_seed(seed)\n",
        "  device = torch.device('cuda')\n",
        "\n",
        "# Create model\n",
        "model = l2l.vision.models.OmniglotFC(28 ** 2, ways)\n",
        "model.to(device)\n",
        "maml = l2l.algorithms.MAML(model, lr=fast_lr, first_order=False)\n",
        "opt = optim.Adam(maml.parameters(), meta_lr)\n",
        "loss = nn.CrossEntropyLoss(reduction='mean')\n",
        "\n",
        "\n",
        "from tqdm import tqdm\n",
        "\n",
        "for iteration in tqdm(range(num_iterations)):\n",
        "    opt.zero_grad()\n",
        "    meta_train_error = 0.0\n",
        "    meta_train_accuracy = 0.0\n",
        "    meta_valid_error = 0.0\n",
        "    meta_valid_accuracy = 0.0\n",
        "\n",
        "    for task in range(meta_batch_size):\n",
        "        # Compute meta-training loss\n",
        "        # learner = maml.clone()\n",
        "\n",
        "        # generate batch the batch contains # ways*shots , channels , img size  and labels \n",
        "        train_batch = tasksets.train.sample()\n",
        "        val_batch = tasksets.validation.sample()\n",
        "\n",
        "        # split batch based on classes in labels then   labels.split(int(data.shape[0]/ways))\n",
        "        train_data, train_labels = train_batch\n",
        "        val_data , val_labels= val_batch\n",
        "\n",
        "        \n",
        "        train_data_generator ,train_lable_generator  = train_flow (train_data ,train_labels , val_data, val_labels , device)\n",
        "\n",
        "        # train_data_generator = torch.cat(train_data_generator)\n",
        "        # train_lable_generator = torch.cat(train_lable_generator)\n",
        "        \n",
        "        batch = [train_data_generator ,train_lable_generator]\n",
        "\n",
        "        learner = maml.clone()            \n",
        "        \n",
        "        evaluation_error, evaluation_accuracy = fast_adapt_train(batch,\n",
        "                                                            learner,\n",
        "                                                            loss,\n",
        "                                                            adaptation_steps,\n",
        "                                                            shots,\n",
        "                                                            ways,\n",
        "                                                            device)\n",
        "        evaluation_error.backward()\n",
        "        meta_train_error += evaluation_error.item()\n",
        "        meta_train_accuracy += evaluation_accuracy.item()\n",
        "\n",
        "# ''''''''''''''''''''''''''''''''''''''''''''''''''''''''''''''''''''''''''''''''''''\n",
        "\n",
        "        # Compute meta-validation loss\n",
        "        batch = tasksets.validation.sample()\n",
        "        \n",
        "        learner = maml.clone()\n",
        "        evaluation_error, evaluation_accuracy = fast_adapt(batch,learner,loss,adaptation_steps,shots,ways,\n",
        "                                                            device)\n",
        "        meta_valid_error += evaluation_error.item()\n",
        "        meta_valid_accuracy += evaluation_accuracy.item()\n",
        "\n",
        "    # Print some metrics\n",
        "    print('\\n')\n",
        "    print('Iteration', iteration)\n",
        "    print('Meta Train Error', meta_train_error / meta_batch_size)\n",
        "    print('Meta Train Accuracy', meta_train_accuracy / meta_batch_size)\n",
        "    print('Meta Valid Error', meta_valid_error / meta_batch_size)\n",
        "    print('Meta Valid Accuracy', meta_valid_accuracy / meta_batch_size)\n",
        "\n",
        "    # Average the accumulated gradients and optimize\n",
        "    for p in maml.parameters():\n",
        "        p.grad.data.mul_(1.0 / meta_batch_size)\n",
        "    opt.step()\n"
      ],
      "execution_count": null,
      "outputs": [
        {
          "output_type": "stream",
          "text": [
            "11it [00:01, 10.91it/s, epoch_progress=100%, train_loss=-5.463e+03, last_val_loss=+1.272e+17, best_epoch=1, best_loss=+1.010e+13]\n",
            "11it [00:00, 11.65it/s, epoch_progress=100%, train_loss=-5.328e+03, last_val_loss=+5.343e+19, best_epoch=1, best_loss=+5.334e+12]\n",
            "11it [00:00, 11.94it/s, epoch_progress=100%, train_loss=-5.233e+03, last_val_loss=+2.409e+19, best_epoch=1, best_loss=+4.610e+12]\n",
            "11it [00:00, 11.85it/s, epoch_progress=100%, train_loss=-4.585e+03, last_val_loss=+4.572e+13, best_epoch=1, best_loss=+3.721e+09]\n",
            "11it [00:00, 11.74it/s, epoch_progress=100%, train_loss=-4.100e+03, last_val_loss=+1.525e+17, best_epoch=1, best_loss=+1.749e+12]\n",
            "11it [00:00, 11.76it/s, epoch_progress=100%, train_loss=-4.313e+03, last_val_loss=+6.099e+14, best_epoch=1, best_loss=+1.150e+10]\n",
            "11it [00:00, 11.20it/s, epoch_progress=100%, train_loss=-4.370e+03, last_val_loss=+1.761e+17, best_epoch=1, best_loss=+2.662e+11]\n",
            "11it [00:00, 11.44it/s, epoch_progress=100%, train_loss=-5.280e+03, last_val_loss=+2.483e+20, best_epoch=1, best_loss=+1.042e+14]\n",
            " 10%|█         | 1/10 [00:48<07:20, 48.91s/it]"
          ],
          "name": "stderr"
        },
        {
          "output_type": "stream",
          "text": [
            "\n",
            "\n",
            "Iteration 0\n",
            "Meta Train Error 1.640379637479782\n",
            "Meta Train Accuracy 0.20723684318363667\n",
            "Meta Valid Error 1.5225267857313156\n",
            "Meta Valid Accuracy 0.3500000052154064\n"
          ],
          "name": "stdout"
        },
        {
          "output_type": "stream",
          "text": [
            "11it [00:00, 11.49it/s, epoch_progress=100%, train_loss=-3.585e+03, last_val_loss=+1.510e+15, best_epoch=1, best_loss=+1.453e+10]\n",
            "11it [00:00, 11.35it/s, epoch_progress=100%, train_loss=-5.097e+03, last_val_loss=+1.331e+19, best_epoch=1, best_loss=+2.868e+13]\n",
            "11it [00:00, 11.88it/s, epoch_progress=100%, train_loss=-3.561e+03, last_val_loss=+1.554e+18, best_epoch=1, best_loss=+6.142e+11]\n",
            "11it [00:00, 11.93it/s, epoch_progress=100%, train_loss=-5.030e+03, last_val_loss=+4.666e+18, best_epoch=1, best_loss=+1.633e+11]\n",
            "11it [00:00, 11.95it/s, epoch_progress=100%, train_loss=-4.384e+03, last_val_loss=+1.562e+19, best_epoch=1, best_loss=+3.163e+11]\n",
            "11it [00:00, 11.69it/s, epoch_progress=100%, train_loss=-4.546e+03, last_val_loss=+5.021e+20, best_epoch=1, best_loss=+1.444e+13]\n",
            "11it [00:00, 12.10it/s, epoch_progress=100%, train_loss=-4.193e+03, last_val_loss=+9.559e+18, best_epoch=1, best_loss=+3.990e+12]\n",
            "11it [00:00, 11.74it/s, epoch_progress=100%, train_loss=-5.076e+03, last_val_loss=+7.975e+16, best_epoch=1, best_loss=+5.799e+09]\n",
            " 20%|██        | 2/10 [01:36<06:28, 48.54s/it]"
          ],
          "name": "stderr"
        },
        {
          "output_type": "stream",
          "text": [
            "\n",
            "\n",
            "Iteration 1\n",
            "Meta Train Error 1.6397636234760284\n",
            "Meta Train Accuracy 0.20723683759570122\n",
            "Meta Valid Error 1.4876786470413208\n",
            "Meta Valid Accuracy 0.3500000089406967\n"
          ],
          "name": "stdout"
        },
        {
          "output_type": "stream",
          "text": [
            "12it [00:01,  7.44it/s, epoch_progress=100%, train_loss=-4.305e+03, last_val_loss=+6.655e+13, best_epoch=2, best_loss=+1.120e+10]\n",
            "11it [00:00, 11.60it/s, epoch_progress=100%, train_loss=-4.610e+03, last_val_loss=+8.492e+17, best_epoch=1, best_loss=+5.669e+11]\n",
            "11it [00:00, 11.52it/s, epoch_progress=100%, train_loss=-4.379e+03, last_val_loss=+2.820e+17, best_epoch=1, best_loss=+2.455e+12]\n",
            "11it [00:00, 11.67it/s, epoch_progress=100%, train_loss=-5.265e+03, last_val_loss=+4.506e+17, best_epoch=1, best_loss=+3.317e+12]\n",
            "11it [00:00, 11.35it/s, epoch_progress=100%, train_loss=-4.591e+03, last_val_loss=+1.492e+16, best_epoch=1, best_loss=+1.353e+10]\n",
            "11it [00:00, 11.72it/s, epoch_progress=100%, train_loss=-6.189e+03, last_val_loss=+1.630e+18, best_epoch=1, best_loss=+1.709e+13]\n",
            "11it [00:00, 11.71it/s, epoch_progress=100%, train_loss=-5.673e+03, last_val_loss=+1.271e+20, best_epoch=1, best_loss=+4.847e+13]\n",
            "11it [00:00, 11.63it/s, epoch_progress=100%, train_loss=-4.968e+03, last_val_loss=+1.083e+16, best_epoch=1, best_loss=+1.591e+10]\n",
            " 30%|███       | 3/10 [02:25<05:41, 48.73s/it]"
          ],
          "name": "stderr"
        },
        {
          "output_type": "stream",
          "text": [
            "\n",
            "\n",
            "Iteration 2\n",
            "Meta Train Error 1.6757132411003113\n",
            "Meta Train Accuracy 0.18749999813735485\n",
            "Meta Valid Error 1.5259385704994202\n",
            "Meta Valid Accuracy 0.3000000063329935\n"
          ],
          "name": "stdout"
        },
        {
          "output_type": "stream",
          "text": [
            "11it [00:00, 11.70it/s, epoch_progress=100%, train_loss=-5.249e+03, last_val_loss=+4.059e+20, best_epoch=1, best_loss=+1.014e+13]\n",
            "11it [00:00, 12.06it/s, epoch_progress=100%, train_loss=-5.498e+03, last_val_loss=+4.498e+17, best_epoch=1, best_loss=+2.611e+12]\n",
            "11it [00:00, 12.11it/s, epoch_progress=100%, train_loss=-4.349e+03, last_val_loss=+8.177e+19, best_epoch=1, best_loss=+5.109e+12]\n",
            "11it [00:00, 11.38it/s, epoch_progress=100%, train_loss=-4.768e+03, last_val_loss=+8.284e+15, best_epoch=1, best_loss=+6.533e+09]\n",
            "12it [00:01,  7.00it/s, epoch_progress=100%, train_loss=-3.735e+03, last_val_loss=+1.807e+12, best_epoch=2, best_loss=+1.133e+09]\n",
            "11it [00:00, 11.70it/s, epoch_progress=100%, train_loss=-4.184e+03, last_val_loss=+8.884e+19, best_epoch=1, best_loss=+1.265e+13]\n",
            "11it [00:00, 11.45it/s, epoch_progress=100%, train_loss=-3.982e+03, last_val_loss=+1.036e+18, best_epoch=1, best_loss=+1.311e+11]\n",
            "11it [00:00, 12.08it/s, epoch_progress=100%, train_loss=-5.096e+03, last_val_loss=+1.529e+19, best_epoch=1, best_loss=+1.375e+13]\n",
            " 40%|████      | 4/10 [03:14<04:52, 48.74s/it]"
          ],
          "name": "stderr"
        },
        {
          "output_type": "stream",
          "text": [
            "\n",
            "\n",
            "Iteration 3\n",
            "Meta Train Error 1.6477728933095932\n",
            "Meta Train Accuracy 0.22697368636727333\n",
            "Meta Valid Error 1.6079481095075607\n",
            "Meta Valid Accuracy 0.2500000037252903\n"
          ],
          "name": "stdout"
        },
        {
          "output_type": "stream",
          "text": [
            "11it [00:00, 12.12it/s, epoch_progress=100%, train_loss=-4.038e+03, last_val_loss=+2.240e+15, best_epoch=1, best_loss=+1.383e+09]\n",
            "11it [00:00, 11.33it/s, epoch_progress=100%, train_loss=-4.181e+03, last_val_loss=+1.790e+18, best_epoch=1, best_loss=+1.127e+12]\n",
            "11it [00:00, 11.59it/s, epoch_progress=100%, train_loss=-4.779e+03, last_val_loss=+1.707e+18, best_epoch=1, best_loss=+2.757e+13]\n",
            "11it [00:00, 11.54it/s, epoch_progress=100%, train_loss=-5.049e+03, last_val_loss=+1.936e+19, best_epoch=1, best_loss=+1.590e+13]\n",
            "11it [00:00, 11.37it/s, epoch_progress=100%, train_loss=-4.712e+03, last_val_loss=+1.678e+16, best_epoch=1, best_loss=+2.286e+11]\n",
            "12it [00:01,  7.72it/s, epoch_progress=100%, train_loss=-3.929e+03, last_val_loss=+1.069e+16, best_epoch=2, best_loss=+1.826e+11]\n",
            "11it [00:00, 12.04it/s, epoch_progress=100%, train_loss=-3.883e+03, last_val_loss=+3.021e+17, best_epoch=1, best_loss=+9.851e+12]\n",
            "11it [00:00, 11.80it/s, epoch_progress=100%, train_loss=-4.389e+03, last_val_loss=+6.593e+18, best_epoch=1, best_loss=+1.250e+13]\n",
            " 50%|█████     | 5/10 [04:03<04:03, 48.73s/it]"
          ],
          "name": "stderr"
        },
        {
          "output_type": "stream",
          "text": [
            "\n",
            "\n",
            "Iteration 4\n",
            "Meta Train Error 1.6778264343738556\n",
            "Meta Train Accuracy 0.17763157933950424\n",
            "Meta Valid Error 1.6462428271770477\n",
            "Meta Valid Accuracy 0.20000000298023224\n"
          ],
          "name": "stdout"
        },
        {
          "output_type": "stream",
          "text": [
            "11it [00:00, 11.85it/s, epoch_progress=100%, train_loss=-4.005e+03, last_val_loss=+1.488e+18, best_epoch=1, best_loss=+7.779e+11]\n",
            "11it [00:00, 12.27it/s, epoch_progress=100%, train_loss=-5.184e+03, last_val_loss=+2.674e+20, best_epoch=1, best_loss=+1.434e+13]\n",
            "12it [00:01,  7.68it/s, epoch_progress=100%, train_loss=-4.623e+03, last_val_loss=+2.128e+13, best_epoch=2, best_loss=+4.691e+10]\n",
            "11it [00:00, 11.42it/s, epoch_progress=100%, train_loss=-4.251e+03, last_val_loss=+9.178e+17, best_epoch=1, best_loss=+1.517e+11]\n",
            "11it [00:00, 11.14it/s, epoch_progress=100%, train_loss=-4.138e+03, last_val_loss=+5.093e+13, best_epoch=1, best_loss=+3.718e+10]\n",
            "11it [00:00, 11.62it/s, epoch_progress=100%, train_loss=-5.768e+03, last_val_loss=+3.128e+16, best_epoch=1, best_loss=+9.212e+12]\n",
            "11it [00:00, 11.43it/s, epoch_progress=100%, train_loss=-5.010e+03, last_val_loss=+9.997e+19, best_epoch=1, best_loss=+1.094e+13]\n",
            "11it [00:00, 11.54it/s, epoch_progress=100%, train_loss=-3.766e+03, last_val_loss=+4.310e+18, best_epoch=1, best_loss=+7.520e+11]\n",
            " 60%|██████    | 6/10 [04:52<03:14, 48.74s/it]"
          ],
          "name": "stderr"
        },
        {
          "output_type": "stream",
          "text": [
            "\n",
            "\n",
            "Iteration 5\n",
            "Meta Train Error 1.7079337984323502\n",
            "Meta Train Accuracy 0.1973684225231409\n",
            "Meta Valid Error 1.5406925529241562\n",
            "Meta Valid Accuracy 0.3750000074505806\n"
          ],
          "name": "stdout"
        },
        {
          "output_type": "stream",
          "text": [
            "11it [00:00, 11.82it/s, epoch_progress=100%, train_loss=-4.827e+03, last_val_loss=+8.132e+16, best_epoch=1, best_loss=+2.516e+11]\n",
            "11it [00:00, 11.60it/s, epoch_progress=100%, train_loss=-5.119e+03, last_val_loss=+1.657e+17, best_epoch=1, best_loss=+5.233e+10]\n",
            "11it [00:00, 11.81it/s, epoch_progress=100%, train_loss=-5.357e+03, last_val_loss=+6.300e+19, best_epoch=1, best_loss=+5.989e+12]\n",
            "11it [00:00, 11.88it/s, epoch_progress=100%, train_loss=-5.657e+03, last_val_loss=+2.925e+21, best_epoch=1, best_loss=+1.380e+14]\n",
            "11it [00:00, 11.96it/s, epoch_progress=100%, train_loss=-3.788e+03, last_val_loss=+3.810e+14, best_epoch=1, best_loss=+1.013e+10]\n",
            "11it [00:00, 11.81it/s, epoch_progress=100%, train_loss=-5.238e+03, last_val_loss=+6.232e+17, best_epoch=1, best_loss=+2.084e+12]\n",
            "11it [00:00, 11.47it/s, epoch_progress=100%, train_loss=-5.120e+03, last_val_loss=+3.094e+18, best_epoch=1, best_loss=+1.741e+13]\n",
            "11it [00:00, 11.43it/s, epoch_progress=100%, train_loss=-3.729e+03, last_val_loss=+4.120e+18, best_epoch=1, best_loss=+1.139e+12]\n",
            " 70%|███████   | 7/10 [05:39<02:25, 48.49s/it]"
          ],
          "name": "stderr"
        },
        {
          "output_type": "stream",
          "text": [
            "\n",
            "\n",
            "Iteration 6\n",
            "Meta Train Error 1.6576486378908157\n",
            "Meta Train Accuracy 0.20065789390355349\n",
            "Meta Valid Error 1.5018819570541382\n",
            "Meta Valid Accuracy 0.32500000670552254\n"
          ],
          "name": "stdout"
        },
        {
          "output_type": "stream",
          "text": [
            "11it [00:00, 11.36it/s, epoch_progress=100%, train_loss=-5.040e+03, last_val_loss=+5.715e+18, best_epoch=1, best_loss=+9.892e+11]\n",
            "11it [00:00, 11.70it/s, epoch_progress=100%, train_loss=-4.570e+03, last_val_loss=+1.546e+18, best_epoch=1, best_loss=+4.582e+11]\n",
            "11it [00:00, 11.33it/s, epoch_progress=100%, train_loss=-4.508e+03, last_val_loss=+4.087e+18, best_epoch=1, best_loss=+1.198e+11]\n",
            "11it [00:00, 11.90it/s, epoch_progress=100%, train_loss=-3.682e+03, last_val_loss=+3.442e+18, best_epoch=1, best_loss=+1.138e+12]\n",
            "11it [00:00, 12.04it/s, epoch_progress=100%, train_loss=-4.166e+03, last_val_loss=+3.334e+15, best_epoch=1, best_loss=+2.531e+10]\n",
            "11it [00:00, 11.71it/s, epoch_progress=100%, train_loss=-4.943e+03, last_val_loss=+1.462e+20, best_epoch=1, best_loss=+1.830e+13]\n",
            "11it [00:00, 11.70it/s, epoch_progress=100%, train_loss=-5.191e+03, last_val_loss=+2.335e+18, best_epoch=1, best_loss=+1.353e+12]\n",
            "11it [00:00, 11.83it/s, epoch_progress=100%, train_loss=-4.515e+03, last_val_loss=+7.115e+15, best_epoch=1, best_loss=+4.195e+09]\n",
            " 80%|████████  | 8/10 [06:27<01:36, 48.34s/it]"
          ],
          "name": "stderr"
        },
        {
          "output_type": "stream",
          "text": [
            "\n",
            "\n",
            "Iteration 7\n",
            "Meta Train Error 1.6730516105890274\n",
            "Meta Train Accuracy 0.1842105258256197\n",
            "Meta Valid Error 1.6758798509836197\n",
            "Meta Valid Accuracy 0.17500000447034836\n"
          ],
          "name": "stdout"
        },
        {
          "output_type": "stream",
          "text": [
            "11it [00:00, 11.92it/s, epoch_progress=100%, train_loss=-5.514e+03, last_val_loss=+2.095e+18, best_epoch=1, best_loss=+2.455e+12]\n",
            "11it [00:00, 11.65it/s, epoch_progress=100%, train_loss=-3.686e+03, last_val_loss=+1.685e+19, best_epoch=1, best_loss=+7.797e+11]\n",
            "11it [00:00, 11.57it/s, epoch_progress=100%, train_loss=-4.741e+03, last_val_loss=+4.193e+17, best_epoch=1, best_loss=+3.106e+12]\n",
            "11it [00:00, 11.21it/s, epoch_progress=100%, train_loss=-4.152e+03, last_val_loss=+8.628e+17, best_epoch=1, best_loss=+4.289e+10]\n",
            "11it [00:00, 11.28it/s, epoch_progress=100%, train_loss=-3.969e+03, last_val_loss=+1.898e+18, best_epoch=1, best_loss=+3.837e+11]\n",
            "11it [00:00, 11.62it/s, epoch_progress=100%, train_loss=-3.477e+03, last_val_loss=+1.367e+17, best_epoch=1, best_loss=+1.749e+11]\n",
            "12it [00:01,  8.07it/s, epoch_progress=100%, train_loss=-4.277e+03, last_val_loss=+1.541e+17, best_epoch=2, best_loss=+1.609e+12]\n",
            "11it [00:00, 12.06it/s, epoch_progress=100%, train_loss=-5.042e+03, last_val_loss=+2.942e+19, best_epoch=1, best_loss=+4.141e+12]\n",
            " 90%|█████████ | 9/10 [07:16<00:48, 48.45s/it]"
          ],
          "name": "stderr"
        },
        {
          "output_type": "stream",
          "text": [
            "\n",
            "\n",
            "Iteration 8\n",
            "Meta Train Error 1.6478504985570908\n",
            "Meta Train Accuracy 0.18750000186264515\n",
            "Meta Valid Error 1.6863006204366684\n",
            "Meta Valid Accuracy 0.25000000558793545\n"
          ],
          "name": "stdout"
        },
        {
          "output_type": "stream",
          "text": [
            "11it [00:00, 12.06it/s, epoch_progress=100%, train_loss=-4.030e+03, last_val_loss=+5.039e+15, best_epoch=1, best_loss=+1.847e+09]\n",
            "11it [00:00, 12.01it/s, epoch_progress=100%, train_loss=-3.451e+03, last_val_loss=+1.036e+17, best_epoch=1, best_loss=+1.138e+12]\n",
            "11it [00:00, 11.78it/s, epoch_progress=100%, train_loss=-4.673e+03, last_val_loss=+2.050e+19, best_epoch=1, best_loss=+1.725e+12]\n",
            "11it [00:00, 11.96it/s, epoch_progress=100%, train_loss=-4.347e+03, last_val_loss=+1.439e+20, best_epoch=1, best_loss=+5.935e+12]\n",
            "11it [00:00, 11.51it/s, epoch_progress=100%, train_loss=-4.239e+03, last_val_loss=+4.014e+15, best_epoch=1, best_loss=+3.388e+12]\n",
            "11it [00:00, 11.56it/s, epoch_progress=100%, train_loss=-4.773e+03, last_val_loss=+9.769e+18, best_epoch=1, best_loss=+2.612e+12]\n",
            "11it [00:00, 11.12it/s, epoch_progress=100%, train_loss=-5.729e+03, last_val_loss=+4.475e+20, best_epoch=1, best_loss=+5.595e+13]\n",
            "11it [00:00, 11.64it/s, epoch_progress=100%, train_loss=-4.535e+03, last_val_loss=+1.510e+20, best_epoch=1, best_loss=+6.432e+12]\n",
            "100%|██████████| 10/10 [08:04<00:00, 48.48s/it]"
          ],
          "name": "stderr"
        },
        {
          "output_type": "stream",
          "text": [
            "\n",
            "\n",
            "Iteration 9\n",
            "Meta Train Error 1.6649517565965652\n",
            "Meta Train Accuracy 0.19078947603702545\n",
            "Meta Valid Error 1.4921004176139832\n",
            "Meta Valid Accuracy 0.3500000089406967\n"
          ],
          "name": "stdout"
        },
        {
          "output_type": "stream",
          "text": [
            "\n"
          ],
          "name": "stderr"
        }
      ]
    },
    {
      "cell_type": "markdown",
      "metadata": {
        "id": "RLwRfWNm_lyG"
      },
      "source": [
        "CI 95%\n"
      ]
    },
    {
      "cell_type": "code",
      "metadata": {
        "id": "1_8s4d5wnBQf",
        "colab": {
          "base_uri": "https://localhost:8080/"
        },
        "outputId": "750cab34-5406-4bf8-e005-f50ecb7ac8e0"
      },
      "source": [
        "acc_acuracy=[]\n",
        "iterations=600\n",
        "\n",
        "for _ in range(iterations):\n",
        "  meta_test_error = 0.0\n",
        "  meta_test_accuracy = 0.0\n",
        "\n",
        "  for task in range(meta_batch_size):\n",
        "\n",
        "      # Compute meta-testing loss\n",
        "      learner = maml.clone()\n",
        "      batch = tasksets.test.sample()\n",
        "      evaluation_error, evaluation_accuracy = fast_adapt(batch,\n",
        "                                                          learner,\n",
        "                                                          loss,\n",
        "                                                          3,\n",
        "                                                          shots,\n",
        "                                                          ways,\n",
        "                                                          device)\n",
        "      meta_test_error += evaluation_error.item()\n",
        "      meta_test_accuracy += evaluation_accuracy.item()\n",
        "\n",
        "  # print('Meta Test Error', meta_test_error / meta_batch_size)\n",
        "  # print('Meta Test Accuracy', meta_test_accuracy / meta_batch_size)\n",
        "  acc_acuracy.append(meta_test_accuracy/meta_batch_size)\n",
        "\n",
        "\n",
        "acc_acuracy = np.array(acc_acuracy)\n",
        "means = np.mean(acc_acuracy, 0)\n",
        "stds = np.std(acc_acuracy, 0)\n",
        "ci95 = 1.96*stds/np.sqrt(iterations)\n",
        "\n",
        "print('Mean accuracy/loss, stddev, and confidence intervals')\n",
        "print((means, stds, ci95))"
      ],
      "execution_count": null,
      "outputs": [
        {
          "output_type": "stream",
          "text": [
            "Mean accuracy/loss, stddev, and confidence intervals\n",
            "(0.5365833435983708, 0.09937928944376485, 0.007951999304494365)\n"
          ],
          "name": "stdout"
        }
      ]
    },
    {
      "cell_type": "code",
      "metadata": {
        "id": "Sj45_mo0WkQo",
        "colab": {
          "base_uri": "https://localhost:8080/"
        },
        "outputId": "9c3a671d-6fee-42ba-8ac2-6bcb7a81d7b9"
      },
      "source": [
        "print(acc_acuracy[acc_acuracy.argmin()])\n",
        "print(acc_acuracy[acc_acuracy.argmax()])"
      ],
      "execution_count": null,
      "outputs": [
        {
          "output_type": "stream",
          "text": [
            "0.27500000409781933\n",
            "0.800000011920929\n"
          ],
          "name": "stdout"
        }
      ]
    },
    {
      "cell_type": "markdown",
      "metadata": {
        "id": "2sj20u2rclHs"
      },
      "source": [
        "**Random task accuracy**"
      ]
    },
    {
      "cell_type": "code",
      "metadata": {
        "colab": {
          "base_uri": "https://localhost:8080/"
        },
        "id": "SHcBj-EwGAbC",
        "outputId": "4acd7f24-a384-4744-b90b-644d6de114ec"
      },
      "source": [
        "meta_test_error = 0.0\n",
        "meta_test_accuracy = 0.0\n",
        "for task in range(meta_batch_size):\n",
        "\n",
        "    # Compute meta-testing loss\n",
        "    learner = maml.clone()\n",
        "    batch = tasksets.test.sample()\n",
        "    evaluation_error, evaluation_accuracy = fast_adapt(batch,\n",
        "                                                        learner,\n",
        "                                                        loss,\n",
        "                                                        3,\n",
        "                                                        shots,\n",
        "                                                        ways,\n",
        "                                                        device)\n",
        "    meta_test_error += evaluation_error.item()\n",
        "    meta_test_accuracy += evaluation_accuracy.item()\n",
        "print('Meta Test Error', meta_test_error / meta_batch_size)\n",
        "print('Meta Test Accuracy', meta_test_accuracy / meta_batch_size)"
      ],
      "execution_count": null,
      "outputs": [
        {
          "output_type": "stream",
          "text": [
            "Meta Test Error 1.940928265452385\n",
            "Meta Test Accuracy 0.3000000063329935\n"
          ],
          "name": "stdout"
        }
      ]
    },
    {
      "cell_type": "code",
      "metadata": {
        "colab": {
          "base_uri": "https://localhost:8080/"
        },
        "id": "h00dA1k-OUa9",
        "outputId": "101c7b99-a0ba-4536-865b-d86eda994941"
      },
      "source": [
        "meta_test_error = 0.0\n",
        "meta_test_accuracy = 0.0\n",
        "for task in range(meta_batch_size):\n",
        "\n",
        "    # Compute meta-testing loss\n",
        "    learner = maml.clone()\n",
        "    batch = tasksets.test.sample()\n",
        "    evaluation_error, evaluation_accuracy = fast_adapt(batch,\n",
        "                                                        learner,\n",
        "                                                        loss,\n",
        "                                                        3,\n",
        "                                                        shots,\n",
        "                                                        ways,\n",
        "                                                        device)\n",
        "    meta_test_error += evaluation_error.item()\n",
        "    meta_test_accuracy += evaluation_accuracy.item()\n",
        "print('Meta Test Error', meta_test_error / meta_batch_size)\n",
        "print('Meta Test Accuracy', meta_test_accuracy / meta_batch_size)"
      ],
      "execution_count": null,
      "outputs": [
        {
          "output_type": "stream",
          "text": [
            "Meta Test Error 0.6755867125466466\n",
            "Meta Test Accuracy 0.8000000044703484\n"
          ],
          "name": "stdout"
        }
      ]
    },
    {
      "cell_type": "code",
      "metadata": {
        "colab": {
          "base_uri": "https://localhost:8080/"
        },
        "id": "F6D3sMzxOafi",
        "outputId": "0125379a-b1fd-40c8-bcf9-0e3dee2ddf1e"
      },
      "source": [
        "meta_test_error = 0.0\n",
        "meta_test_accuracy = 0.0\n",
        "for task in range(meta_batch_size):\n",
        "\n",
        "    # Compute meta-testing loss\n",
        "\n",
        "    learner = maml.clone()\n",
        "    batch = tasksets.test.sample()\n",
        "    evaluation_error, evaluation_accuracy = fast_adapt(batch,\n",
        "                                                        learner,\n",
        "                                                        loss,\n",
        "                                                       5,\n",
        "                                                        shots,\n",
        "                                                        ways,\n",
        "                                                        device)\n",
        "    meta_test_error += evaluation_error.item()\n",
        "    meta_test_accuracy += evaluation_accuracy.item()\n",
        "print('Meta Test Error', meta_test_error / meta_batch_size)\n",
        "print('Meta Test Accuracy', meta_test_accuracy / meta_batch_size)"
      ],
      "execution_count": null,
      "outputs": [
        {
          "output_type": "stream",
          "text": [
            "Meta Test Error 1.1156090898439288\n",
            "Meta Test Accuracy 0.7000000085681677\n"
          ],
          "name": "stdout"
        }
      ]
    },
    {
      "cell_type": "markdown",
      "metadata": {
        "id": "rB_i9bvAXC46"
      },
      "source": [
        "**EXP 4**\n",
        "---\n",
        "\n",
        "**train the flow conditioned on the classes** \n",
        "\n",
        "**Convolutional neural network for calssification**   \n",
        "\n",
        "**5 ways 1 shots**\n",
        "\n",
        "**10 iterations** \n",
        "\n",
        "**batch size 8**\n",
        "\n",
        "normalizing flow of \n",
        "\n",
        "BatchNorm Layer \n",
        "\n",
        "MADE Layer\n",
        "\n",
        "----\n",
        "\n",
        "```\n",
        "\n",
        "for each task \n",
        "    train flow conditioned on task's classes\n",
        "    generate data (75 images)\n",
        "  fast adapt using generated data \n",
        "\n",
        "        \n",
        "```\n",
        "----\n",
        "**Results** \n",
        "\n",
        "**time 08:08 min**\n",
        "\n",
        "Mean accuracy/loss, stddev, and confidence intervals\n",
        "\n",
        "(0.5772083453182131, 0.08377996003121009, 0.006703792989742969)\n",
        "\n"
      ]
    },
    {
      "cell_type": "code",
      "metadata": {
        "id": "PmMlasrHPEZI"
      },
      "source": [
        "def accuracy(predictions, targets):\n",
        "    predictions = predictions.argmax(dim=1).view(targets.shape)\n",
        "    return (predictions == targets).sum().float() / targets.size(0)\n",
        "\n",
        "\n",
        "def fast_adapt(batch, learner, loss, adaptation_steps, shots, ways, device):\n",
        "    data, labels = batch\n",
        "    # print(\"data:  \",data.shape)\n",
        "    data, labels = data.to(device), labels.to(device, dtype=torch.int64)\n",
        "    # Separate data into adaptation/evalutation sets\n",
        "    adaptation_indices = np.zeros(data.size(0), dtype=bool)\n",
        "    adaptation_indices[np.arange(shots*ways) * 2] = True\n",
        "    evaluation_indices = torch.from_numpy(~adaptation_indices)\n",
        "    adaptation_indices = torch.from_numpy(adaptation_indices)\n",
        "    adaptation_data, adaptation_labels = data[adaptation_indices], labels[adaptation_indices]\n",
        "    evaluation_data, evaluation_labels = data[evaluation_indices], labels[evaluation_indices]\n",
        "\n",
        "    # Adapt the model\n",
        "    for step in range(adaptation_steps):\n",
        "        train_error = loss(learner(adaptation_data), adaptation_labels)\n",
        "        learner.adapt(train_error)\n",
        "\n",
        "\n",
        "    # Evaluate the adapted model\n",
        "    predictions = learner(evaluation_data)\n",
        "    valid_error = loss(predictions, evaluation_labels)\n",
        "    valid_accuracy = accuracy(predictions, evaluation_labels)\n",
        "    return valid_error, valid_accuracy\n",
        "\n",
        "\n",
        "def fast_adapt_train(batch, learner, loss, adaptation_steps, shots, ways, device):\n",
        "    data, labels = batch\n",
        "    # print(\"labels:  \",labels.shape)\n",
        "    data, labels = data.to(device), labels.to(device, dtype=torch.int64)\n",
        "    # Separate data into adaptation/evalutation sets\n",
        "    adaptation_indices = np.zeros(data.size(0), dtype=bool)\n",
        "    adaptation_indices[np.arange(37) * 2] = True\n",
        "\n",
        "    evaluation_indices = torch.from_numpy(~adaptation_indices)\n",
        "\n",
        "    adaptation_indices = torch.from_numpy(adaptation_indices)\n",
        "    adaptation_data, adaptation_labels = data[adaptation_indices], labels[adaptation_indices]\n",
        "    evaluation_data, evaluation_labels = data[evaluation_indices], labels[evaluation_indices]\n",
        "    # print(adaptation_data.shape)\n",
        "    # Adapt the model\n",
        "    for step in range(adaptation_steps):\n",
        "        train_error = loss(learner(adaptation_data), adaptation_labels)\n",
        "        learner.adapt(train_error)\n",
        "\n",
        "\n",
        "    # Evaluate the adapted model\n",
        "    predictions = learner(evaluation_data)\n",
        "    valid_error = loss(predictions, evaluation_labels)\n",
        "    valid_accuracy = accuracy(predictions, evaluation_labels)\n",
        "    return valid_error, valid_accuracy\n",
        "\n",
        "def train_flow (trainX ,cond_train, valX ,cond_val, device):\n",
        "\n",
        "  \n",
        "  # trainX has a shape of (count , channel , pixles,pixles)\n",
        "  \n",
        "\n",
        "  trainX = torch.flatten(trainX,1,-1)\n",
        "  valX = torch.flatten(valX , 1,-1)\n",
        "  dim=trainX.shape[1]\n",
        "  \n",
        "  # print(cond_train)\n",
        "  cond_train = torch.nn.functional.one_hot(cond_train)\n",
        "  cond_val   = torch.nn.functional.one_hot(cond_val) \n",
        "  # print(cond_train)\n",
        "  cond_dim = cond_train.size(1)\n",
        "  flow = Sequential(      \n",
        "\n",
        "# very slow in sampling \n",
        "    # inv_flow(Sigmoid)(dim=dim),\n",
        "    # BatchNorm(dim=dim),\n",
        "    # MADE(DSF(dim=dim)),\n",
        "    # Affine(dim=dim),  \n",
        "\n",
        "      BatchNorm(dim=dim),\n",
        "      MADE(AffineTransformer(dim=dim) , cond_dim=cond_dim),\n",
        "  ).to(device)\n",
        "\n",
        "\n",
        "  train_losses, val_losses = train(flow, trainX, valX ,cond_train=cond_train, cond_val=cond_val , patience=10 )\n",
        " \n",
        "  test_labels = np.random.choice(5, size=(75))\n",
        "  test_labels = torch.from_numpy(test_labels)\n",
        "  test_cond = torch.nn.functional.one_hot(test_labels)\n",
        "\n",
        "  with torch.no_grad():\n",
        "    train_data = flow.sample(75,cond=test_cond.to(device)).cpu()\n",
        "\n",
        "  # return train_data, train_losses , val_losses , mean , var\n",
        "  return torch.reshape(train_data , (75,1,28,28)) , test_labels\n",
        "\n",
        "\n"
      ],
      "execution_count": null,
      "outputs": []
    },
    {
      "cell_type": "code",
      "metadata": {
        "colab": {
          "base_uri": "https://localhost:8080/"
        },
        "id": "812zvxrHXqsI",
        "outputId": "daee6db0-09fb-4370-8481-0d8d3bba7fd6"
      },
      "source": [
        "ways=5\n",
        "shots=1\n",
        "meta_lr=0.003\n",
        "fast_lr=0.5\n",
        "meta_batch_size=8\n",
        "adaptation_steps=1\n",
        "num_iterations=10\n",
        "cuda=True\n",
        "# seed=42\n",
        "# Load train/validation/test tasksets using the benchmark interface\n",
        "tasksets = l2l.vision.benchmarks.get_tasksets('omniglot',\n",
        "                                                  train_ways=ways,\n",
        "                                                  train_samples=2*shots,\n",
        "                                                  test_ways=ways,\n",
        "                                                  test_samples=2*shots,\n",
        "                                                  num_tasks=20000,\n",
        "                                                  root='~/data',\n",
        "    )\n",
        "\n"
      ],
      "execution_count": null,
      "outputs": [
        {
          "output_type": "stream",
          "text": [
            "/usr/local/lib/python3.7/dist-packages/torchvision/transforms/transforms.py:281: UserWarning: Argument interpolation should be of type InterpolationMode instead of int. Please, use InterpolationMode enum.\n",
            "  \"Argument interpolation should be of type InterpolationMode instead of int. \"\n"
          ],
          "name": "stderr"
        },
        {
          "output_type": "stream",
          "text": [
            "Files already downloaded and verified\n",
            "Files already downloaded and verified\n"
          ],
          "name": "stdout"
        }
      ]
    },
    {
      "cell_type": "code",
      "metadata": {
        "colab": {
          "base_uri": "https://localhost:8080/"
        },
        "id": "nHTz_u4RXre9",
        "outputId": "e173a13a-ebed-4c70-ec8e-a4d2959523f4"
      },
      "source": [
        "device = torch.device('cpu')\n",
        "if cuda:\n",
        "  # torch.cuda.manual_seed(seed)\n",
        "  device = torch.device('cuda')\n",
        "\n",
        "# Create model\n",
        "model = l2l.vision.models.OmniglotCNN(ways)\n",
        "# model = l2l.vision.models.OmniglotFC(28 ** 2, ways)\n",
        "model.to(device)\n",
        "maml = l2l.algorithms.MAML(model, lr=fast_lr, first_order=False)\n",
        "opt = optim.Adam(maml.parameters(), meta_lr)\n",
        "loss = nn.CrossEntropyLoss(reduction='mean')\n",
        "\n",
        "\n",
        "from tqdm import tqdm\n",
        "\n",
        "for iteration in tqdm(range(num_iterations)):\n",
        "    opt.zero_grad()\n",
        "    meta_train_error = 0.0\n",
        "    meta_train_accuracy = 0.0\n",
        "    meta_valid_error = 0.0\n",
        "    meta_valid_accuracy = 0.0\n",
        "\n",
        "    for task in range(meta_batch_size):\n",
        "        # Compute meta-training loss\n",
        "        # learner = maml.clone()\n",
        "\n",
        "        # generate batch the batch contains # ways*shots , channels , img size  and labels \n",
        "        train_batch = tasksets.train.sample()\n",
        "        val_batch = tasksets.validation.sample()\n",
        "\n",
        "        # split batch based on classes in labels then   labels.split(int(data.shape[0]/ways))\n",
        "        train_data, train_labels = train_batch\n",
        "        val_data , val_labels= val_batch\n",
        "\n",
        "        \n",
        "        train_data_generator ,train_lable_generator  = train_flow (train_data ,train_labels , val_data, val_labels , device)\n",
        "\n",
        "        # train_data_generator = torch.cat(train_data_generator)\n",
        "        # train_lable_generator = torch.cat(train_lable_generator)\n",
        "        \n",
        "        batch = [train_data_generator ,train_lable_generator]\n",
        "\n",
        "        learner = maml.clone()            \n",
        "        \n",
        "        evaluation_error, evaluation_accuracy = fast_adapt_train(batch,\n",
        "                                                            learner,\n",
        "                                                            loss,\n",
        "                                                            adaptation_steps,\n",
        "                                                            shots,\n",
        "                                                            ways,\n",
        "                                                            device)\n",
        "        evaluation_error.backward()\n",
        "        meta_train_error += evaluation_error.item()\n",
        "        meta_train_accuracy += evaluation_accuracy.item()\n",
        "\n",
        "# ''''''''''''''''''''''''''''''''''''''''''''''''''''''''''''''''''''''''''''''''''''\n",
        "\n",
        "        # Compute meta-validation loss\n",
        "        batch = tasksets.validation.sample()\n",
        "        \n",
        "        learner = maml.clone()\n",
        "        evaluation_error, evaluation_accuracy = fast_adapt(batch,learner,loss,adaptation_steps,shots,ways,\n",
        "                                                            device)\n",
        "        meta_valid_error += evaluation_error.item()\n",
        "        meta_valid_accuracy += evaluation_accuracy.item()\n",
        "\n",
        "    # Print some metrics\n",
        "    print('\\n')\n",
        "    print('Iteration', iteration)\n",
        "    print('Meta Train Error', meta_train_error / meta_batch_size)\n",
        "    print('Meta Train Accuracy', meta_train_accuracy / meta_batch_size)\n",
        "    print('Meta Valid Error', meta_valid_error / meta_batch_size)\n",
        "    print('Meta Valid Accuracy', meta_valid_accuracy / meta_batch_size)\n",
        "\n",
        "    # Average the accumulated gradients and optimize\n",
        "    for p in maml.parameters():\n",
        "        p.grad.data.mul_(1.0 / meta_batch_size)\n",
        "    opt.step()\n"
      ],
      "execution_count": null,
      "outputs": [
        {
          "output_type": "stream",
          "text": [
            "11it [00:01, 10.97it/s, epoch_progress=100%, train_loss=-5.792e+03, last_val_loss=+1.122e+18, best_epoch=1, best_loss=+3.547e+11]\n",
            "11it [00:00, 11.48it/s, epoch_progress=100%, train_loss=-4.691e+03, last_val_loss=+6.838e+11, best_epoch=1, best_loss=+7.315e+07]\n",
            "11it [00:00, 11.73it/s, epoch_progress=100%, train_loss=-4.255e+03, last_val_loss=+7.798e+13, best_epoch=1, best_loss=+1.338e+10]\n",
            "12it [00:01,  7.85it/s, epoch_progress=100%, train_loss=-4.640e+03, last_val_loss=+6.173e+16, best_epoch=2, best_loss=+2.833e+13]\n",
            "11it [00:00, 11.80it/s, epoch_progress=100%, train_loss=-4.928e+03, last_val_loss=+1.025e+17, best_epoch=1, best_loss=+1.166e+11]\n",
            "11it [00:00, 12.13it/s, epoch_progress=100%, train_loss=-4.745e+03, last_val_loss=+2.632e+18, best_epoch=1, best_loss=+7.486e+10]\n",
            "11it [00:00, 11.93it/s, epoch_progress=100%, train_loss=-4.085e+03, last_val_loss=+2.717e+17, best_epoch=1, best_loss=+2.874e+10]\n",
            "11it [00:00, 12.08it/s, epoch_progress=100%, train_loss=-5.003e+03, last_val_loss=+6.313e+19, best_epoch=1, best_loss=+6.652e+13]\n",
            " 10%|█         | 1/10 [00:49<07:22, 49.19s/it]"
          ],
          "name": "stderr"
        },
        {
          "output_type": "stream",
          "text": [
            "\n",
            "\n",
            "Iteration 0\n",
            "Meta Train Error 2.7678613662719727\n",
            "Meta Train Accuracy 0.24342105351388454\n",
            "Meta Valid Error 2.1582921892404556\n",
            "Meta Valid Accuracy 0.4250000137835741\n"
          ],
          "name": "stdout"
        },
        {
          "output_type": "stream",
          "text": [
            "11it [00:00, 12.09it/s, epoch_progress=100%, train_loss=-4.661e+03, last_val_loss=+1.018e+15, best_epoch=1, best_loss=+2.851e+09]\n",
            "11it [00:00, 12.02it/s, epoch_progress=100%, train_loss=-4.709e+03, last_val_loss=+4.352e+18, best_epoch=1, best_loss=+6.695e+12]\n",
            "11it [00:00, 11.54it/s, epoch_progress=100%, train_loss=-4.849e+03, last_val_loss=+5.677e+16, best_epoch=1, best_loss=+9.780e+11]\n",
            "11it [00:00, 11.42it/s, epoch_progress=100%, train_loss=-5.448e+03, last_val_loss=+3.524e+17, best_epoch=1, best_loss=+1.298e+13]\n",
            "11it [00:00, 11.70it/s, epoch_progress=100%, train_loss=-4.934e+03, last_val_loss=+1.467e+19, best_epoch=1, best_loss=+8.220e+11]\n",
            "11it [00:00, 11.56it/s, epoch_progress=100%, train_loss=-4.747e+03, last_val_loss=+1.300e+18, best_epoch=1, best_loss=+2.006e+12]\n",
            "11it [00:00, 12.05it/s, epoch_progress=100%, train_loss=-5.490e+03, last_val_loss=+2.138e+19, best_epoch=1, best_loss=+9.755e+12]\n",
            "12it [00:01,  7.43it/s, epoch_progress=100%, train_loss=-4.659e+03, last_val_loss=+5.954e+12, best_epoch=2, best_loss=+5.472e+09]\n",
            " 20%|██        | 2/10 [01:37<06:31, 48.97s/it]"
          ],
          "name": "stderr"
        },
        {
          "output_type": "stream",
          "text": [
            "\n",
            "\n",
            "Iteration 1\n",
            "Meta Train Error 2.843963325023651\n",
            "Meta Train Accuracy 0.19407894648611546\n",
            "Meta Valid Error 2.506077229976654\n",
            "Meta Valid Accuracy 0.30000000447034836\n"
          ],
          "name": "stdout"
        },
        {
          "output_type": "stream",
          "text": [
            "11it [00:00, 11.89it/s, epoch_progress=100%, train_loss=-4.115e+03, last_val_loss=+1.379e+19, best_epoch=1, best_loss=+3.372e+11]\n",
            "11it [00:00, 11.91it/s, epoch_progress=100%, train_loss=-5.259e+03, last_val_loss=+4.146e+19, best_epoch=1, best_loss=+1.257e+12]\n",
            "11it [00:00, 11.52it/s, epoch_progress=100%, train_loss=-3.597e+03, last_val_loss=+5.914e+16, best_epoch=1, best_loss=+4.777e+09]\n",
            "11it [00:00, 11.58it/s, epoch_progress=100%, train_loss=-4.333e+03, last_val_loss=+1.487e+17, best_epoch=1, best_loss=+3.193e+10]\n",
            "11it [00:00, 11.92it/s, epoch_progress=100%, train_loss=-4.323e+03, last_val_loss=+1.172e+19, best_epoch=1, best_loss=+9.790e+11]\n",
            "11it [00:00, 11.63it/s, epoch_progress=100%, train_loss=-5.500e+03, last_val_loss=+5.529e+20, best_epoch=1, best_loss=+1.939e+13]\n",
            "11it [00:00, 11.74it/s, epoch_progress=100%, train_loss=-5.441e+03, last_val_loss=+3.030e+18, best_epoch=1, best_loss=+1.508e+12]\n",
            "12it [00:01,  7.97it/s, epoch_progress=100%, train_loss=-4.202e+03, last_val_loss=+5.243e+16, best_epoch=2, best_loss=+5.585e+11]\n",
            " 30%|███       | 3/10 [02:26<05:42, 48.91s/it]"
          ],
          "name": "stderr"
        },
        {
          "output_type": "stream",
          "text": [
            "\n",
            "\n",
            "Iteration 2\n",
            "Meta Train Error 2.9460259675979614\n",
            "Meta Train Accuracy 0.23355263844132423\n",
            "Meta Valid Error 1.757523387670517\n",
            "Meta Valid Accuracy 0.45000001043081284\n"
          ],
          "name": "stdout"
        },
        {
          "output_type": "stream",
          "text": [
            "11it [00:00, 11.65it/s, epoch_progress=100%, train_loss=-4.539e+03, last_val_loss=+1.455e+19, best_epoch=1, best_loss=+1.025e+13]\n",
            "12it [00:01,  7.64it/s, epoch_progress=100%, train_loss=-4.585e+03, last_val_loss=+1.954e+15, best_epoch=2, best_loss=+7.319e+10]\n",
            "11it [00:00, 11.63it/s, epoch_progress=100%, train_loss=-4.413e+03, last_val_loss=+8.660e+17, best_epoch=1, best_loss=+9.762e+11]\n",
            "11it [00:00, 11.66it/s, epoch_progress=100%, train_loss=-4.753e+03, last_val_loss=+2.090e+20, best_epoch=1, best_loss=+7.221e+12]\n",
            "12it [00:01,  8.09it/s, epoch_progress=100%, train_loss=-5.349e+03, last_val_loss=+3.943e+16, best_epoch=2, best_loss=+8.735e+11]\n",
            "11it [00:00, 11.74it/s, epoch_progress=100%, train_loss=-4.244e+03, last_val_loss=+6.625e+17, best_epoch=1, best_loss=+1.404e+12]\n",
            "11it [00:00, 11.62it/s, epoch_progress=100%, train_loss=-5.197e+03, last_val_loss=+9.028e+20, best_epoch=1, best_loss=+9.054e+13]\n",
            "11it [00:00, 11.91it/s, epoch_progress=100%, train_loss=-5.070e+03, last_val_loss=+1.369e+18, best_epoch=1, best_loss=+1.787e+12]\n",
            " 40%|████      | 4/10 [03:15<04:53, 48.98s/it]"
          ],
          "name": "stderr"
        },
        {
          "output_type": "stream",
          "text": [
            "\n",
            "\n",
            "Iteration 3\n",
            "Meta Train Error 2.7165703773498535\n",
            "Meta Train Accuracy 0.2434210479259491\n",
            "Meta Valid Error 2.2326009422540665\n",
            "Meta Valid Accuracy 0.4250000137835741\n"
          ],
          "name": "stdout"
        },
        {
          "output_type": "stream",
          "text": [
            "11it [00:00, 11.90it/s, epoch_progress=100%, train_loss=-5.125e+03, last_val_loss=+2.060e+19, best_epoch=1, best_loss=+8.876e+12]\n",
            "11it [00:00, 12.18it/s, epoch_progress=100%, train_loss=-4.196e+03, last_val_loss=+3.819e+18, best_epoch=1, best_loss=+2.298e+11]\n",
            "11it [00:00, 12.00it/s, epoch_progress=100%, train_loss=-4.819e+03, last_val_loss=+3.643e+17, best_epoch=1, best_loss=+1.719e+11]\n",
            "11it [00:00, 11.75it/s, epoch_progress=100%, train_loss=-4.066e+03, last_val_loss=+6.557e+19, best_epoch=1, best_loss=+3.583e+12]\n",
            "11it [00:00, 12.03it/s, epoch_progress=100%, train_loss=-4.736e+03, last_val_loss=+1.243e+20, best_epoch=1, best_loss=+5.993e+12]\n",
            "11it [00:00, 12.04it/s, epoch_progress=100%, train_loss=-5.333e+03, last_val_loss=+3.395e+18, best_epoch=1, best_loss=+9.473e+11]\n",
            "11it [00:00, 11.70it/s, epoch_progress=100%, train_loss=-4.226e+03, last_val_loss=+2.078e+17, best_epoch=1, best_loss=+1.089e+11]\n",
            "12it [00:01,  7.99it/s, epoch_progress=100%, train_loss=-5.361e+03, last_val_loss=+2.193e+15, best_epoch=2, best_loss=+5.364e+10]\n",
            " 50%|█████     | 5/10 [04:04<04:04, 48.84s/it]"
          ],
          "name": "stderr"
        },
        {
          "output_type": "stream",
          "text": [
            "\n",
            "\n",
            "Iteration 4\n",
            "Meta Train Error 2.883127599954605\n",
            "Meta Train Accuracy 0.16776315681636333\n",
            "Meta Valid Error 2.2741770446300507\n",
            "Meta Valid Accuracy 0.3750000074505806\n"
          ],
          "name": "stdout"
        },
        {
          "output_type": "stream",
          "text": [
            "11it [00:00, 11.66it/s, epoch_progress=100%, train_loss=-5.129e+03, last_val_loss=+5.653e+20, best_epoch=1, best_loss=+6.937e+12]\n",
            "11it [00:00, 11.94it/s, epoch_progress=100%, train_loss=-5.376e+03, last_val_loss=+1.829e+18, best_epoch=1, best_loss=+5.488e+11]\n",
            "11it [00:00, 12.06it/s, epoch_progress=100%, train_loss=-4.377e+03, last_val_loss=+1.285e+20, best_epoch=1, best_loss=+1.688e+13]\n",
            "11it [00:00, 11.91it/s, epoch_progress=100%, train_loss=-4.984e+03, last_val_loss=+4.545e+19, best_epoch=1, best_loss=+4.301e+12]\n",
            "11it [00:00, 12.00it/s, epoch_progress=100%, train_loss=-4.805e+03, last_val_loss=+2.107e+16, best_epoch=1, best_loss=+9.657e+10]\n",
            "11it [00:00, 12.02it/s, epoch_progress=100%, train_loss=-5.884e+03, last_val_loss=+5.268e+19, best_epoch=1, best_loss=+3.948e+12]\n",
            "11it [00:00, 11.89it/s, epoch_progress=100%, train_loss=-4.809e+03, last_val_loss=+4.946e+13, best_epoch=1, best_loss=+6.692e+10]\n",
            "11it [00:00, 11.91it/s, epoch_progress=100%, train_loss=-4.272e+03, last_val_loss=+3.042e+18, best_epoch=1, best_loss=+1.775e+12]\n",
            " 60%|██████    | 6/10 [04:51<03:14, 48.51s/it]"
          ],
          "name": "stderr"
        },
        {
          "output_type": "stream",
          "text": [
            "\n",
            "\n",
            "Iteration 5\n",
            "Meta Train Error 3.127958804368973\n",
            "Meta Train Accuracy 0.2368421070277691\n",
            "Meta Valid Error 1.5737414211034775\n",
            "Meta Valid Accuracy 0.5250000152736902\n"
          ],
          "name": "stdout"
        },
        {
          "output_type": "stream",
          "text": [
            "11it [00:00, 11.50it/s, epoch_progress=100%, train_loss=-5.059e+03, last_val_loss=+8.882e+18, best_epoch=1, best_loss=+8.785e+12]\n",
            "11it [00:00, 11.72it/s, epoch_progress=100%, train_loss=-5.133e+03, last_val_loss=+4.477e+18, best_epoch=1, best_loss=+1.984e+13]\n",
            "11it [00:00, 11.39it/s, epoch_progress=100%, train_loss=-4.250e+03, last_val_loss=+2.935e+18, best_epoch=1, best_loss=+4.264e+12]\n",
            "11it [00:00, 11.38it/s, epoch_progress=100%, train_loss=-4.862e+03, last_val_loss=+1.497e+18, best_epoch=1, best_loss=+8.947e+11]\n",
            "11it [00:00, 11.77it/s, epoch_progress=100%, train_loss=-4.611e+03, last_val_loss=+1.960e+16, best_epoch=1, best_loss=+3.318e+09]\n",
            "11it [00:00, 12.25it/s, epoch_progress=100%, train_loss=-4.917e+03, last_val_loss=+1.454e+16, best_epoch=1, best_loss=+1.602e+11]\n",
            "16it [00:03,  4.84it/s, epoch_progress=100%, train_loss=-4.739e+03, last_val_loss=+6.504e+13, best_epoch=6, best_loss=+1.590e+11]\n",
            "12it [00:01,  8.21it/s, epoch_progress=100%, train_loss=-4.167e+03, last_val_loss=+2.583e+14, best_epoch=2, best_loss=+5.586e+10]\n",
            " 70%|███████   | 7/10 [05:42<02:27, 49.24s/it]"
          ],
          "name": "stderr"
        },
        {
          "output_type": "stream",
          "text": [
            "\n",
            "\n",
            "Iteration 6\n",
            "Meta Train Error 2.6496198177337646\n",
            "Meta Train Accuracy 0.18092105351388454\n",
            "Meta Valid Error 2.1027347445487976\n",
            "Meta Valid Accuracy 0.3250000048428774\n"
          ],
          "name": "stdout"
        },
        {
          "output_type": "stream",
          "text": [
            "11it [00:00, 12.02it/s, epoch_progress=100%, train_loss=-4.793e+03, last_val_loss=+8.293e+13, best_epoch=1, best_loss=+7.987e+09]\n",
            "11it [00:00, 12.00it/s, epoch_progress=100%, train_loss=-5.322e+03, last_val_loss=+8.923e+18, best_epoch=1, best_loss=+1.223e+14]\n",
            "11it [00:00, 11.67it/s, epoch_progress=100%, train_loss=-4.013e+03, last_val_loss=+1.234e+18, best_epoch=1, best_loss=+2.390e+12]\n",
            "11it [00:00, 11.90it/s, epoch_progress=100%, train_loss=-4.681e+03, last_val_loss=+4.901e+18, best_epoch=1, best_loss=+5.018e+12]\n",
            "11it [00:00, 11.63it/s, epoch_progress=100%, train_loss=-4.630e+03, last_val_loss=+8.594e+17, best_epoch=1, best_loss=+1.650e+13]\n",
            "11it [00:00, 11.63it/s, epoch_progress=100%, train_loss=-4.351e+03, last_val_loss=+1.928e+18, best_epoch=1, best_loss=+1.064e+12]\n",
            "11it [00:00, 11.79it/s, epoch_progress=100%, train_loss=-4.548e+03, last_val_loss=+7.002e+14, best_epoch=1, best_loss=+2.507e+11]\n",
            "11it [00:00, 11.87it/s, epoch_progress=100%, train_loss=-4.465e+03, last_val_loss=+1.160e+17, best_epoch=1, best_loss=+2.273e+11]\n",
            " 80%|████████  | 8/10 [06:30<01:37, 48.93s/it]"
          ],
          "name": "stderr"
        },
        {
          "output_type": "stream",
          "text": [
            "\n",
            "\n",
            "Iteration 7\n",
            "Meta Train Error 2.564416065812111\n",
            "Meta Train Accuracy 0.2335526291280985\n",
            "Meta Valid Error 1.8769275546073914\n",
            "Meta Valid Accuracy 0.500000013038516\n"
          ],
          "name": "stdout"
        },
        {
          "output_type": "stream",
          "text": [
            "11it [00:00, 11.89it/s, epoch_progress=100%, train_loss=-4.784e+03, last_val_loss=+1.376e+19, best_epoch=1, best_loss=+4.831e+11]\n",
            "12it [00:01,  7.47it/s, epoch_progress=100%, train_loss=-4.824e+03, last_val_loss=+2.398e+16, best_epoch=2, best_loss=+3.564e+12]\n",
            "11it [00:00, 11.97it/s, epoch_progress=100%, train_loss=-5.001e+03, last_val_loss=+1.299e+18, best_epoch=1, best_loss=+6.717e+12]\n",
            "11it [00:00, 12.04it/s, epoch_progress=100%, train_loss=-4.447e+03, last_val_loss=+4.501e+19, best_epoch=1, best_loss=+4.287e+12]\n",
            "11it [00:00, 12.00it/s, epoch_progress=100%, train_loss=-4.703e+03, last_val_loss=+1.044e+19, best_epoch=1, best_loss=+4.059e+14]\n",
            "11it [00:00, 11.85it/s, epoch_progress=100%, train_loss=-5.663e+03, last_val_loss=+5.852e+19, best_epoch=1, best_loss=+1.078e+14]\n",
            "11it [00:00, 11.46it/s, epoch_progress=100%, train_loss=-5.809e+03, last_val_loss=+1.119e+19, best_epoch=1, best_loss=+3.205e+12]\n",
            "11it [00:00, 11.93it/s, epoch_progress=100%, train_loss=-3.985e+03, last_val_loss=+1.466e+19, best_epoch=1, best_loss=+4.992e+12]\n",
            " 90%|█████████ | 9/10 [07:19<00:48, 48.79s/it]"
          ],
          "name": "stderr"
        },
        {
          "output_type": "stream",
          "text": [
            "\n",
            "\n",
            "Iteration 8\n",
            "Meta Train Error 2.4534398913383484\n",
            "Meta Train Accuracy 0.22368421033024788\n",
            "Meta Valid Error 1.7653998658061028\n",
            "Meta Valid Accuracy 0.4500000160187483\n"
          ],
          "name": "stdout"
        },
        {
          "output_type": "stream",
          "text": [
            "11it [00:00, 12.08it/s, epoch_progress=100%, train_loss=-5.357e+03, last_val_loss=+3.492e+16, best_epoch=1, best_loss=+3.435e+12]\n",
            "11it [00:00, 11.70it/s, epoch_progress=100%, train_loss=-5.084e+03, last_val_loss=+2.583e+17, best_epoch=1, best_loss=+7.178e+10]\n",
            "11it [00:00, 11.78it/s, epoch_progress=100%, train_loss=-4.460e+03, last_val_loss=+6.766e+16, best_epoch=1, best_loss=+1.486e+11]\n",
            "12it [00:01,  8.19it/s, epoch_progress=100%, train_loss=-3.932e+03, last_val_loss=+1.084e+16, best_epoch=2, best_loss=+2.144e+11]\n",
            "11it [00:00, 11.64it/s, epoch_progress=100%, train_loss=-4.921e+03, last_val_loss=+3.727e+17, best_epoch=1, best_loss=+5.269e+11]\n",
            "12it [00:01,  7.68it/s, epoch_progress=100%, train_loss=-3.763e+03, last_val_loss=+4.478e+16, best_epoch=2, best_loss=+1.109e+12]\n",
            "11it [00:00, 11.84it/s, epoch_progress=100%, train_loss=-3.610e+03, last_val_loss=+2.567e+14, best_epoch=1, best_loss=+9.350e+08]\n",
            "11it [00:00, 12.06it/s, epoch_progress=100%, train_loss=-5.463e+03, last_val_loss=+4.320e+18, best_epoch=1, best_loss=+6.813e+12]\n",
            "100%|██████████| 10/10 [08:08<00:00, 48.85s/it]"
          ],
          "name": "stderr"
        },
        {
          "output_type": "stream",
          "text": [
            "\n",
            "\n",
            "Iteration 9\n",
            "Meta Train Error 2.5408490896224976\n",
            "Meta Train Accuracy 0.22697368822991848\n",
            "Meta Valid Error 1.9616957008838654\n",
            "Meta Valid Accuracy 0.30000000819563866\n"
          ],
          "name": "stdout"
        },
        {
          "output_type": "stream",
          "text": [
            "\n"
          ],
          "name": "stderr"
        }
      ]
    },
    {
      "cell_type": "markdown",
      "metadata": {
        "id": "WL1RsT2S_2Ls"
      },
      "source": [
        "CI 95%"
      ]
    },
    {
      "cell_type": "code",
      "metadata": {
        "colab": {
          "base_uri": "https://localhost:8080/"
        },
        "id": "xxUsal_kfA-k",
        "outputId": "132d6ce7-4486-4c58-ec78-9285373551ee"
      },
      "source": [
        "acc_acuracy=[]\n",
        "iterations= 600\n",
        "for _ in range(iterations):\n",
        "  meta_test_error = 0.0\n",
        "  meta_test_accuracy = 0.0\n",
        "\n",
        "  for task in range(meta_batch_size):\n",
        "\n",
        "      # Compute meta-testing loss\n",
        "      learner = maml.clone()\n",
        "      batch = tasksets.test.sample()\n",
        "      evaluation_error, evaluation_accuracy = fast_adapt(batch,\n",
        "                                                          learner,\n",
        "                                                          loss,\n",
        "                                                          3,\n",
        "                                                          shots,\n",
        "                                                          ways,\n",
        "                                                          device)\n",
        "      meta_test_error += evaluation_error.item()\n",
        "      meta_test_accuracy += evaluation_accuracy.item()\n",
        "\n",
        "  # print('Meta Test Error', meta_test_error / meta_batch_size)\n",
        "  # print('Meta Test Accuracy', meta_test_accuracy / meta_batch_size)\n",
        "  acc_acuracy.append(meta_test_accuracy/meta_batch_size)\n",
        "\n",
        "\n",
        "acc_acuracy = np.array(acc_acuracy)\n",
        "means = np.mean(acc_acuracy, 0)\n",
        "stds = np.std(acc_acuracy, 0)\n",
        "ci95 = 1.96*stds/np.sqrt(iterations)\n",
        "\n",
        "print('Mean accuracy/loss, stddev, and confidence intervals')\n",
        "print((means, stds, ci95))"
      ],
      "execution_count": null,
      "outputs": [
        {
          "output_type": "stream",
          "text": [
            "Mean accuracy/loss, stddev, and confidence intervals\n",
            "(0.5772083453182131, 0.08377996003121009, 0.006703792989742969)\n"
          ],
          "name": "stdout"
        }
      ]
    },
    {
      "cell_type": "code",
      "metadata": {
        "colab": {
          "base_uri": "https://localhost:8080/"
        },
        "id": "qHJoP21SHjHP",
        "outputId": "5c363d55-5c01-464d-b0d4-f523dac8361a"
      },
      "source": [
        "print(acc_acuracy[acc_acuracy.argmin()])\n",
        "print(acc_acuracy[acc_acuracy.argmax()])"
      ],
      "execution_count": null,
      "outputs": [
        {
          "output_type": "stream",
          "text": [
            "0.32500000670552254\n",
            "0.800000011920929\n"
          ],
          "name": "stdout"
        }
      ]
    },
    {
      "cell_type": "markdown",
      "metadata": {
        "id": "EHIXEMHPewQL"
      },
      "source": [
        "**Result random task**"
      ]
    },
    {
      "cell_type": "code",
      "metadata": {
        "colab": {
          "base_uri": "https://localhost:8080/"
        },
        "id": "wP-Xq3UEuyP-",
        "outputId": "04dfd088-0bfc-45e7-bd80-181e4391d2b8"
      },
      "source": [
        "meta_test_error = 0.0\n",
        "meta_test_accuracy = 0.0\n",
        "for task in range(meta_batch_size):\n",
        "\n",
        "    # Compute meta-testing loss\n",
        "    learner = maml.clone()\n",
        "    batch = tasksets.test.sample()\n",
        "    evaluation_error, evaluation_accuracy = fast_adapt(batch,\n",
        "                                                        learner,\n",
        "                                                        loss,\n",
        "                                                        5,\n",
        "                                                        shots,\n",
        "                                                        ways,\n",
        "                                                        device)\n",
        "    meta_test_error += evaluation_error.item()\n",
        "    meta_test_accuracy += evaluation_accuracy.item()\n",
        "print('Meta Test Error', meta_test_error / meta_batch_size)\n",
        "print('Meta Test Accuracy', meta_test_accuracy / meta_batch_size)"
      ],
      "execution_count": null,
      "outputs": [
        {
          "output_type": "stream",
          "text": [
            "Meta Test Error 1.2538875718601048\n",
            "Meta Test Accuracy 0.5687500131316483\n"
          ],
          "name": "stdout"
        }
      ]
    },
    {
      "cell_type": "code",
      "metadata": {
        "colab": {
          "base_uri": "https://localhost:8080/"
        },
        "id": "Di6xdcyzXr2e",
        "outputId": "1eaf08a7-0764-4199-bf77-aa0b03314d80"
      },
      "source": [
        "meta_test_error = 0.0\n",
        "meta_test_accuracy = 0.0\n",
        "for task in range(meta_batch_size):\n",
        "\n",
        "    # Compute meta-testing loss\n",
        "    learner = maml.clone()\n",
        "    batch = tasksets.test.sample()\n",
        "    evaluation_error, evaluation_accuracy = fast_adapt(batch,\n",
        "                                                        learner,\n",
        "                                                        loss,\n",
        "                                                        5,\n",
        "                                                        shots,\n",
        "                                                        ways,\n",
        "                                                        device)\n",
        "    meta_test_error += evaluation_error.item()\n",
        "    meta_test_accuracy += evaluation_accuracy.item()\n",
        "print('Meta Test Error', meta_test_error / meta_batch_size)\n",
        "print('Meta Test Accuracy', meta_test_accuracy / meta_batch_size)"
      ],
      "execution_count": null,
      "outputs": [
        {
          "output_type": "stream",
          "text": [
            "Meta Test Error 1.1046872679144144\n",
            "Meta Test Accuracy 0.6000000089406967\n"
          ],
          "name": "stdout"
        }
      ]
    },
    {
      "cell_type": "code",
      "metadata": {
        "colab": {
          "base_uri": "https://localhost:8080/"
        },
        "id": "9GVvhnaabDZ1",
        "outputId": "679e2bea-1a27-4a9c-ac84-9b88781a6792"
      },
      "source": [
        "meta_test_error = 0.0\n",
        "meta_test_accuracy = 0.0\n",
        "for task in range(meta_batch_size):\n",
        "\n",
        "    # Compute meta-testing loss\n",
        "    learner = maml.clone()\n",
        "    batch = tasksets.test.sample()\n",
        "    evaluation_error, evaluation_accuracy = fast_adapt(batch,\n",
        "                                                        learner,\n",
        "                                                        loss,\n",
        "                                                        5,\n",
        "                                                        shots,\n",
        "                                                        ways,\n",
        "                                                        device)\n",
        "    meta_test_error += evaluation_error.item()\n",
        "    meta_test_accuracy += evaluation_accuracy.item()\n",
        "print('Meta Test Error', meta_test_error / meta_batch_size)\n",
        "print('Meta Test Accuracy', meta_test_accuracy / meta_batch_size)"
      ],
      "execution_count": null,
      "outputs": [
        {
          "output_type": "stream",
          "text": [
            "Meta Test Error 0.7923296503722668\n",
            "Meta Test Accuracy 0.7500000111758709\n"
          ],
          "name": "stdout"
        }
      ]
    },
    {
      "cell_type": "code",
      "metadata": {
        "colab": {
          "base_uri": "https://localhost:8080/"
        },
        "id": "l5yNZKF5oVjH",
        "outputId": "44b3d714-a7a1-4e3b-9234-a080b9de2e02"
      },
      "source": [
        "meta_test_error = 0.0\n",
        "meta_test_accuracy = 0.0\n",
        "for task in range(meta_batch_size):\n",
        "\n",
        "    # Compute meta-testing loss\n",
        "    learner = maml.clone()\n",
        "    batch = tasksets.test.sample()\n",
        "    evaluation_error, evaluation_accuracy = fast_adapt(batch,\n",
        "                                                        learner,\n",
        "                                                        loss,\n",
        "                                                        3,\n",
        "                                                        shots,\n",
        "                                                        ways,\n",
        "                                                        device)\n",
        "    meta_test_error += evaluation_error.item()\n",
        "    meta_test_accuracy += evaluation_accuracy.item()\n",
        "print('Meta Test Error', meta_test_error / meta_batch_size)\n",
        "print('Meta Test Accuracy', meta_test_accuracy / meta_batch_size)"
      ],
      "execution_count": null,
      "outputs": [
        {
          "output_type": "stream",
          "text": [
            "Meta Test Error 0.8685418516397476\n",
            "Meta Test Accuracy 0.625000013038516\n"
          ],
          "name": "stdout"
        }
      ]
    }
  ]
}